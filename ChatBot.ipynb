{
  "nbformat": 4,
  "nbformat_minor": 0,
  "metadata": {
    "colab": {
      "name": "ChatBot.ipynb",
      "provenance": [],
      "collapsed_sections": [
        "rKZtAV4zK0Ud",
        "6EWIFDxfteOe"
      ],
      "mount_file_id": "1wWc0yqx4cu4YaLKX8wwbXpSlEhffyms5",
      "authorship_tag": "ABX9TyNPVnMTD+xN7vefXRr+6YC/",
      "include_colab_link": true
    },
    "kernelspec": {
      "name": "python3",
      "display_name": "Python 3"
    },
    "language_info": {
      "name": "python"
    }
  },
  "cells": [
    {
      "cell_type": "markdown",
      "metadata": {
        "id": "view-in-github",
        "colab_type": "text"
      },
      "source": [
        "<a href=\"https://colab.research.google.com/github/drbarak/NLP-FinalProject/blob/main/ChatBot.ipynb\" target=\"_parent\"><img src=\"https://colab.research.google.com/assets/colab-badge.svg\" alt=\"Open In Colab\"/></a>"
      ]
    },
    {
      "cell_type": "code",
      "metadata": {
        "id": "Dm8z8ugS4qIV"
      },
      "source": [
        "# if fails to send open google 'unlock captcha' and activate it https://accounts.google.com/b/0/DisplayUnlockCaptcha\n",
        "EMAIL = False\n",
        "if EMAIL:\n",
        "  import smtplib\n",
        "  p = print\n",
        "\n",
        "  from email.message import EmailMessage\n",
        "\n",
        "  msg = EmailMessage()\n",
        "  msg['Subject'] = 'New user'\n",
        "  msg['From'] = \"Weatherbot <dr.zvibarak@gmail.com>\"\n",
        "  msg['To'] = \"drbarak@talkie.co.il\"\n",
        "  msg.set_content('This is my message')\n",
        "\n",
        "  try:\n",
        "    smtpObj = smtplib.SMTP('smtp.gmail.com', 587)\n",
        "    smtpObj.starttls()\n",
        "    smtpObj.login('dr.zvibarak@gmail.com', 'shushu1952')\n",
        "    smtpObj.send_message(msg)\n",
        "    smtpObj.quit()         \n",
        "    print(\"Successfully sent email\")\n",
        "  except Exception as e:# SMTPException:\n",
        "    print(\"Error: unable to send email\")\n",
        "    p(e)\n"
      ],
      "execution_count": 1,
      "outputs": []
    },
    {
      "cell_type": "markdown",
      "metadata": {
        "id": "4imYrVOXh0hO"
      },
      "source": [
        "SMTPAuthenticationError: (534, b'5.7.14 <https://accounts.google.com/signin/continue?sarp=1&scc=1&plt=AKgnsbu\\n5.7.14 wikqxaraOBaoJ8uaTDqCVoXmzPp36d_A6D8Ay2dQ-cRIGSVS1O88IW5d5hVoC21k64yZ8\\n5.7.14 zt8t4BLQx1zO_S0arOXBdjPX4pd3KRLEhWoYyXJorkcAkitmYm1SAhepjia4Eep4>\\n5.7.14 Please log in via your web browser and then try again.\\n5.7.14  Learn more at\\n5.7.14  https://support.google.com/mail/answer/78754 m13sm2830102vsl.16 - gsmtp')"
      ]
    },
    {
      "cell_type": "code",
      "metadata": {
        "id": "dB2riNzw6QD6"
      },
      "source": [
        "INSTALL = False\n",
        "if INSTALL:\n",
        "  # to switch version of spacy\n",
        "  !pip uninstall spacy\n",
        "  !pip uninstall en_core_web_mdy\n",
        "  \n",
        "  !pip install spacy==2.2.4 #3.0.6\n",
        "\n",
        "  !pip install pyforest\n",
        "  #!pip install wget\n",
        "  !python -m spacy download en_core_web_md"
      ],
      "execution_count": 2,
      "outputs": []
    },
    {
      "cell_type": "markdown",
      "metadata": {
        "id": "UENbsDfWvtF2"
      },
      "source": [
        "# INIT"
      ]
    },
    {
      "cell_type": "code",
      "metadata": {
        "id": "a_gXeiB58h8k"
      },
      "source": [
        "from importlib import import_module\n",
        "p = print\n",
        "def my_import(lib, package=None, func=None, version=None):\n",
        "  try:\n",
        "    import_module(lib)\n",
        "  except:\n",
        "    if package is None: package = lib\n",
        "    if version:\n",
        "      p('pip install \"{package}=={version}\"')\n",
        "      !pip install \"{package}=={version}\"\n",
        "    else:\n",
        "      p('pip install \"{package}\"')\n",
        "      !pip install \"{package}\"\n",
        "    import_module(lib)\n",
        "  \n",
        "  if func is not None:\n",
        "    return import_module(lib).__getattribute__(func)"
      ],
      "execution_count": 3,
      "outputs": []
    },
    {
      "cell_type": "code",
      "metadata": {
        "id": "RgpLToDvAC0z"
      },
      "source": [
        "my_import('pyforest')\n",
        "import json, bs4\n",
        "import string\n",
        "import random\n",
        "import time\n",
        "\n",
        "remove_punct_dict = dict((ord(punct), None) for punct in string.punctuation)\n",
        "space_punct_dict = dict((ord(punct), ' ') for punct in string.punctuation)\n",
        "\n",
        "p = print\n",
        "d = display"
      ],
      "execution_count": null,
      "outputs": []
    },
    {
      "cell_type": "code",
      "metadata": {
        "id": "opt4fUcLfvZ_"
      },
      "source": [
        "#my_import('spacy', version='3.0.6')\n",
        "p('spacy.__version__', spacy.__version__)\n",
        "from spacy.tokens import Doc, Span, Token\n",
        "from spacy.matcher import PhraseMatcher\n",
        "from spacy.language import Language\n",
        "\n",
        "# Load md (medium) English tokenizer, tagger, parser and NER, and vectors(vectors are not included in the 'sm' model)\n",
        "#nlp = spacy.load('en_core_web_md')  NOT WORKING ON COLAB\n",
        "try:\n",
        "  import en_core_web_md\n",
        "except:  \n",
        "  !python -m spacy download en_core_web_md\n",
        "  import en_core_web_md\n",
        "  \n",
        "nlp = en_core_web_md.load()"
      ],
      "execution_count": null,
      "outputs": []
    },
    {
      "cell_type": "code",
      "metadata": {
        "id": "9Z58HiRJLMen"
      },
      "source": [
        "#!pip uninstall googletrans\n",
        "my_import('googletrans', version='3.1.0a0')\n",
        "from googletrans import Translator\n",
        "translator = Translator()"
      ],
      "execution_count": null,
      "outputs": []
    },
    {
      "cell_type": "code",
      "metadata": {
        "id": "OdnCbXKo5cwo"
      },
      "source": [
        "import requests\n",
        "\n",
        "api_key = 'c2adfa29edfd95ad16efab9218619ff3'\n",
        "URL = \"http://api.openweathermap.org/data/2.5/{0}?\"\n",
        "icon_url = \" http://openweathermap.org/img/wn/{0}@2x.png\"  # 10d\n",
        "#URL_cnt = \"http://api.openweathermap.org/data/2.5/forecast/daily?q={city name}&cnt={cnt}&appid={API key}\n",
        "#URL_cnt = \"//https://api.openweathermap.org/data/2.5/onecall?lat={lat}&lon={lon}&exclude=minutely, hourly&appid={API key}\n",
        "\n"
      ],
      "execution_count": 78,
      "outputs": []
    },
    {
      "cell_type": "code",
      "metadata": {
        "id": "6e8DgeWTF03z"
      },
      "source": [
        "path = '/content/drive/MyDrive/Project5_ChatBot/'\n",
        "data_url = 'https://raw.githubusercontent.com/DanielKorenDataScience/NLP-FinalProject/main/data/' "
      ],
      "execution_count": 9,
      "outputs": []
    },
    {
      "cell_type": "code",
      "metadata": {
        "id": "SFqfk8lMh8x-"
      },
      "source": [
        "TEST = True\n",
        "LANG = 'en'"
      ],
      "execution_count": 10,
      "outputs": []
    },
    {
      "cell_type": "code",
      "metadata": {
        "id": "rJpv2GTU2-l7"
      },
      "source": [
        "def process_text(text):\n",
        "    doc = nlp(text.lower())\n",
        "    result = []\n",
        "    for token in doc:\n",
        "        if token.text in nlp.Defaults.stop_words:   # len(nlp.Defaults.stop_words)=326\n",
        "            continue\n",
        "        if token.is_punct:\n",
        "            continue\n",
        "        if token.lemma_ == '-PRON-':\n",
        "            p('-PRON-: ', token.lemma_)\n",
        "            continue\n",
        "        result.append(token.lemma_)\n",
        "    return \" \".join(result)"
      ],
      "execution_count": 11,
      "outputs": []
    },
    {
      "cell_type": "code",
      "metadata": {
        "id": "dG99z-tM4cl4"
      },
      "source": [
        "def calculate_similarity(text1, text2):\n",
        "    def get_similarity(doc1, doc2):\n",
        "      if doc1 and doc1.vector_norm:\n",
        "        if doc2 and doc2.vector_norm:\n",
        "          return doc1.similarity(doc2)\n",
        "      return 0\n",
        "\n",
        "    doc1 = nlp(text1)\n",
        "    #p(doc1.pos_)\n",
        "    doc2 = nlp(text2)\n",
        "    similarity1 = get_similarity(doc1, doc2)\n",
        "\n",
        "    doc1 = nlp(process_text(text1))\n",
        "    #p(doc1)\n",
        "    doc2 = nlp(process_text(text2))\n",
        "    #p(doc2)\n",
        "    similarity2 = get_similarity(doc1, doc2)\n",
        "\n",
        "    return max(similarity1, similarity2)"
      ],
      "execution_count": 12,
      "outputs": []
    },
    {
      "cell_type": "markdown",
      "metadata": {
        "id": "GMXfN0EnkL3a"
      },
      "source": [
        "# Get cities and update model"
      ]
    },
    {
      "cell_type": "code",
      "metadata": {
        "id": "rF2CJIu3pOik"
      },
      "source": [
        "GIT = True\n",
        "git_path = 'https://raw.githubusercontent.com/DanielKorenDataScience/NLP-FinalProject/main/data/'\n",
        "\n",
        "def get_json(fname, GIT=True):\n",
        "  p(fname)\n",
        "  if GIT:\n",
        "    resp = requests.get(data_url + fname)\n",
        "    return json.loads(resp.text)\n",
        "  with open(path + fname, encoding=\"utf8\") as f:\n",
        "    return json.loads(f.read())"
      ],
      "execution_count": 13,
      "outputs": []
    },
    {
      "cell_type": "code",
      "metadata": {
        "id": "jVyPlh34vAJ8",
        "colab": {
          "base_uri": "https://localhost:8080/",
          "height": 252
        },
        "outputId": "fc2a1177-d154-444a-b730-409dc7eafa24"
      },
      "source": [
        "my_import('wget')\n",
        "import wget\n",
        "\n",
        "def load_CITIES_API():\n",
        "  # file too big for git so read it from my google drive using a shared link\n",
        "  CITIES_API = get_json('city.list.json')\n",
        "  ''' \n",
        "  git_path = 'https://raw.githubusercontent.com/DanielKorenDataScience/NLP-FinalProject/main/' + 'city.list.json'\n",
        "  resp = requests.get(git_path)\n",
        "  CITIES_API = json.loads(resp.text)\n",
        "\n",
        "  google_shared_link = 'https://drive.google.com/file/d/19lB4T32o1VbFAKRk_PExbNYV8mcZ8hRT/view?usp=sharing'\n",
        "  url = 'https://drive.google.com/uc?authuser=0&id=19lB4T32o1VbFAKRk_PExbNYV8mcZ8hRT&export=download'\n",
        "  file_id = '19lB4T32o1VbFAKRk_PExbNYV8mcZ8hRT'\n",
        "  \n",
        "  while True:\n",
        "    try:\n",
        "      with open('city.list.json', encoding=\"utf8\") as f:\n",
        "        CITIES_API = json.loads(f.read())\n",
        "      break\n",
        "    except:\n",
        "      wget.download(url)  # download the file to local google drive with the original name in the share link\n",
        "      # now can open with no path because it is in the local 'colab' directory\n",
        "  \n",
        "  '''\n",
        "  df = pd.DataFrame(CITIES_API)\n",
        "  df = df.drop(['id'], axis='columns')\n",
        "  df.name = df.name.str.lower()\n",
        "  df.name = df.name.str.translate(remove_punct_dict)\n",
        "\n",
        "  CITIES_API_city = sorted(set(df.name.to_list()))\n",
        "  CITIES_API_country = sorted(set(df.country.str.lower().to_list()))\n",
        "  if CITIES_API_country[0] == '':\n",
        "    CITIES_API_country = CITIES_API_country[1:]\n",
        "  CITIES_API_state = sorted(set(df.state.str.lower().to_list()))\n",
        "  if CITIES_API_state[0] == '':\n",
        "    CITIES_API_state = CITIES_API_state[1:]\n",
        "  if CITIES_API_state[0] == '00':\n",
        "    CITIES_API_state = CITIES_API_state[1:]\n",
        "  \n",
        "  df.set_index('name', inplace=True)\n",
        "  #d(df.head)\n",
        "  return df, CITIES_API_city, CITIES_API_country, CITIES_API_state\n",
        "\n",
        "df_CITIES_API, CITIES_API_city, CITIES_API_country_code, CITIES_API_state_code = load_CITIES_API()\n",
        "df_CITIES_API.head()\n",
        "#df_CITIES_API.loc['taglag'].coord"
      ],
      "execution_count": 84,
      "outputs": [
        {
          "output_type": "stream",
          "text": [
            "city.list.json\n"
          ],
          "name": "stdout"
        },
        {
          "output_type": "display_data",
          "data": {
            "application/javascript": [
              "\n",
              "        if (window._pyforest_update_imports_cell) { window._pyforest_update_imports_cell('import tqdm\\nimport altair as alt\\nimport lightgbm as lgb\\nfrom sklearn.model_selection import cross_val_score\\nimport fbprophet\\nimport fastai\\nimport bokeh\\nimport cv2\\nimport pandas as pd\\nfrom sklearn.feature_extraction.text import TfidfVectorizer\\nimport spacy\\nimport pickle\\nfrom sklearn.manifold import TSNE\\nfrom sklearn.model_selection import train_test_split\\nfrom sklearn.feature_extraction.text import CountVectorizer\\nimport textblob\\nfrom openpyxl import load_workbook\\nimport imutils\\nfrom statsmodels.tsa.arima_model import ARIMA\\nimport torch\\nimport plotly.express as px\\nimport nltk\\nimport matplotlib.pyplot as plt\\nimport pydot\\nimport plotly as py\\nimport tensorflow as tf'); }\n",
              "    "
            ],
            "text/plain": [
              "<IPython.core.display.Javascript object>"
            ]
          },
          "metadata": {
            "tags": []
          }
        },
        {
          "output_type": "execute_result",
          "data": {
            "text/html": [
              "<div>\n",
              "<style scoped>\n",
              "    .dataframe tbody tr th:only-of-type {\n",
              "        vertical-align: middle;\n",
              "    }\n",
              "\n",
              "    .dataframe tbody tr th {\n",
              "        vertical-align: top;\n",
              "    }\n",
              "\n",
              "    .dataframe thead th {\n",
              "        text-align: right;\n",
              "    }\n",
              "</style>\n",
              "<table border=\"1\" class=\"dataframe\">\n",
              "  <thead>\n",
              "    <tr style=\"text-align: right;\">\n",
              "      <th></th>\n",
              "      <th>state</th>\n",
              "      <th>country</th>\n",
              "      <th>coord</th>\n",
              "    </tr>\n",
              "    <tr>\n",
              "      <th>name</th>\n",
              "      <th></th>\n",
              "      <th></th>\n",
              "      <th></th>\n",
              "    </tr>\n",
              "  </thead>\n",
              "  <tbody>\n",
              "    <tr>\n",
              "      <th>ḩeşāre sefīd</th>\n",
              "      <td></td>\n",
              "      <td>IR</td>\n",
              "      <td>{'lon': 47.159401, 'lat': 34.330502}</td>\n",
              "    </tr>\n",
              "    <tr>\n",
              "      <th>‘ayn ḩalāqīm</th>\n",
              "      <td></td>\n",
              "      <td>SY</td>\n",
              "      <td>{'lon': 36.321911, 'lat': 34.940079}</td>\n",
              "    </tr>\n",
              "    <tr>\n",
              "      <th>taglag</th>\n",
              "      <td></td>\n",
              "      <td>IR</td>\n",
              "      <td>{'lon': 44.98333, 'lat': 38.450001}</td>\n",
              "    </tr>\n",
              "    <tr>\n",
              "      <th>qabāghlū</th>\n",
              "      <td></td>\n",
              "      <td>IR</td>\n",
              "      <td>{'lon': 46.168499, 'lat': 36.173302}</td>\n",
              "    </tr>\n",
              "    <tr>\n",
              "      <th>‘arīqah</th>\n",
              "      <td></td>\n",
              "      <td>SY</td>\n",
              "      <td>{'lon': 36.48336, 'lat': 32.889809}</td>\n",
              "    </tr>\n",
              "  </tbody>\n",
              "</table>\n",
              "</div>"
            ],
            "text/plain": [
              "             state country                                 coord\n",
              "name                                                            \n",
              "ḩeşāre sefīd            IR  {'lon': 47.159401, 'lat': 34.330502}\n",
              "‘ayn ḩalāqīm            SY  {'lon': 36.321911, 'lat': 34.940079}\n",
              "taglag                  IR   {'lon': 44.98333, 'lat': 38.450001}\n",
              "qabāghlū                IR  {'lon': 46.168499, 'lat': 36.173302}\n",
              "‘arīqah                 SY   {'lon': 36.48336, 'lat': 32.889809}"
            ]
          },
          "metadata": {
            "tags": []
          },
          "execution_count": 84
        }
      ]
    },
    {
      "cell_type": "code",
      "metadata": {
        "id": "4u5cXlHgxKsF",
        "colab": {
          "base_uri": "https://localhost:8080/",
          "height": 235
        },
        "outputId": "dcef944a-f8b6-45f6-8459-6db83372036f"
      },
      "source": [
        "def load_countries():\n",
        "  path_ = path  \n",
        "  fname = 'countries.csv'\n",
        "  if GIT:\n",
        "    path_ = git_path\n",
        "  df = pd.read_csv(path_ + fname)\n",
        "  df.Name = df.Name.str.lower()\n",
        "  COUNTRIES = df.Name.tolist()\n",
        "  df = df.set_index('Code')\n",
        "  return df, COUNTRIES\n",
        "\n",
        "countries_df, COUNTRIES = load_countries()\n",
        "countries_df.head()"
      ],
      "execution_count": 15,
      "outputs": [
        {
          "output_type": "display_data",
          "data": {
            "application/javascript": [
              "\n",
              "        if (window._pyforest_update_imports_cell) { window._pyforest_update_imports_cell('import spacy\\nimport pandas as pd'); }\n",
              "    "
            ],
            "text/plain": [
              "<IPython.core.display.Javascript object>"
            ]
          },
          "metadata": {
            "tags": []
          }
        },
        {
          "output_type": "execute_result",
          "data": {
            "text/html": [
              "<div>\n",
              "<style scoped>\n",
              "    .dataframe tbody tr th:only-of-type {\n",
              "        vertical-align: middle;\n",
              "    }\n",
              "\n",
              "    .dataframe tbody tr th {\n",
              "        vertical-align: top;\n",
              "    }\n",
              "\n",
              "    .dataframe thead th {\n",
              "        text-align: right;\n",
              "    }\n",
              "</style>\n",
              "<table border=\"1\" class=\"dataframe\">\n",
              "  <thead>\n",
              "    <tr style=\"text-align: right;\">\n",
              "      <th></th>\n",
              "      <th>Name</th>\n",
              "    </tr>\n",
              "    <tr>\n",
              "      <th>Code</th>\n",
              "      <th></th>\n",
              "    </tr>\n",
              "  </thead>\n",
              "  <tbody>\n",
              "    <tr>\n",
              "      <th>AF</th>\n",
              "      <td>afghanistan</td>\n",
              "    </tr>\n",
              "    <tr>\n",
              "      <th>AX</th>\n",
              "      <td>åland islands</td>\n",
              "    </tr>\n",
              "    <tr>\n",
              "      <th>AL</th>\n",
              "      <td>albania</td>\n",
              "    </tr>\n",
              "    <tr>\n",
              "      <th>DZ</th>\n",
              "      <td>algeria</td>\n",
              "    </tr>\n",
              "    <tr>\n",
              "      <th>AS</th>\n",
              "      <td>american samoa</td>\n",
              "    </tr>\n",
              "  </tbody>\n",
              "</table>\n",
              "</div>"
            ],
            "text/plain": [
              "                Name\n",
              "Code                \n",
              "AF       afghanistan\n",
              "AX     åland islands\n",
              "AL           albania\n",
              "DZ           algeria\n",
              "AS    american samoa"
            ]
          },
          "metadata": {
            "tags": []
          },
          "execution_count": 15
        }
      ]
    },
    {
      "cell_type": "code",
      "metadata": {
        "colab": {
          "base_uri": "https://localhost:8080/"
        },
        "id": "HBp31K5KwxbJ",
        "outputId": "e7f64d41-73e0-4b1a-d65c-81f7a99de680"
      },
      "source": [
        "countries_df[countries_df.Name == 'israel'].iloc[0].name\n",
        "countries_df.loc['US']"
      ],
      "execution_count": 16,
      "outputs": [
        {
          "output_type": "execute_result",
          "data": {
            "text/plain": [
              "Name    united states\n",
              "Name: US, dtype: object"
            ]
          },
          "metadata": {
            "tags": []
          },
          "execution_count": 16
        }
      ]
    },
    {
      "cell_type": "code",
      "metadata": {
        "colab": {
          "base_uri": "https://localhost:8080/",
          "height": 235
        },
        "id": "W1gHA85O9isU",
        "outputId": "526ddf03-91ee-4706-ca81-c649f38b0b5c"
      },
      "source": [
        "def load_cities_il():\n",
        "  path_ = path\n",
        "  fname = 'cities_IL.csv'\n",
        "  if GIT:\n",
        "    path_ = git_path\n",
        "  df = pd.read_csv(path_ + fname, names=['city', 'district'])\n",
        "  df.city = df.city.str.translate(remove_punct_dict)\n",
        "  CITIES = df.city.tolist()\n",
        "  df = df.set_index('city')\n",
        "  return df, CITIES\n",
        "cities_il_df, CITIES_IL = load_cities_il()\n",
        "cities_il_df.head()"
      ],
      "execution_count": 17,
      "outputs": [
        {
          "output_type": "display_data",
          "data": {
            "application/javascript": [
              "\n",
              "        if (window._pyforest_update_imports_cell) { window._pyforest_update_imports_cell('import spacy\\nimport pandas as pd'); }\n",
              "    "
            ],
            "text/plain": [
              "<IPython.core.display.Javascript object>"
            ]
          },
          "metadata": {
            "tags": []
          }
        },
        {
          "output_type": "execute_result",
          "data": {
            "text/html": [
              "<div>\n",
              "<style scoped>\n",
              "    .dataframe tbody tr th:only-of-type {\n",
              "        vertical-align: middle;\n",
              "    }\n",
              "\n",
              "    .dataframe tbody tr th {\n",
              "        vertical-align: top;\n",
              "    }\n",
              "\n",
              "    .dataframe thead th {\n",
              "        text-align: right;\n",
              "    }\n",
              "</style>\n",
              "<table border=\"1\" class=\"dataframe\">\n",
              "  <thead>\n",
              "    <tr style=\"text-align: right;\">\n",
              "      <th></th>\n",
              "      <th>district</th>\n",
              "    </tr>\n",
              "    <tr>\n",
              "      <th>city</th>\n",
              "      <th></th>\n",
              "    </tr>\n",
              "  </thead>\n",
              "  <tbody>\n",
              "    <tr>\n",
              "      <th>asam</th>\n",
              "      <td>beersheba</td>\n",
              "    </tr>\n",
              "    <tr>\n",
              "      <th>abbirim</th>\n",
              "      <td>acre</td>\n",
              "    </tr>\n",
              "    <tr>\n",
              "      <th>abu abdun</th>\n",
              "      <td>beersheba</td>\n",
              "    </tr>\n",
              "    <tr>\n",
              "      <th>abu ammar</th>\n",
              "      <td>beersheba</td>\n",
              "    </tr>\n",
              "    <tr>\n",
              "      <th>abu amre</th>\n",
              "      <td>beersheba</td>\n",
              "    </tr>\n",
              "  </tbody>\n",
              "</table>\n",
              "</div>"
            ],
            "text/plain": [
              "            district\n",
              "city                \n",
              "asam       beersheba\n",
              "abbirim         acre\n",
              "abu abdun  beersheba\n",
              "abu ammar  beersheba\n",
              "abu amre   beersheba"
            ]
          },
          "metadata": {
            "tags": []
          },
          "execution_count": 17
        }
      ]
    },
    {
      "cell_type": "code",
      "metadata": {
        "colab": {
          "base_uri": "https://localhost:8080/",
          "height": 269
        },
        "id": "J-gKXG1hHu4J",
        "outputId": "2e8c9e10-eeb2-46eb-953e-d06eebddfd05"
      },
      "source": [
        "def load_capitals():\n",
        "  path_ = path\n",
        "  fname = 'capitals.json'\n",
        "  if GIT:\n",
        "    path_ = git_path\n",
        "  CAPITALS = pd.read_json(path_ + fname, encoding=\"utf8\", typ='series').str.lower()\n",
        "\n",
        "  CAPITALS.index = CAPITALS.index.str.lower()\n",
        "  df = pd.DataFrame([CAPITALS])\n",
        "  df = df.T\n",
        "  df = df.reset_index()\n",
        "  df.columns = ['country', 'capital']\n",
        "  df = df.set_index('capital')\n",
        "  return df, CAPITALS.to_dict()\n",
        "capitals_df, CAPITALS = load_capitals()\n",
        "\n",
        "p(CAPITALS['albania'])\n",
        "p(capitals_df.loc['madrid'].country)\n",
        "capitals_df.head()"
      ],
      "execution_count": 18,
      "outputs": [
        {
          "output_type": "display_data",
          "data": {
            "application/javascript": [
              "\n",
              "        if (window._pyforest_update_imports_cell) { window._pyforest_update_imports_cell('import spacy\\nimport pandas as pd'); }\n",
              "    "
            ],
            "text/plain": [
              "<IPython.core.display.Javascript object>"
            ]
          },
          "metadata": {
            "tags": []
          }
        },
        {
          "output_type": "display_data",
          "data": {
            "application/javascript": [
              "\n",
              "        if (window._pyforest_update_imports_cell) { window._pyforest_update_imports_cell('import spacy\\nimport pandas as pd'); }\n",
              "    "
            ],
            "text/plain": [
              "<IPython.core.display.Javascript object>"
            ]
          },
          "metadata": {
            "tags": []
          }
        },
        {
          "output_type": "stream",
          "text": [
            "tirana\n",
            "spain\n"
          ],
          "name": "stdout"
        },
        {
          "output_type": "execute_result",
          "data": {
            "text/html": [
              "<div>\n",
              "<style scoped>\n",
              "    .dataframe tbody tr th:only-of-type {\n",
              "        vertical-align: middle;\n",
              "    }\n",
              "\n",
              "    .dataframe tbody tr th {\n",
              "        vertical-align: top;\n",
              "    }\n",
              "\n",
              "    .dataframe thead th {\n",
              "        text-align: right;\n",
              "    }\n",
              "</style>\n",
              "<table border=\"1\" class=\"dataframe\">\n",
              "  <thead>\n",
              "    <tr style=\"text-align: right;\">\n",
              "      <th></th>\n",
              "      <th>country</th>\n",
              "    </tr>\n",
              "    <tr>\n",
              "      <th>capital</th>\n",
              "      <th></th>\n",
              "    </tr>\n",
              "  </thead>\n",
              "  <tbody>\n",
              "    <tr>\n",
              "      <th>kabul</th>\n",
              "      <td>afghanistan</td>\n",
              "    </tr>\n",
              "    <tr>\n",
              "      <th>mariehamn</th>\n",
              "      <td>åland islands</td>\n",
              "    </tr>\n",
              "    <tr>\n",
              "      <th>tirana</th>\n",
              "      <td>albania</td>\n",
              "    </tr>\n",
              "    <tr>\n",
              "      <th>algiers</th>\n",
              "      <td>algeria</td>\n",
              "    </tr>\n",
              "    <tr>\n",
              "      <th>pago pago</th>\n",
              "      <td>american samoa</td>\n",
              "    </tr>\n",
              "  </tbody>\n",
              "</table>\n",
              "</div>"
            ],
            "text/plain": [
              "                  country\n",
              "capital                  \n",
              "kabul         afghanistan\n",
              "mariehamn   åland islands\n",
              "tirana            albania\n",
              "algiers           algeria\n",
              "pago pago  american samoa"
            ]
          },
          "metadata": {
            "tags": []
          },
          "execution_count": 18
        }
      ]
    },
    {
      "cell_type": "code",
      "metadata": {
        "colab": {
          "base_uri": "https://localhost:8080/",
          "height": 252
        },
        "id": "1YMQgZMecwVh",
        "outputId": "55d1456e-54e9-4be8-f215-a70a00201b32"
      },
      "source": [
        "def load_largest():\n",
        "  fname = '100-largest-cities.csv'\n",
        "  path_ = path\n",
        "  if GIT:\n",
        "    path_ = git_path\n",
        "  df = pd.read_csv(path_ + fname, encoding='ISO-8859-8')\n",
        "  df.city = df.city.str.lower()\n",
        "  df.city = df.city.str.translate(remove_punct_dict)\n",
        "  LARGEST = df.city.tolist()\n",
        "  df = df.set_index('city')\n",
        "  return df, LARGEST\n",
        "largest_df, LARGEST = load_largest()\n",
        "\n",
        "d(largest_df.head())\n",
        "p(largest_df.loc['toronto'].country)"
      ],
      "execution_count": 19,
      "outputs": [
        {
          "output_type": "display_data",
          "data": {
            "application/javascript": [
              "\n",
              "        if (window._pyforest_update_imports_cell) { window._pyforest_update_imports_cell('import spacy\\nimport pandas as pd'); }\n",
              "    "
            ],
            "text/plain": [
              "<IPython.core.display.Javascript object>"
            ]
          },
          "metadata": {
            "tags": []
          }
        },
        {
          "output_type": "display_data",
          "data": {
            "text/html": [
              "<div>\n",
              "<style scoped>\n",
              "    .dataframe tbody tr th:only-of-type {\n",
              "        vertical-align: middle;\n",
              "    }\n",
              "\n",
              "    .dataframe tbody tr th {\n",
              "        vertical-align: top;\n",
              "    }\n",
              "\n",
              "    .dataframe thead th {\n",
              "        text-align: right;\n",
              "    }\n",
              "</style>\n",
              "<table border=\"1\" class=\"dataframe\">\n",
              "  <thead>\n",
              "    <tr style=\"text-align: right;\">\n",
              "      <th></th>\n",
              "      <th>country</th>\n",
              "    </tr>\n",
              "    <tr>\n",
              "      <th>city</th>\n",
              "      <th></th>\n",
              "    </tr>\n",
              "  </thead>\n",
              "  <tbody>\n",
              "    <tr>\n",
              "      <th>tokyo</th>\n",
              "      <td>Japan</td>\n",
              "    </tr>\n",
              "    <tr>\n",
              "      <th>delhi</th>\n",
              "      <td>India</td>\n",
              "    </tr>\n",
              "    <tr>\n",
              "      <th>shanghai</th>\n",
              "      <td>China</td>\n",
              "    </tr>\n",
              "    <tr>\n",
              "      <th>so paulo</th>\n",
              "      <td>Brazil</td>\n",
              "    </tr>\n",
              "    <tr>\n",
              "      <th>ciudad de mxico mexico city</th>\n",
              "      <td>Mexico</td>\n",
              "    </tr>\n",
              "  </tbody>\n",
              "</table>\n",
              "</div>"
            ],
            "text/plain": [
              "                            country\n",
              "city                               \n",
              "tokyo                         Japan\n",
              "delhi                         India\n",
              "shanghai                      China\n",
              "so paulo                     Brazil\n",
              "ciudad de mxico mexico city  Mexico"
            ]
          },
          "metadata": {
            "tags": []
          }
        },
        {
          "output_type": "stream",
          "text": [
            "Canada\n"
          ],
          "name": "stdout"
        }
      ]
    },
    {
      "cell_type": "code",
      "metadata": {
        "colab": {
          "base_uri": "https://localhost:8080/"
        },
        "id": "ForSoWmMl9il",
        "outputId": "59b91116-0e13-4363-d129-0564bdc79770"
      },
      "source": [
        "def load_actions():\n",
        "  path_ = path\n",
        "  fname = 'actions.json'\n",
        "  actions = get_json(fname, False)\n",
        "  ACTIONS_patterns_ = [y for tag in actions[\"actions\"] for y in tag['patterns']]\n",
        "  ACTIONS_ = {y: tag['tag'] for tag in actions[\"actions\"] for y in tag['patterns']}\n",
        "  ACTIONS_tags_ = {tag['tag']:'' for tag in actions[\"actions\"]}\n",
        "  return ACTIONS_patterns_, ACTIONS_, ACTIONS_tags_\n",
        "ACTIONS_patterns, ACTIONS, ACTIONS_tags = load_actions()\n",
        "\n",
        "p(ACTIONS_patterns[-5:])\n",
        "p(list(ACTIONS.items())[:5])\n",
        "p(ACTIONS.keys())\n",
        "p(ACTIONS_tags)\n",
        "ACTIONS['hot']\n",
        "ACTIONS_tags.keys()\n",
        "'clouds' in ACTIONS"
      ],
      "execution_count": 51,
      "outputs": [
        {
          "output_type": "stream",
          "text": [
            "actions.json\n",
            "['evening', 'sundown', 'cloud', 'clouds', 'fahrenheit']\n",
            "[('weather', 'all'), ('tornedo', 'weatherWind'), ('hurricane', 'weatherWind'), ('gale', 'weatherWind'), ('gust', 'weatherWind')]\n",
            "dict_keys(['weather', 'tornedo', 'hurricane', 'gale', 'gust', 'whirlwind', 'cyclone', 'fog', 'mist', 'isobar', 'barometric', 'heat wave', 'freeze', 'climate', 'conditions', 'forecast', 'outlook', 'thunder', 'thunderstorm', 'storm', 'rain', 'drizzle', 'snow', 'dry', 'rainbow', 'overcast', 'shower', 'lightning', 'blustery', 'downpour', 'tropical', 'water cycle', 'drought', 'hail', 'icicle', 'flood', 'muggy', 'flash flood', 'atmospheric', 'cold front', 'cold snap', 'condensation', 'ice storm', 'snowfall', 'air', 'balmy', 'avalanche', 'frost', 'blizzard', 'spring', 'smog', 'ozone', 'autumn', 'winter', 'summer', 'sleet', 'sky', 'easterlies', 'westerlies', 'dew', 'surge', 'monsoon', 'permafrost', 'temperature', 'hot', 'warn', 'cold', 'temp', 'degree', 'thermal', 'heat', 'heat index', 'warm', 'pressure', 'smoke', 'haze', 'dust', 'sand', 'humidity', 'damp', 'moist', 'moisture', 'visibility', 'wind', 'breeze', 'draft', 'blow', 'sunrise', 'sunset', 'dawn', 'daybreak', 'night', 'dark', 'first light', 'morning', 'nightfall', 'twilight', 'dusk', 'evening', 'sundown', 'cloud', 'clouds', 'fahrenheit'])\n",
            "{'all': '', 'weatherWind': '', 'weatherPressure': '', 'weatherTemp': '', 'weather': '', 'temp': '', 'pressure': '', 'humidity': '', 'visibility': '', 'wind': '', 'sunrise': '', 'clouds': '', 'fahrenheit': ''}\n"
          ],
          "name": "stdout"
        },
        {
          "output_type": "execute_result",
          "data": {
            "text/plain": [
              "True"
            ]
          },
          "metadata": {
            "tags": []
          },
          "execution_count": 51
        }
      ]
    },
    {
      "cell_type": "markdown",
      "metadata": {
        "id": "sN4pIshuLGOn"
      },
      "source": [
        "## Messages"
      ]
    },
    {
      "cell_type": "code",
      "metadata": {
        "colab": {
          "base_uri": "https://localhost:8080/"
        },
        "id": "vn1RVRSGykne",
        "outputId": "3bfa3196-ff81-46f0-8d7d-6253528a531d"
      },
      "source": [
        "def load_messages():\n",
        "  path_ = path\n",
        "  fname = 'messages.json'\n",
        "  messages = get_json(fname, False)\n",
        "  intents = {lang: messages[\"intents\"][\"language\"][lang] for lang in messages[\"intents\"][\"language\"]}\n",
        "  #MESSAGES_lang = [lang for lang in messages[\"messages\"][\"language\"]]\n",
        "  MESSAGES = {lang: messages[\"messages\"][\"language\"][lang] for lang in messages[\"messages\"][\"language\"]}\n",
        "  MESSAGES_lang = list(MESSAGES.keys())\n",
        "  MESSAGES_en, intents_en = [], []\n",
        "  if 'en' in MESSAGES:\n",
        "    MESSAGES_en = MESSAGES['en'][\"messages\"]\n",
        "    for part in intents['en'][\"messages\"]:\n",
        "      intents_en.append(part[\"responses\"])\n",
        "  # read also the new_mssages\n",
        "  \n",
        "  try:\n",
        "    with open(path + 'new_messages.json', \"r\") as f:\n",
        "      list_d = json.loads(f.read())\n",
        "  except Exception as error:\n",
        "    list_d = []\n",
        "  if len(list_d) > 0:\n",
        "    for dic in list_d:\n",
        "      intents.update(dic['intents']['language'])\n",
        "      MESSAGES.update(dic['messages']['language'])\n",
        "    MESSAGES_lang = list(MESSAGES.keys())\n",
        "  return MESSAGES_lang, MESSAGES, MESSAGES_en, intents, intents_en\n",
        "MESSAGES_lang, MESSAGES, MESSAGES_en, intents, intents_en = load_messages()\n",
        "p(MESSAGES_lang)\n",
        "p(intents_en)\n",
        "#intents['he'][\"messages\"][0]\n",
        "intents_en[1]"
      ],
      "execution_count": 21,
      "outputs": [
        {
          "output_type": "stream",
          "text": [
            "messages.json\n",
            "['en', 'he', 'fr', 'es', 'ar', 'ru']\n",
            "[[\"Hi. My name is WeatherBot and I'm a chatbot. If you want to exit, type 'Bye' If you want help type 'Help'\"], ['See you!', 'Have a nice day', 'Bye! Come back again soon.'], ['Happy to help!', 'Any time!', 'My pleasure'], [\"Sorry, can't understand you\", 'Please give me more info', 'Not sure I understand'], ['I can give you information about the weather in cities around the world, in your language. You can ask about clouds, rain, temp, pressure, humidity, wind, visibility, sunrise and upto 16 days from today'], ['WeatherBot', 'Ask Bot', 'Debug', 'User Input', 'You', 'Bot', 'ID', 'Conversation']]\n"
          ],
          "name": "stdout"
        },
        {
          "output_type": "execute_result",
          "data": {
            "text/plain": [
              "['See you!', 'Have a nice day', 'Bye! Come back again soon.']"
            ]
          },
          "metadata": {
            "tags": []
          },
          "execution_count": 21
        }
      ]
    },
    {
      "cell_type": "code",
      "metadata": {
        "id": "aCL5YLU-zuFS"
      },
      "source": [
        "def set_capitals():\n",
        "  # Getter that looks up the span text in the dictionary of country capitals\n",
        "  get_capital = lambda span: CAPITALS.get(span.text)\n",
        "\n",
        "  # Register the Span extension attribute \"capital\" with the getter get_capital\n",
        "  Span.set_extension(\"capital\", getter=get_capital, force=True)\n",
        "\n",
        "  # Process the text and print the entity text, label and capital attributes\n",
        "  doc = nlp(\"Czech Republic may help Slovakia protect its airspace\")\n",
        "  print([(ent.text, ent.label_, ent._.capital) for ent in doc.ents])"
      ],
      "execution_count": 22,
      "outputs": []
    },
    {
      "cell_type": "markdown",
      "metadata": {
        "id": "mS1pXmhO4ugH"
      },
      "source": [
        "# Call the web site"
      ]
    },
    {
      "cell_type": "markdown",
      "metadata": {
        "id": "Dhygq47xtL1r"
      },
      "source": [
        "{\"coord\":{\"lon\":34.8,\"lat\":32.0833},\n",
        "\n",
        "\"weather\":[{\"id\":801,\"main\":\"Clouds\",\"description\":\"few clouds\",\"icon\":\"02n\"}],\n",
        "\n",
        "\"base\":\"stations\",\n",
        "\n",
        "\"main\":{\"temp\":295.69,\"feels_like\":295.83,\"temp_min\":294.42,\"temp_max\":296.58,\"pressure\":1016,\"humidity\":70},\n",
        "\n",
        "\"visibility\":10000,\n",
        "\n",
        "\"wind\":{\"speed\":2.06,\"deg\":10},\n",
        "\n",
        "\"clouds\":{\"all\":20},\n",
        "\n",
        "\"dt\":1623961727,\n",
        "\n",
        "\"sys\":{\"type\":1,\"id\":6845,\"country\":\"IL\",\"sunrise\":1623897263,\"sunset\":1623948546},\n",
        "\n",
        "\"timezone\":10800,\n",
        "\n",
        "\"id\":293396,\n",
        "\n",
        "\"name\":\"Tel Aviv\",\n",
        "\n",
        "\"cod\":200}"
      ]
    },
    {
      "cell_type": "code",
      "metadata": {
        "id": "Kkn5WmrShACd"
      },
      "source": [
        "def call_web(city_name, country, fahrenheit, count=1):\n",
        "    state = ''\n",
        "    api_url = f\"{URL}q={city_name},{state},{country}&units={'metric' if not fahrenheit else 'imperial'}&lang={LANG}&appid={api_key}\".format('weather')\n",
        "    if count > 1:\n",
        "      cor = df_CITIES_API.loc[city_name].coord\n",
        "      #p(city_name, cor)\n",
        "      api_url = f\"{URL}lat={cor['lat']}&lon={cor['lon']}&exclude=minutely,hourly&units={'metric' if not fahrenheit else 'imperial'}&lang={LANG}&appid={api_key}\".format('onecall')\n",
        "\n",
        "    #p(api_url)\n",
        "\n",
        "    response = requests.get(api_url)\n",
        "    response_dict = response.json()\n",
        "\n",
        "    weather = response_dict #[\"weather\"]#[0]#[\"description\"]\n",
        "\n",
        "    if response.status_code == 200:\n",
        "        return weather\n",
        "    elif response.status_code == 404:\n",
        "        return None\n",
        "    else:\n",
        "        print(MESSAGES[LANG][\"messages\"][\"web_error\"].format(response.status_code, api_url))\n",
        "        p(response_dict['message'])\n",
        "        return None"
      ],
      "execution_count": 206,
      "outputs": []
    },
    {
      "cell_type": "code",
      "metadata": {
        "id": "88obffuE3wyl"
      },
      "source": [
        "def get_weather_info(actions, count, cnt, city_weather, default, LANG, DISP):\n",
        "  all_action = actions[0][0] == 'all'  # always first\n",
        "  #p(all_action)\n",
        "  result = ''\n",
        "  for action in actions:\n",
        "    tag = action[0]\n",
        "    if tag == \"fahrenheit\": continue\n",
        "    user_act = action[1]\n",
        "    if count < 2:\n",
        "      data = city_weather if tag == \"all\" else city_weather['main'] \\\n",
        "        if tag in [\"weatherTemp\", \"weatherPressure\", 'temp', \"pressure\", \"humidity\"] else \\\n",
        "              city_weather['sys'] if tag == \"sunrise\" else city_weather['wind'] \\\n",
        "              if tag in [\"weatherWind\", \"wind\"] else city_weather[tag] \n",
        "    else:\n",
        "      data = city_weather\n",
        "    if DISP: p('in loop', user_act, tag, data)\n",
        "    if tag in ['clouds']:\n",
        "      clouds_percentage = data['all'] if count < 2 else data['clouds']\n",
        "      if clouds_percentage < 10: # no clouds\n",
        "        if 'clear sky' not in default.lower():\n",
        "          result += f'{MESSAGES[LANG][\"messages\"][\"clear sky\"]}, '\n",
        "        elif not all_action:\n",
        "          result += f' {default},'\n",
        "      elif default not in result:\n",
        "        result += f' {default},'\n",
        "      if all_action: continue\n",
        "    if user_act == \"rain\": \n",
        "      if user_act in default.lower():\n",
        "        if default not in result:\n",
        "          result += f' {default},'\n",
        "      else:\n",
        "        result += f' {MESSAGES[LANG][\"messages\"][\"no\"]} {user_act},'\n",
        "      if all_action: continue\n",
        "    if all_action and tag != 'all': continue\n",
        "    if tag in [\"weather\", \"weatherPressure\",\"weatherWind\",\"weatherTemp\",\"all\"]:\n",
        "      if default not in result:\n",
        "        result += f' {default},'\n",
        "    if tag in [\"weatherTemp\", \"weatherPressure\", 'temp', \"pressure\", \"humidity\", \"all\"]:\n",
        "      data_tag = data['main'] if tag == 'all' and count < 2 else data\n",
        "      #p(count, tag, data_tag, data)\n",
        "      if tag in [ \"weatherTemp\", \"temp\", \"all\"]:\n",
        "        for i, temp in enumerate(MESSAGES[LANG][\"messages\"][\"temp\"]):\n",
        "          if i == 0: \n",
        "            if cnt == 0:\n",
        "              info = data_tag[\"temp\"]\n",
        "            else:\n",
        "              info = data_tag[\"temp\"]['day']\n",
        "          elif i == 1: \n",
        "            if cnt == 0:\n",
        "              info = data_tag[\"feels_like\"]\n",
        "            else:\n",
        "              info = data_tag[\"feels_like\"]['day']\n",
        "            if count > 1  and cnt == 0:\n",
        "              break\n",
        "          elif i == 2: info = data_tag[\"temp_min\"] if cnt == 0 else data_tag[\"temp\"][\"min\"]\n",
        "          elif i == 3: info = data_tag[\"temp_max\"] if cnt == 0 else data_tag[\"temp\"][\"max\"]\n",
        "          result += f' {temp} = {info},'\n",
        "      if tag in [\"weatherPressure\", \"pressure\", \"all\"]:\n",
        "        result += f' {MESSAGES[LANG][\"messages\"][\"pressure\"]} = {data_tag[\"pressure\"]},'\n",
        "      if tag in [\"humidity\", \"all\"]:\n",
        "        result += f' {MESSAGES[LANG][\"messages\"][\"humidity\"]} = {data_tag[\"humidity\"]},'\n",
        "    if tag in [\"wind\", \"weatherWind\", \"all\"]:\n",
        "      data_tag = data['wind'] if tag == 'all' and count < 2 else data\n",
        "      for i, wind in enumerate(MESSAGES[LANG][\"messages\"][\"wind\"]):\n",
        "        if i == 0: info = data_tag[\"speed\"] if count < 2 else data_tag[\"wind_speed\"]\n",
        "        elif i == 1: info = data_tag[\"deg\"] if count < 2 else data_tag[\"wind_deg\"]\n",
        "        elif i == 2: \n",
        "          if \"gust\" in data_tag: \n",
        "            info = data_tag[\"gust\"] \n",
        "        elif \"wind_gust\" in data_tag: \n",
        "            info = data_tag[\"wind_gust\"] \n",
        "        else: \n",
        "            continue\n",
        "        result += f' {wind} = {info},'\n",
        "    if tag in [\"visibility\",\"all\"]:\n",
        "      if cnt > 0 and 'visibility' not in data: continue \n",
        "      data_tag = data['visibility'] if tag == 'all' or count > 1 else data\n",
        "      result += f' {MESSAGES[LANG][\"messages\"][\"visibility\"]} = {data_tag},'\n",
        "    if tag in [\"sunrise\",\"all\"]:\n",
        "      data_tag = data['sys'] if tag == 'all' and count < 2 else data\n",
        "      for i, wind in enumerate(MESSAGES[LANG][\"messages\"][\"sunrise\"]):\n",
        "        if i == 0: info = data_tag[\"sunrise\"]\n",
        "        elif i == 1: info = data_tag[\"sunset\"]\n",
        "        result += f' {wind} = {time.strftime(\"%H:%M:%S\", time.gmtime(info + 3 * 60 * 60))},'\n",
        "  return result"
      ],
      "execution_count": 220,
      "outputs": []
    },
    {
      "cell_type": "code",
      "metadata": {
        "id": "y1XIdfNeh1d5",
        "colab": {
          "base_uri": "https://localhost:8080/",
          "height": 123
        },
        "outputId": "48ba0cce-e0bd-4793-f43d-a86545484825"
      },
      "source": [
        "def get_weather(dt, location, actions, count=2, LANG=LANG, DISP=False):\n",
        "  #p(dt, location)\n",
        "  city_w = city = location[0][0]  # assume one city (not handling if there are 2 cities)\n",
        "  #p(city, city_w)\n",
        "  result = ''\n",
        "  # check if city in api_city list\n",
        "  if city in df_CITIES_API.index.values:\n",
        "    result = df_CITIES_API.loc[city]\n",
        "  if len(result) == 0: # not found, get district\n",
        "    if city in cities_il_df.index.values:\n",
        "      city_w = cities_il_df.loc[city].district\n",
        "  elif len(result) > 0: # more than one city -> need country\n",
        "    pass\n",
        "\n",
        "  #p(city_w, location)\n",
        "  country = location[0][1]\n",
        "  #p(country, len(countries_df.Name))\n",
        "  if country in list(countries_df.Name):\n",
        "    country_code = countries_df[countries_df.Name == country].index[0]\n",
        "  else:\n",
        "    country_code = ''\n",
        "  #p(city_w, country_code)#\n",
        "\n",
        "  fahrenheit = True if len([action for action in actions if action[0] == \"fahrenheit\"]) > 0 else False\n",
        "  #p('in get_weather:', fahrenheit)\n",
        "  city_weather_resp = call_web(city_w, country_code, fahrenheit, count)\n",
        "\n",
        "  if DISP: p(city_weather_resp)\n",
        "  if DISP: p('get_w', actions)\n",
        "  if city_weather_resp is None:\n",
        "    return MESSAGES[LANG][\"messages\"][\"api_error\"]\n",
        "    # check what informtion the user asked for\n",
        "\n",
        "  city_weather = city_weather_resp if count < 2 else city_weather_resp[\"current\"]\n",
        "\n",
        "  default = city_weather[\"weather\"][0][\"description\"]\n",
        "  icon = city_weather[\"weather\"][0][\"icon\"]\n",
        "  url_icon = f\"{icon_url}\".format(icon)\n",
        "  if DISP: p(url_icon)\n",
        "  if DISP: p('get_w', default)\n",
        "  result = ''\n",
        "\n",
        "  for cnt in range(count):\n",
        "    if cnt > 0: \n",
        "      result += f'\\nWeather in {cnt} days: '\n",
        "      city_weather = city_weather_resp[\"daily\"][0]\n",
        "    new_result = get_weather_info(actions, count, cnt, city_weather, default, LANG, DISP)\n",
        "    #p(cnt, new_result)\n",
        "    result += new_result\n",
        "\n",
        "  if result == '': result = default\n",
        "  if result[-1] == ',': result = result[:-1]\n",
        "  country = location[0][1]\n",
        "  if LANG != 'en': # in case there are parts of the answer which are not in the proper langauge\n",
        "    response = translator.translate(city, dest=LANG) # need to separet ity from country in case one of them has multi words and google doe not keep the qoutation mark as needed\n",
        "    #response = translator.translate(f\"({city}, {country})\", dest=LANG)\n",
        "    #city, country = response.text\n",
        "    p(f\"{response.origin} ({response.src}) --> {response.text} ({response.dest})\")\n",
        "    city = response.text\n",
        "    response = translator.translate(country, dest=LANG)\n",
        "    country = response.text\n",
        "  response =  MESSAGES[LANG][\"messages\"][\"web_msg\"].format(city.capitalize(), country.capitalize(), result)\n",
        "  return response\n",
        "'''    \n",
        "#answer = get_weather('current', [('jerusalem', 'israel')], [('clouds', 'cloud'), ('temp', 'temp'), ('pressure', 'pressure'), ('humidity', 'humidity'), ('wind', 'wind'), ('visibility', 'wind'), ('sunrise', 'wind'), ('weather','rain')])\n",
        "answer = get_weather('current', [('jerusalem', 'israel')], \n",
        "  [('temp', 'heat'),\n",
        "  ('weather', 'rain'),\n",
        "  ('temp', 'temp'),\n",
        "  ('pressure', 'pressure'),\n",
        "  ('humidity', 'humidity'),\n",
        "  ('wind', 'wind'),\n",
        "  ('visibility', 'visibility'),\n",
        "  ('sunrise', 'sunrise')])\n",
        "'''\n",
        "#{'date': 'current', 'action': ('weather', 'weather'), 'city': [('vi', 'sweden')]}\n",
        "# if tag in [\"weatherTemp\", \"weatherPressure\", 'temp', \"pressure\", \"humidity\", \"all\"]:\n",
        "\n",
        "answer = get_weather('current', [('tel aviv', 'israel')],  [('all', 'all'), ('visibility', 'visibility'), ('sunrise', 'sunrise'), ('temp', 'heat'), ('wind', 'wind'), ('weather','rain'), ('fahrenheit','fahrenheit')], DISP=False)\n",
        "answer"
      ],
      "execution_count": 219,
      "outputs": [
        {
          "output_type": "stream",
          "text": [
            "vis 2 0 {'dt': 1625049515, 'sunrise': 1625020664, 'sunset': 1625071864, 'temp': 89.38, 'feels_like': 98.24, 'pressure': 1008, 'humidity': 60, 'dew_point': 73.67, 'uvi': 9.7, 'clouds': 0, 'visibility': 10000, 'wind_speed': 13.8, 'wind_deg': 280, 'weather': [{'id': 800, 'main': 'Clear', 'description': 'clear sky', 'icon': '01d'}]}\n",
            "vis 2 1 {'dt': 1625043600, 'sunrise': 1625020664, 'sunset': 1625071864, 'moonrise': 0, 'moonset': 1625041200, 'moon_phase': 0.7, 'temp': {'day': 88.23, 'min': 78.12, 'max': 89.38, 'night': 80.92, 'eve': 85.84, 'morn': 78.24}, 'feels_like': {'day': 94.28, 'night': 84.83, 'eve': 90.79, 'morn': 79.29}, 'pressure': 1008, 'humidity': 57, 'dew_point': 71.08, 'wind_speed': 11.39, 'wind_deg': 283, 'wind_gust': 10.38, 'weather': [{'id': 800, 'main': 'Clear', 'description': 'clear sky', 'icon': '01d'}], 'clouds': 0, 'pop': 0, 'uvi': 10.84}\n"
          ],
          "name": "stdout"
        },
        {
          "output_type": "execute_result",
          "data": {
            "application/vnd.google.colaboratory.intrinsic+json": {
              "type": "string"
            },
            "text/plain": [
              "'In Tel aviv, Israel the current weather is:  clear sky, temp = 89.38, pressure = 1008, humidity = 60, wind speed = 13.8, wind direction = 280, wind gust = 280, visibility = 10000, sunrise = 05:37:44, sunset = 19:51:04, no rain,\\nWeather in 1 days:  clear sky, temp = 88.23, feels like = 94.28, temp min = 78.12, temp max = 89.38, pressure = 1008, humidity = 57, wind speed = 11.39, wind direction = 283, wind gust = 283, no rain'"
            ]
          },
          "metadata": {
            "tags": []
          },
          "execution_count": 219
        }
      ]
    },
    {
      "cell_type": "markdown",
      "metadata": {
        "id": "nn0OMy29XzlX"
      },
      "source": [
        "# NLM"
      ]
    },
    {
      "cell_type": "code",
      "metadata": {
        "id": "w-yUaWlmydDs"
      },
      "source": [
        "FAST_START = False"
      ],
      "execution_count": 25,
      "outputs": []
    },
    {
      "cell_type": "code",
      "metadata": {
        "id": "Pb9JLByJsG9R",
        "colab": {
          "base_uri": "https://localhost:8080/",
          "height": 17
        },
        "outputId": "8b94a4b5-ba63-45bc-d761-97ad2dd41af3"
      },
      "source": [
        "#nlp = en_core_web_md.load()\n",
        "'''\n",
        " becuase it takes long time to init (about 1.5 minutes), and once a day the PythonAnywhere bring down all sites,\n",
        " for maintenance, and to prevet the first user from waiting too long, I adde a line in the nightly batch file\n",
        " rungui.bat that start the site atabout 3 AM\n",
        "  start chrome http://drbarak.pythonanywhere.com/chatbot\n",
        "'''\n",
        "def update_nlp():\n",
        "  matcher = PhraseMatcher(nlp.vocab)\n",
        "  CITIES = set(CITIES_IL + CITIES_API_city)# + ACTIONS_patterns) it recognized all the actions as GPE\n",
        "  #CITIES = list(CITIES)[:10]\n",
        "  #p(CITIES)\n",
        "  # disable other pipes while doing the traing to speed it up - went down from 1:40 to 0:40 minutes\n",
        "  if not FAST_START:\n",
        "    other_pipes = [pipe for pipe in nlp.pipe_names if pipe != 'ner']\n",
        "    with nlp.disable_pipes(*other_pipes):\n",
        "      matcher.add(\"CITIES\", None, *list(nlp.pipe(CITIES)))\n",
        "#      matcher.add(\"ACTIONS\", None, *list(nlp.pipe(ACTIONS_patterns)))\n",
        "\n",
        "  # country codes causes problems because many are similar to regular words (eg. 'IN' similar to 'in')\n",
        "  #matcher.add(\"CITIES_API_country_code\", None, *list(nlp.pipe(CITIES_API_country_code)))\n",
        "  # due to duplicates with country codes ('IL' = Israel, and Ilinoie), we have to check manually for states\n",
        "  #matcher.add(\"CITIES_API_state_code\", None, *list(nlp.pipe(CITIES_API_state_code)))\n",
        "\n",
        "  # Register the Span extension attributes \"is_country\" and \"is_city\" \n",
        "  check_country = lambda span: span.text.lower().translate(remove_punct_dict) in COUNTRIES\n",
        "  Span.set_extension('is_country', getter=check_country, force=True)\n",
        "\n",
        "  check_city = lambda span: span.text.lower().translate(remove_punct_dict) in CITIES\n",
        "  Span.set_extension('is_city', getter=check_city, force=True)\n",
        "\n",
        "  check_action = lambda token: token.text.lower().translate(remove_punct_dict) in ACTIONS_patterns or \\\n",
        "                                token.lemma_.lower().translate(remove_punct_dict) in ACTIONS_patterns\n",
        "  Token.set_extension('is_action', getter=check_action, force=True)\n",
        "\n",
        "  pipes = nlp.pipe_names\n",
        "  if 'gpe_component' in pipes:\n",
        "    nlp.remove_pipe('gpe_component')\n",
        "\n",
        "  if spacy.__version__ > '3':\n",
        "    @Language.component(\"gpe_component\")\n",
        "    def gpe_component(doc):\n",
        "        # Create an entity Span with the label \"GPE\" for all matches\n",
        "        matches = matcher(doc)\n",
        "        try:\n",
        "          doc.ents = [Span(doc, start, end, label=\"GPE\") for match_id, start, end in matches]\n",
        "          #if len(doc.ents) > 0:\n",
        "          #  p(doc.ents, 'rain' in CITIES)\n",
        "          #doc.ents += tuple([Span(doc, start, end, label=\"WACT\") for match_id, start, end in matches if nlp.vocab.strings[match_id] == 'ACTIONS'])\n",
        "        except ValueError as e: #[E103] Trying to set conflicting doc.ents: '(2, 4, 'GPE')' and '(3, 4, 'GPE')'. A token can only be part of one entity, so make sure the entities you're setting don't overlap.\n",
        "          if 'E103' in e.args[0]:\n",
        "            return doc  # use the standard model of Spacy, hopefully it works (as in the case \"weather in new york\") or  other rounds will get the proper result\n",
        "          raise\n",
        "        return doc\n",
        "\n",
        "    # Add the new component to the pipeline\n",
        "    nlp.add_pipe('gpe_component', first=True)\n",
        "  else:\n",
        "    def gpe_component(doc):\n",
        "        # Create an entity Span with the label \"GPE\" for all matches\n",
        "        matches = matcher(doc)\n",
        "        try:\n",
        "          doc.ents = [Span(doc, start, end, label=\"GPE\") for match_id, start, end in matches if nlp.vocab.strings[match_id] == 'CITIES']\n",
        "#          if len(doc.ents) > 0:\n",
        "#            p(doc.ents, 'rain' in CITIES)\n",
        "\n",
        "#          doc.ents += tuple([Span(doc, start, end, label=\"WACT\") for match_id, start, end in matches if nlp.vocab.strings[match_id] == 'ACTIONS'])\n",
        "        except ValueError as e: #[E103] Trying to set conflicting doc.ents: '(2, 4, 'GPE')' and '(3, 4, 'GPE')'. A token can only be part of one entity, so make sure the entities you're setting don't overlap.\n",
        "          if 'E103' in e.args[0]:\n",
        "            return doc  # use the standard model of Spacy, hopefully it works (as in the case \"weather in new york\") or  other rounds will get the proper result\n",
        "          raise\n",
        "        return doc\n",
        "\n",
        "    # Add the new component to the pipeline\n",
        "    nlp.add_pipe(gpe_component, first=True)\n",
        "  #print(nlp.pipe_names)\n",
        "\n",
        "update_nlp()\n",
        "#get_parts(\"humidity nenita ellerbach\", True)"
      ],
      "execution_count": 48,
      "outputs": [
        {
          "output_type": "display_data",
          "data": {
            "application/javascript": [
              "\n",
              "        if (window._pyforest_update_imports_cell) { window._pyforest_update_imports_cell('import tqdm\\nimport altair as alt\\nimport lightgbm as lgb\\nfrom sklearn.model_selection import cross_val_score\\nimport bokeh\\nimport cv2\\nimport pandas as pd\\nfrom sklearn.feature_extraction.text import TfidfVectorizer\\nimport spacy\\nimport pickle\\nfrom sklearn.manifold import TSNE\\nfrom sklearn.model_selection import train_test_split\\nfrom sklearn.feature_extraction.text import CountVectorizer\\nimport textblob\\nfrom openpyxl import load_workbook\\nimport imutils\\nfrom statsmodels.tsa.arima_model import ARIMA\\nimport torch\\nimport plotly.express as px\\nimport nltk\\nimport matplotlib.pyplot as plt\\nimport pydot\\nimport plotly as py\\nimport tensorflow as tf'); }\n",
              "    "
            ],
            "text/plain": [
              "<IPython.core.display.Javascript object>"
            ]
          },
          "metadata": {
            "tags": []
          }
        }
      ]
    },
    {
      "cell_type": "markdown",
      "metadata": {
        "id": "tLqojifIudRU"
      },
      "source": [
        "# check city for (POS)"
      ]
    },
    {
      "cell_type": "code",
      "metadata": {
        "id": "XxZz0tJpYOM_"
      },
      "source": [
        "def check_gpe(entity, ents, ent_text, gpe, multiple_cities):\n",
        "        token = None\n",
        "        for e in ents:\n",
        "          if ent_text == e[0]:\n",
        "            token = e[1] \n",
        "            break\n",
        "        # verify the GPE is a true GPE for cases that a city has a name that has another meaninig\n",
        "        if token and token.text != token.lemma_: # a true GPE cannot be lemmatized\n",
        "          return 'continue', gpe, 0\n",
        "\n",
        "        # for example there is a city in Denemark that has a name 'rain'\n",
        "        if token and len(ents) > 1 and (token.head == token or token.pos_ not in ['PROPN', 'PRON', 'NOUN']) and not entity._.is_country:\n",
        "          valid_gpe = False\n",
        "          for e in ents:\n",
        "            if ent_text != e[0]:\n",
        "              tk = e[1]\n",
        "              if tk.head == token:  # the token is connected to another gpe, so it is a valid gpe (for example, (paris, canada) are connected\n",
        "                valid_gpe = True\n",
        "                return 'break', gpe, 0\n",
        "          if not valid_gpe:\n",
        "            if DEBUG: p('A:', ent_text)\n",
        "            return 'continue', gpe, 0\n",
        "\n",
        "        ent_type = 'state'\n",
        "        if DEBUG: p('0:', ent_text, entity._.is_city, entity._.is_country)\n",
        "        if entity._.is_city and not entity._.is_country: # 'canada' is a country and also a city in Portugal\n",
        "          ent_type = 'city'\n",
        "          if ent_text in df_CITIES_API.index: \n",
        "            code_country = df_CITIES_API.loc[ent_text].country\n",
        "            if type(code_country) != str:\n",
        "              multiple_cities = True\n",
        "              # see note why not to use code_country[0] which sometimes give 'Key Error'\n",
        "              # https://stackoverflow.com/questions/46153647/keyerror-0-when-accessing-value-in-pandas-series            \n",
        "              ent_country = countries_df.loc[code_country.iloc[0]].Name\n",
        "            else:\n",
        "              ent_country = countries_df.loc[code_country].Name\n",
        "          elif ent_text in CITIES_IL:\n",
        "            ent_country = 'israel'\n",
        "          else:\n",
        "            ent_country = ''\n",
        "        elif entity._.is_country or ent_text in CITIES_API_country_code:\n",
        "          ent_type = 'country'\n",
        "\n",
        "        if ent_type not in gpe:\n",
        "          gpe[ent_type] = []\n",
        "        if ent_type == 'city':\n",
        "           gpe[ent_type].append((entity.text, ent_country))\n",
        "        else:\n",
        "          gpe[ent_type].append(entity.text)\n",
        "        return None, gpe, multiple_cities"
      ],
      "execution_count": 27,
      "outputs": []
    },
    {
      "cell_type": "code",
      "metadata": {
        "id": "A4Dtx_3ng0zQ"
      },
      "source": [
        "def get_city_country(multiple_cities, gpe):\n",
        "  if DEBUG: p('1:', multiple_cities, gpe)\n",
        "  if multiple_cities or ('city' in gpe and len(gpe['city']) > 1):\n",
        "    if 'country' in gpe:\n",
        "      # verify country code of the city is correct, when there are multiple cities\n",
        "      for i, (city, city_country) in enumerate(gpe['city']):\n",
        "        country = gpe['country'][0]\n",
        "        if city_country != country:\n",
        "          for code_country in df_CITIES_API.loc[city].country:\n",
        "            if city_country == countries_df.loc[code_country].Name:\n",
        "              # found a matching country\n",
        "              gpe['city'][i] = (city, country)\n",
        "              break\n",
        "    else:\n",
        "      check_capital = True\n",
        "      if len(gpe['city']) == 2: # maybe entered a country which has city with that name (eg. Toronto, US = there is a city name 'us' in france and 'usa' in japan)\n",
        "        # 'city': [('toronto', 'Canada'), ('us', 'france')]\n",
        "        for i in range(1,-1,-1):\n",
        "          city = gpe['city'][i][0].upper()\n",
        "          if city in countries_df.index: #usually the 2nd \"city\" is the country\n",
        "            city_country = countries_df.loc[city].Name\n",
        "            j = 0 if i == 1 else 1\n",
        "            gpe['city'] = [(gpe['city'][j][0], city_country)]\n",
        "            gpe['country'] = city_country\n",
        "            check_capital = False\n",
        "            break\n",
        "      if check_capital:\n",
        "        # check if one of the cities is a capital or a large city, then use it\n",
        "        #p(gpe, multiple_cities)\n",
        "        for i, (city, city_country) in enumerate(gpe['city']):\n",
        "          if city in capitals_df.index.values:\n",
        "            # found a matching country\n",
        "            city_country = capitals_df.loc[city].country\n",
        "            gpe['city'][i] = (city, city_country)\n",
        "            break\n",
        "          if city in largest_df.index.values:\n",
        "            # found a matching country\n",
        "            city_country = largest_df.loc[city].country\n",
        "            gpe['city'][i] = (city, city_country)\n",
        "            break\n",
        "  elif 'country' in gpe and 'city' in gpe:  # country with city, verify correct\n",
        "      if DEBUG: p('2:', gpe)\n",
        "      # verify country code of the city is correct, when user entered \n",
        "      city, city_country = gpe['city'][0]\n",
        "      country = gpe['country'][0]\n",
        "      if city_country != country:\n",
        "        gpe['city'] = [(city, \"ERROR: \" + MESSAGES[LANG][\"messages\"][\"city_error\"].format(city, country))]\n",
        "  elif 'country' in gpe and 'city' not in gpe:  # country without city, get the capital\n",
        "    country = gpe['country'][0]\n",
        "    #p(country)\n",
        "    if country in CAPITALS:\n",
        "      gpe['city'] = [(CAPITALS[country], country)]\n",
        "  return gpe"
      ],
      "execution_count": 28,
      "outputs": []
    },
    {
      "cell_type": "markdown",
      "metadata": {
        "id": "QdLpZ6kZAl4k"
      },
      "source": [
        "# Get Parts (POS)"
      ]
    },
    {
      "cell_type": "code",
      "metadata": {
        "id": "ZFIUD4FCXyUc",
        "colab": {
          "base_uri": "https://localhost:8080/",
          "height": 292
        },
        "outputId": "3981e902-7287-4889-f0ca-9960b1933318"
      },
      "source": [
        "DEBUG = False\n",
        "def get_parts(text, disp=False, verbose=True, remove_punct=True):\n",
        "  global DEBUG\n",
        "  if remove_punct:\n",
        "    doc = nlp(text.lower().translate(remove_punct_dict))\n",
        "  else:\n",
        "    doc = nlp(text.lower().translate(space_punct_dict))\n",
        "  date, gpe, ents = [], {'action':[]}, []\n",
        "  multiple_cities = False\n",
        "  if disp: p()\n",
        "  for token in doc:\n",
        "    if disp:\n",
        "      p(f\"Tokens of [{token.text}]: dep_={token.dep_}, ent_type={token.ent_type_}, head={token.head}, lemma_={token.lemma_}, pos_={token.pos_}, tag_={token.tag_}, is_action={token._.is_action}\")\n",
        "    if token._.is_action:  # checking for action first catch cities with the same name ('rain' is a city)\n",
        "      tag = ACTIONS[token.lemma_]\n",
        "      tag_exists = [t for t in gpe['action'] if t[0] == tag]\n",
        "      if len(tag_exists) == 0:\n",
        "        gpe['action'].append((tag, token.lemma_))\n",
        "    elif token.ent_type_ == 'GPE': ents.append((token.text.lower(), token))\n",
        "  for entity in doc.ents:\n",
        "      if disp:\n",
        "        print(f\"Entities of [{entity.text}]: {entity.label_}='{spacy.explain(entity.label_)}', is_city={entity._.is_city}, is_country={entity._.is_country}\")\n",
        "      ent_text = entity.text.lower().translate(remove_punct_dict)\n",
        "      if entity.label_ == 'DATE': date.append(ent_text)\n",
        "      '''\n",
        "      if entity._.is_action:  # 'rain' is both a city and weather action\n",
        "        tag = ACTIONS[ent_text]\n",
        "        gpe['action'].append((tag, ent_text))\n",
        "      '''\n",
        "      if entity.label_ == 'GPE':\n",
        "        act, gpe, multiple_cities = check_gpe(entity, ents, ent_text, gpe, multiple_cities)\n",
        "        if act == 'continue': continue\n",
        "        if act == 'break': break\n",
        "     \n",
        "  gpe = get_city_country(multiple_cities, gpe)\n",
        "    # remove city with same name as action ('rain') if there is another city\n",
        "  if 'city' in gpe:\n",
        "    org_gpe = gpe['city'].copy() # copy because the list is modified inside the loop\n",
        "    for tup in org_gpe:\n",
        "      city = tup[0]\n",
        "      city_exists = [t for t in gpe['action'] if t[0] == city or t[1] == city]\n",
        "      if len(city_exists) == 0: continue\n",
        "      if len(gpe['city']) == 1:  # must leave at least one city\n",
        "        # remove from action list if appears only once in the sentence\n",
        "        n = [t for t in doc if t.text == city]\n",
        "        if len(n) > 1: continue\n",
        "        gpe['action'].remove(city_exists[0])\n",
        "        continue\n",
        "      gpe['city'].remove(tup)\n",
        "\n",
        "  if len(date) == 0:\n",
        "    date = 'current'\n",
        "  if len(gpe['action']) == 0:\n",
        "    gpe['action'] = [('all', 'weather')]\n",
        "  else:\n",
        "    for i, tup in enumerate(gpe['action']):\n",
        "      if tup[0] == 'all':\n",
        "        if i == 0: break\n",
        "        gpe['action'].remove(tup)\n",
        "        gpe['action'].insert(0, tup)\n",
        "        break\n",
        "\n",
        "  result = {'date':date}\n",
        "  #result['date'] = date\n",
        "  result.update(gpe)\n",
        "\n",
        "  if disp:\n",
        "    p(result)\n",
        "  elif verbose and 'city' not in result:\n",
        "    p(f'FAILED: org [{text}], {result}')\n",
        "  return result\n",
        "\n",
        "#DEBUG = False\n",
        "if TEST:\n",
        "  get_parts(\"Today weather in a Ra-anana\")\n",
        "  get_parts(\"Today weather in a Ra'anana\")  \n",
        "  get_parts(\"Today weather in a Raanana\")\n",
        "  get_parts(\"weather in toronto\") # there is a city toronto in USA and toronto is not the capital of Canada so we take the first city in the db\n",
        "  get_parts(\"weather in toronto, canada\")\n",
        "  get_parts(\"weather paris next 5 days\")\n",
        "  #get_parts(\"tell me how is the weather in the ra- anana in the\")\n",
        "  get_parts(\"rain in toronto\")\n",
        "  get_parts(\"weather in toronto, us\")\n",
        "  get_parts(\"weather in toronto, canada\")\n",
        "  get_parts(\"weather in jenin\")\n",
        "  get_parts(\"weather in jenin, israel\")\n",
        "  get_parts('haifa, israel')\n",
        "  DEBUG = False\n",
        "  get_parts(\"Wheather forecast in Tel aviv\")\n",
        "  get_parts(\"paris Canada\")\n",
        "  get_parts(\"heat in paris\")\n",
        "  get_parts(\"clouds, heat, rain in toronto\")\n",
        "  get_parts(\"clouds, heat, rain, temp, pressure, humidity, wind, visibility, sunrise in toronto\")\n",
        "  get_parts(\"clouds, heat and rain in rain\")\n",
        "#answer = get_weather('current', [('jerusalem', 'israel')], [('clouds', 'cloud'), ('temp', 'temp'), ('pressure', 'pressure'), ('humidity', 'humidity'), ('wind', 'wind'), ('visibility', 'wind'), ('sunrise', 'wind'), ('weather','rain')])\n",
        "#answer = get_weather('current', [('jerusalem', 'israel')], [('clouds', 'cloud'), ('temp', 'temp'), ('pressure', 'pressure'), ('humidity', 'humidity'), ('wind', 'wind'), ('visibility', 'wind'), ('sunrise', 'wind'), ('weather','rain')])\n",
        "#answer\n",
        "get_parts(\"rain, clouds, weather in toronto, canada\", True)"
      ],
      "execution_count": 29,
      "outputs": [
        {
          "output_type": "stream",
          "text": [
            "\n",
            "Tokens of [rain]: dep_=compound, ent_type=GPE, head=clouds, lemma_=rain, pos_=PROPN, tag_=NNP, is_action=True\n",
            "Tokens of [clouds]: dep_=compound, ent_type=, head=weather, lemma_=clouds, pos_=PROPN, tag_=NNPS, is_action=True\n",
            "Tokens of [weather]: dep_=ROOT, ent_type=, head=weather, lemma_=weather, pos_=PROPN, tag_=NNP, is_action=True\n",
            "Tokens of [in]: dep_=prep, ent_type=, head=weather, lemma_=in, pos_=ADP, tag_=IN, is_action=False\n",
            "Tokens of [toronto]: dep_=compound, ent_type=GPE, head=canada, lemma_=toronto, pos_=PROPN, tag_=NNP, is_action=False\n",
            "Tokens of [canada]: dep_=pobj, ent_type=GPE, head=in, lemma_=canada, pos_=PROPN, tag_=NNP, is_action=False\n"
          ],
          "name": "stdout"
        },
        {
          "output_type": "display_data",
          "data": {
            "application/javascript": [
              "\n",
              "        if (window._pyforest_update_imports_cell) { window._pyforest_update_imports_cell('import spacy\\nimport pandas as pd'); }\n",
              "    "
            ],
            "text/plain": [
              "<IPython.core.display.Javascript object>"
            ]
          },
          "metadata": {
            "tags": []
          }
        },
        {
          "output_type": "stream",
          "text": [
            "Entities of [rain]: GPE='Countries, cities, states', is_city=True, is_country=False\n"
          ],
          "name": "stdout"
        },
        {
          "output_type": "display_data",
          "data": {
            "application/javascript": [
              "\n",
              "        if (window._pyforest_update_imports_cell) { window._pyforest_update_imports_cell('import spacy\\nimport pandas as pd'); }\n",
              "    "
            ],
            "text/plain": [
              "<IPython.core.display.Javascript object>"
            ]
          },
          "metadata": {
            "tags": []
          }
        },
        {
          "output_type": "stream",
          "text": [
            "Entities of [toronto]: GPE='Countries, cities, states', is_city=True, is_country=False\n"
          ],
          "name": "stdout"
        },
        {
          "output_type": "display_data",
          "data": {
            "application/javascript": [
              "\n",
              "        if (window._pyforest_update_imports_cell) { window._pyforest_update_imports_cell('import spacy\\nimport pandas as pd'); }\n",
              "    "
            ],
            "text/plain": [
              "<IPython.core.display.Javascript object>"
            ]
          },
          "metadata": {
            "tags": []
          }
        },
        {
          "output_type": "stream",
          "text": [
            "Entities of [canada]: GPE='Countries, cities, states', is_city=True, is_country=True\n",
            "{'date': 'current', 'action': [('all', 'weather'), ('weather', 'rain'), ('clouds', 'clouds')], 'city': [('toronto', 'canada')], 'country': ['canada']}\n"
          ],
          "name": "stdout"
        },
        {
          "output_type": "execute_result",
          "data": {
            "text/plain": [
              "{'action': [('all', 'weather'), ('weather', 'rain'), ('clouds', 'clouds')],\n",
              " 'city': [('toronto', 'canada')],\n",
              " 'country': ['canada'],\n",
              " 'date': 'current'}"
            ]
          },
          "metadata": {
            "tags": []
          },
          "execution_count": 29
        }
      ]
    },
    {
      "cell_type": "code",
      "metadata": {
        "colab": {
          "base_uri": "https://localhost:8080/",
          "height": 340
        },
        "id": "RZa9eQ4RPPF_",
        "outputId": "300842a2-c272-4291-dfd9-f4da87750744"
      },
      "source": [
        "get_parts(\"20/10/2021\", True, remove_punct=False)\n",
        "get_parts(\"20/10/2021\", True, remove_punct=False)\n",
        "get_parts(\"20 10 2021\", True, remove_punct=False)"
      ],
      "execution_count": 30,
      "outputs": [
        {
          "output_type": "stream",
          "text": [
            "\n",
            "Tokens of [20]: dep_=ROOT, ent_type=DATE, head=20, lemma_=20, pos_=NUM, tag_=CD, is_action=False\n",
            "Tokens of [10]: dep_=nummod, ent_type=DATE, head=2021, lemma_=10, pos_=NUM, tag_=CD, is_action=False\n",
            "Tokens of [2021]: dep_=quantmod, ent_type=DATE, head=20, lemma_=2021, pos_=NUM, tag_=CD, is_action=False\n"
          ],
          "name": "stdout"
        },
        {
          "output_type": "display_data",
          "data": {
            "application/javascript": [
              "\n",
              "        if (window._pyforest_update_imports_cell) { window._pyforest_update_imports_cell('import spacy\\nimport pandas as pd'); }\n",
              "    "
            ],
            "text/plain": [
              "<IPython.core.display.Javascript object>"
            ]
          },
          "metadata": {
            "tags": []
          }
        },
        {
          "output_type": "stream",
          "text": [
            "Entities of [20 10 2021]: DATE='Absolute or relative dates or periods', is_city=False, is_country=False\n",
            "{'date': ['20 10 2021'], 'action': [('all', 'weather')]}\n",
            "\n",
            "Tokens of [20]: dep_=ROOT, ent_type=DATE, head=20, lemma_=20, pos_=NUM, tag_=CD, is_action=False\n",
            "Tokens of [10]: dep_=nummod, ent_type=DATE, head=2021, lemma_=10, pos_=NUM, tag_=CD, is_action=False\n",
            "Tokens of [2021]: dep_=quantmod, ent_type=DATE, head=20, lemma_=2021, pos_=NUM, tag_=CD, is_action=False\n"
          ],
          "name": "stdout"
        },
        {
          "output_type": "display_data",
          "data": {
            "application/javascript": [
              "\n",
              "        if (window._pyforest_update_imports_cell) { window._pyforest_update_imports_cell('import spacy\\nimport pandas as pd'); }\n",
              "    "
            ],
            "text/plain": [
              "<IPython.core.display.Javascript object>"
            ]
          },
          "metadata": {
            "tags": []
          }
        },
        {
          "output_type": "stream",
          "text": [
            "Entities of [20 10 2021]: DATE='Absolute or relative dates or periods', is_city=False, is_country=False\n",
            "{'date': ['20 10 2021'], 'action': [('all', 'weather')]}\n",
            "\n",
            "Tokens of [20]: dep_=ROOT, ent_type=DATE, head=20, lemma_=20, pos_=NUM, tag_=CD, is_action=False\n",
            "Tokens of [10]: dep_=nummod, ent_type=DATE, head=2021, lemma_=10, pos_=NUM, tag_=CD, is_action=False\n",
            "Tokens of [2021]: dep_=quantmod, ent_type=DATE, head=20, lemma_=2021, pos_=NUM, tag_=CD, is_action=False\n"
          ],
          "name": "stdout"
        },
        {
          "output_type": "display_data",
          "data": {
            "application/javascript": [
              "\n",
              "        if (window._pyforest_update_imports_cell) { window._pyforest_update_imports_cell('import spacy\\nimport pandas as pd'); }\n",
              "    "
            ],
            "text/plain": [
              "<IPython.core.display.Javascript object>"
            ]
          },
          "metadata": {
            "tags": []
          }
        },
        {
          "output_type": "stream",
          "text": [
            "Entities of [20 10 2021]: DATE='Absolute or relative dates or periods', is_city=False, is_country=False\n",
            "{'date': ['20 10 2021'], 'action': [('all', 'weather')]}\n"
          ],
          "name": "stdout"
        },
        {
          "output_type": "execute_result",
          "data": {
            "text/plain": [
              "{'action': [('all', 'weather')], 'date': ['20 10 2021']}"
            ]
          },
          "metadata": {
            "tags": []
          },
          "execution_count": 30
        }
      ]
    },
    {
      "cell_type": "code",
      "metadata": {
        "id": "8zapNCcw0yq4",
        "colab": {
          "base_uri": "https://localhost:8080/"
        },
        "outputId": "0f7cbaf9-46d6-4679-b164-d66d69772b1d"
      },
      "source": [
        "if TEST:\n",
        "  get_parts(\"paris Canada\")\n",
        "  get_parts(\"las vegas, united states\")\n",
        "  get_parts(\"las vegas, US\")  \n",
        "  get_parts(\"weather in las vegas, united states\")\n",
        "  get_parts(\"weather in las vegas, US\")\n",
        "  get_parts(\"weather in new york\")    \n",
        "  get_parts(\"weather in new york us\")\n",
        "get_parts(\"paris, Canada\")"
      ],
      "execution_count": 31,
      "outputs": [
        {
          "output_type": "execute_result",
          "data": {
            "text/plain": [
              "{'action': [('all', 'weather')],\n",
              " 'city': [('paris', 'canada')],\n",
              " 'country': ['canada'],\n",
              " 'date': 'current'}"
            ]
          },
          "metadata": {
            "tags": []
          },
          "execution_count": 31
        }
      ]
    },
    {
      "cell_type": "code",
      "metadata": {
        "id": "lQv631Mpz7Xw"
      },
      "source": [
        "DEBUG = False\n",
        "if TEST:\n",
        "  get_parts(\"please tell me if it will rain tonight in Rain\")\n",
        "  get_parts(\"tomorrow and today rain in spain\")\n",
        "  get_parts(\"tomorrow rain in madrid\")\n",
        "  get_parts(\"tomorrow rain in beersheba\")\n",
        "  get_parts(\"tomorrow rain in israel\")\n",
        "  get_parts(\"weather paris Canada\")\n",
        "  get_parts(\"weather paris, Canada\")\n",
        "  get_parts(\"tomorrow rain in yafo\")\n",
        "  "
      ],
      "execution_count": 32,
      "outputs": []
    },
    {
      "cell_type": "code",
      "metadata": {
        "id": "v4aWemRoAIUf",
        "colab": {
          "base_uri": "https://localhost:8080/",
          "height": 445
        },
        "outputId": "f9184561-85a3-482e-a3c6-fd9d4aef85db"
      },
      "source": [
        "if TEST:\n",
        "  get_parts(\"weather in new york\")\n",
        "  get_parts(\"weather in new york us\")\n",
        "  get_parts(\"weather in las vegas\")\n",
        "  get_parts(\"weather in las vegas, US\")\n",
        "  get_parts(\"weather in las vegas, united states\")\n",
        "  get_parts(\"weather in kas vegas\")\n",
        "  get_parts(\"weather in kas vegas, US\")\n",
        "  get_parts(\"what is the weather in summer, Israel\")\n",
        "# ask before switching a langauge\n",
        "get_parts(\"weather in las vegas, us\", True)\n",
        "get_parts(\"weather in new england, us\", True)"
      ],
      "execution_count": 33,
      "outputs": [
        {
          "output_type": "stream",
          "text": [
            "FAILED: org [weather in kas vegas], {'date': 'current', 'action': [('all', 'weather')], 'state': ['kas vegas']}\n",
            "FAILED: org [weather in kas vegas, US], {'date': 'current', 'action': [('all', 'weather')], 'state': ['kas vegas']}\n",
            "\n",
            "Tokens of [weather]: dep_=ROOT, ent_type=, head=weather, lemma_=weather, pos_=NOUN, tag_=NN, is_action=True\n",
            "Tokens of [in]: dep_=prep, ent_type=, head=weather, lemma_=in, pos_=ADP, tag_=IN, is_action=False\n",
            "Tokens of [las]: dep_=compound, ent_type=GPE, head=vegas, lemma_=las, pos_=PROPN, tag_=NNP, is_action=False\n",
            "Tokens of [vegas]: dep_=compound, ent_type=GPE, head=us, lemma_=vegas, pos_=PROPN, tag_=NNP, is_action=False\n",
            "Tokens of [us]: dep_=pobj, ent_type=GPE, head=in, lemma_=us, pos_=PROPN, tag_=NNP, is_action=False\n"
          ],
          "name": "stdout"
        },
        {
          "output_type": "display_data",
          "data": {
            "application/javascript": [
              "\n",
              "        if (window._pyforest_update_imports_cell) { window._pyforest_update_imports_cell('import spacy\\nimport pandas as pd'); }\n",
              "    "
            ],
            "text/plain": [
              "<IPython.core.display.Javascript object>"
            ]
          },
          "metadata": {
            "tags": []
          }
        },
        {
          "output_type": "stream",
          "text": [
            "Entities of [las vegas]: GPE='Countries, cities, states', is_city=True, is_country=False\n"
          ],
          "name": "stdout"
        },
        {
          "output_type": "display_data",
          "data": {
            "application/javascript": [
              "\n",
              "        if (window._pyforest_update_imports_cell) { window._pyforest_update_imports_cell('import spacy\\nimport pandas as pd'); }\n",
              "    "
            ],
            "text/plain": [
              "<IPython.core.display.Javascript object>"
            ]
          },
          "metadata": {
            "tags": []
          }
        },
        {
          "output_type": "stream",
          "text": [
            "Entities of [us]: GPE='Countries, cities, states', is_city=True, is_country=False\n",
            "{'date': 'current', 'action': [('all', 'weather')], 'city': [('las vegas', 'united states')], 'country': 'united states'}\n",
            "\n",
            "Tokens of [weather]: dep_=ROOT, ent_type=, head=weather, lemma_=weather, pos_=NOUN, tag_=NN, is_action=True\n",
            "Tokens of [in]: dep_=prep, ent_type=, head=weather, lemma_=in, pos_=ADP, tag_=IN, is_action=False\n",
            "Tokens of [new]: dep_=compound, ent_type=, head=england, lemma_=new, pos_=PROPN, tag_=NNP, is_action=False\n",
            "Tokens of [england]: dep_=compound, ent_type=GPE, head=us, lemma_=england, pos_=PROPN, tag_=NNP, is_action=False\n",
            "Tokens of [us]: dep_=pobj, ent_type=GPE, head=in, lemma_=us, pos_=PROPN, tag_=NNP, is_action=False\n"
          ],
          "name": "stdout"
        },
        {
          "output_type": "display_data",
          "data": {
            "application/javascript": [
              "\n",
              "        if (window._pyforest_update_imports_cell) { window._pyforest_update_imports_cell('import spacy\\nimport pandas as pd'); }\n",
              "    "
            ],
            "text/plain": [
              "<IPython.core.display.Javascript object>"
            ]
          },
          "metadata": {
            "tags": []
          }
        },
        {
          "output_type": "stream",
          "text": [
            "Entities of [england]: GPE='Countries, cities, states', is_city=True, is_country=False\n"
          ],
          "name": "stdout"
        },
        {
          "output_type": "display_data",
          "data": {
            "application/javascript": [
              "\n",
              "        if (window._pyforest_update_imports_cell) { window._pyforest_update_imports_cell('import spacy\\nimport pandas as pd'); }\n",
              "    "
            ],
            "text/plain": [
              "<IPython.core.display.Javascript object>"
            ]
          },
          "metadata": {
            "tags": []
          }
        },
        {
          "output_type": "stream",
          "text": [
            "Entities of [us]: GPE='Countries, cities, states', is_city=True, is_country=False\n",
            "{'date': 'current', 'action': [('all', 'weather')], 'city': [('england', 'united states')], 'country': 'united states'}\n"
          ],
          "name": "stdout"
        },
        {
          "output_type": "execute_result",
          "data": {
            "text/plain": [
              "{'action': [('all', 'weather')],\n",
              " 'city': [('england', 'united states')],\n",
              " 'country': 'united states',\n",
              " 'date': 'current'}"
            ]
          },
          "metadata": {
            "tags": []
          },
          "execution_count": 33
        }
      ]
    },
    {
      "cell_type": "code",
      "metadata": {
        "id": "LcfVvMeRddoX"
      },
      "source": [
        "if TEST:\n",
        "  get_parts(\"Today weather in a Ra-anana\")\n",
        "  get_parts(\"weather in tel aviv\")\n",
        "  get_parts(\"tomorrow weather in haifa\")\n",
        "  get_parts(\"tomorrow rain in beersheba\")\n",
        "  get_parts(\"weather paris today and tomorrow\")\n",
        "  get_parts(\"weather paris\")\n",
        "  get_parts(\"weather paris in December\")\n",
        "  get_parts(\"ra'anana\")\n",
        "  get_parts(\"Today weather in a Tel Aviv\")\n",
        "  get_parts(\"weather paris\")\n",
        "  get_parts(\"paris weather \")\n",
        "  get_parts('Paris weather in')\n",
        "  get_parts(\"weather shelomi\")"
      ],
      "execution_count": 34,
      "outputs": []
    },
    {
      "cell_type": "code",
      "metadata": {
        "id": "OAr4WaLVDL2x",
        "colab": {
          "base_uri": "https://localhost:8080/"
        },
        "outputId": "f4222fa2-570c-47fc-8251-1c89758e4582"
      },
      "source": [
        "if TEST:\n",
        "  # example of successful chat although get parts failed\n",
        "  get_parts(\"weather in tel-aviv\")\n",
        "  get_parts(\"weather in TelAviv\")   # gave answer for Israel/Jerusalem\n",
        "  get_parts(\"what is tel aviv\")\n",
        "  get_parts(\"wether in tel aviv\")\n",
        "  get_parts(\"please tell me if it will rain tonight in Rain\")"
      ],
      "execution_count": 35,
      "outputs": [
        {
          "output_type": "stream",
          "text": [
            "FAILED: org [weather in tel-aviv], {'date': 'current', 'action': [('all', 'weather')]}\n",
            "FAILED: org [weather in TelAviv], {'date': 'current', 'action': [('all', 'weather')]}\n"
          ],
          "name": "stdout"
        }
      ]
    },
    {
      "cell_type": "code",
      "metadata": {
        "id": "mAH-c7izF8YF",
        "colab": {
          "base_uri": "https://localhost:8080/"
        },
        "outputId": "7a051515-6745-4ffd-d44f-c35cddc7cbf8"
      },
      "source": [
        "if TEST:\n",
        "  # fixed in round1 of the bot (remove stop words and dashes followed by a space '- ')\n",
        "  get_parts(\"weather ra- anana\") # for google\n",
        "  get_parts(\"tell me how is the weather in the ra- anana in the\")"
      ],
      "execution_count": 36,
      "outputs": [
        {
          "output_type": "stream",
          "text": [
            "FAILED: org [weather ra- anana], {'date': 'current', 'action': [('all', 'weather')]}\n",
            "FAILED: org [tell me how is the weather in the ra- anana in the], {'date': 'current', 'action': [('all', 'weather')]}\n"
          ],
          "name": "stdout"
        }
      ]
    },
    {
      "cell_type": "markdown",
      "metadata": {
        "id": "vtB-Itaok9Br"
      },
      "source": [
        "# Run the bot"
      ]
    },
    {
      "cell_type": "code",
      "metadata": {
        "colab": {
          "base_uri": "https://localhost:8080/",
          "height": 85
        },
        "id": "4OiSqiCC9wy7",
        "outputId": "f269d958-ff19-410f-b006-4f44276d8049"
      },
      "source": [
        "nltk.download(['punkt', 'stopwords'])\n",
        "stopwords = nltk.corpus.stopwords.words('english')"
      ],
      "execution_count": 37,
      "outputs": [
        {
          "output_type": "display_data",
          "data": {
            "application/javascript": [
              "\n",
              "        if (window._pyforest_update_imports_cell) { window._pyforest_update_imports_cell('import spacy\\nimport pandas as pd\\nimport nltk'); }\n",
              "    "
            ],
            "text/plain": [
              "<IPython.core.display.Javascript object>"
            ]
          },
          "metadata": {
            "tags": []
          }
        },
        {
          "output_type": "stream",
          "text": [
            "[nltk_data] Downloading package punkt to /root/nltk_data...\n",
            "[nltk_data]   Unzipping tokenizers/punkt.zip.\n",
            "[nltk_data] Downloading package stopwords to /root/nltk_data...\n",
            "[nltk_data]   Unzipping corpora/stopwords.zip.\n"
          ],
          "name": "stdout"
        },
        {
          "output_type": "display_data",
          "data": {
            "application/javascript": [
              "\n",
              "        if (window._pyforest_update_imports_cell) { window._pyforest_update_imports_cell('import spacy\\nimport pandas as pd\\nimport nltk'); }\n",
              "    "
            ],
            "text/plain": [
              "<IPython.core.display.Javascript object>"
            ]
          },
          "metadata": {
            "tags": []
          }
        }
      ]
    },
    {
      "cell_type": "markdown",
      "metadata": {
        "id": "w2lBe7UTUhfO"
      },
      "source": [
        "> when similarity was .075 it matched the sentence\n",
        "\n",
        ">\"tell me how is the weather in the ra- anana in the\"\n",
        "\n",
        ">to \"what's up\" of tag [\"greeting\"] so we increased it to 0.85"
      ]
    },
    {
      "cell_type": "markdown",
      "metadata": {
        "id": "f6T_HYP7seLq"
      },
      "source": [
        "## Google search"
      ]
    },
    {
      "cell_type": "code",
      "metadata": {
        "colab": {
          "base_uri": "https://localhost:8080/",
          "height": 35
        },
        "id": "ry8ASR8NEdKi",
        "outputId": "fb6f3d4c-c0f7-49ed-fbce-6bc960fa1174"
      },
      "source": [
        "def get_google(text):\n",
        "  url = \"https://google.com/search?q=\" + text + '&hl=en'\n",
        "  request_result = requests.get( url )\n",
        "  soup = bs4.BeautifulSoup(request_result.text, \"html.parser\")\n",
        "  spans = soup.find_all('span', class_='BNeawe')\n",
        "  new_text = ''\n",
        "  for span in spans: \n",
        "    if isinstance(span.contents[0], bs4.NavigableString):\n",
        "      new_text += str(span.contents[0]) + ' '\n",
        "  return new_text\n",
        "get_google(\"weather ra anana\")"
      ],
      "execution_count": 38,
      "outputs": [
        {
          "output_type": "execute_result",
          "data": {
            "application/vnd.google.colaboratory.intrinsic+json": {
              "type": "string"
            },
            "text/plain": [
              "\"Ra'anana, Israel  /  Weather \""
            ]
          },
          "metadata": {
            "tags": []
          },
          "execution_count": 38
        }
      ]
    },
    {
      "cell_type": "code",
      "metadata": {
        "id": "g4AnUiGxRt1z"
      },
      "source": [
        "def add_language(lang):\n",
        "  lang_exists = [t for t in MESSAGES_lang if t == lang]\n",
        "  if len(lang_exists) > 0:\n",
        "    p(f'{lang} already exists')\n",
        "    return\n",
        "  MESSAGES_lang.append(lang)\n",
        "  p(MESSAGES_lang)\n",
        "  MESSAGES.update({lang:{'messages':{}}})\n",
        "  new_msg = list(translator.translate(list(MESSAGES_en.values()), dest=lang))\n",
        "  for i, k in enumerate(MESSAGES_en.keys()):\n",
        "    if type(new_msg[i]) is list:\n",
        "      for msg in new_msg[i]:\n",
        "        MESSAGES[lang][\"messages\"].update({k: msg.text})\n",
        "      continue\n",
        "    MESSAGES[lang][\"messages\"].update({k: new_msg[i].text})\n",
        "#  p(MESSAGES[lang])\n",
        "  new_msg = translator.translate(list(intents_en), dest=lang)\n",
        "  intents.update({lang:{'messages':[]}})\n",
        "  msg_arr, i = [], 0\n",
        "  for dict_ in intents['en']['messages']:\n",
        "    resp, msg = [], {}\n",
        "    for k, v in dict_.items():\n",
        "      if k == 'tag' or k == 'patterns':\n",
        "        msg.update({k: v})\n",
        "        continue\n",
        "      for j in range(len(intents['en'][\"messages\"][i][\"responses\"])):\n",
        "        resp.append(new_msg[i][j].text)\n",
        "    msg.update({\"responses\": resp})\n",
        "    msg_arr.append(msg)    \n",
        "    i += 1\n",
        "  intents[lang].update({\"messages\": msg_arr})\n",
        "  # save the new langauge\n",
        "  new_d = {\"intents\": {\"language\": {lang: {'messages': {}}}},\n",
        "          \"messages\": {\"language\": {lang: {'messages': {}}}}}\n",
        "  new_d['intents']['language'][lang] = intents[lang]\n",
        "  new_d['messages']['language'][lang] = MESSAGES[lang]\n",
        "  # read old new langaused that were not yet added to main messages file\n",
        "  list_d = []\n",
        "  try:\n",
        "    with open(path + 'new_messages.json', \"r\") as f:\n",
        "      list_d = json.loads(f.read())\n",
        "  except Exception as error:\n",
        "    pass\n",
        "    #p(error)\n",
        "  list_d.insert(0, new_d) #append(new_d)\n",
        "  #p(list_d)\n",
        "  with open(path + 'new_messages.json', \"w\") as f:\n",
        "    json.dump(list_d, f, indent=1, ensure_ascii = False)\n",
        "    \n",
        "#p(translator.detect('الشغل'))\n",
        "# 'xab' is in Hmong langauge (hmn) \n",
        "#p(translator.detect('Работа'))\n",
        "#add_language('iw') # hebrew\n",
        "#add_language('ar') # arabic\n",
        "#add_language('ru') # russian\n",
        "#add_language('fr')"
      ],
      "execution_count": 39,
      "outputs": []
    },
    {
      "cell_type": "code",
      "metadata": {
        "id": "ry23BUN9weHj",
        "colab": {
          "base_uri": "https://localhost:8080/",
          "height": 343
        },
        "outputId": "31880e55-bc0e-4880-9e3e-e08a0ed17cc4"
      },
      "source": [
        "GOOGLE = True\n",
        "do = True\n",
        "GREETING, NOANSWER = 0, 3\n",
        "#p(intents['intents'][GREETING]['responses'][0])\n",
        "min_similarity = 0.84\n",
        "VERBOSE = 2\n",
        "LANG = 'en'\n",
        "new_lang = ''\n",
        "\n",
        "while do:\n",
        "  user_msg = input().lower().strip()\n",
        "  if user_msg == '':\n",
        "    answers = intents[LANG][\"messages\"][NOANSWER]['responses']\n",
        "    p(\"WeatherBot: \" + random.choice(answers))\n",
        "    continue\n",
        "\n",
        "  if new_lang != '':\n",
        "    if user_msg == '1':\n",
        "      if new_lang not in MESSAGES_lang or new_lang=='fr':\n",
        "        add_language(new_lang)\n",
        "      LANG = new_lang\n",
        "    user_msg = org_msg\n",
        "    new_lang = ''\n",
        "  else:\n",
        "    response = translator.detect(user_msg)\n",
        "    if response.lang == 'iw': response.lang = 'he'\n",
        "    if response.lang != LANG:\n",
        "      p(response.lang)\n",
        "      if response.lang in ['en','he']:\n",
        "        LANG = response.lang\n",
        "      else:\n",
        "        verify = True\n",
        "        if response.lang not in MESSAGES_lang:\n",
        "            # add langauge only when sure - of at least 3 words of length 5 letters each - to prevent erroneous detection\n",
        "          sentence = ' '.join(filter(None, user_msg.split(' ')))\n",
        "          if not (len(sentence) > 11 and len(user_msg.split()) > 2):\n",
        "            verify = False  # False \"new langauge\" - google think that 'haifa israel' is in arabic, and 'Paris, frnace' is in french\n",
        "        if verify:\n",
        "          new_lang = response.lang\n",
        "          org_msg = user_msg\n",
        "          p(\"WeatherBot: \" + MESSAGES[LANG][\"messages\"][\"new_lang\"].format(new_lang))\n",
        "          continue\n",
        "    elif LANG == 'en': # check if the google translate stopped working\n",
        "      test = translator.detect('שלום')\n",
        "      if test.lang == LANG:\n",
        "        p('Note: Google translate stopped working temporarily -> multi-lingual option is not functional')\n",
        "\n",
        "  round = 0\n",
        "  answer = ''\n",
        "  org_msg = user_msg\n",
        "  tag = ''\n",
        "  while round < 5 and do:\n",
        "    if VERBOSE: p(f'round {round}: {user_msg}')\n",
        "    doc1 = nlp(user_msg)\n",
        "    answers, tag = None, None\n",
        "    top_similarity = 0\n",
        "    # verify not an erroneous finding (if we have GPE in the doc we assume it is not a general request)\n",
        "    if len([ent for ent in doc1.ents if ent.label_ == 'GPE']) == 0:\n",
        "      for ints in intents[LANG][\"messages\"]:\n",
        "        #p(ints)\n",
        "        for text in ints['patterns']:\n",
        "          doc2 = nlp(text)\n",
        "          # Get the similarity of doc1 and doc2\n",
        "          if doc1.vector_norm == 0 or doc2.vector_norm == 0:\n",
        "            continue\n",
        "          similarity = doc1.similarity(doc2)\n",
        "          if VERBOSE > 2: p(f\"{similarity}, {doc2}, {[ints['tag']]}\")\n",
        "          if similarity > top_similarity:\n",
        "            top_similarity = similarity\n",
        "            answers = ints['responses']\n",
        "            tag = ints['tag']\n",
        "    #  p(top_similarity, tag)\n",
        "    #  p(answers)\n",
        "      if top_similarity > min_similarity:\n",
        "        if tag == \"goodbye\":\n",
        "          do = False\n",
        "        if tag in [\"goodbye\", \"greeting\", \"thanks\", \"options\"]:\n",
        "          answer = random.choice(answers)\n",
        "          break\n",
        "    if round == 2 and GOOGLE: round = 3 # to know we got the answer from get_parts()\n",
        "    parts = get_parts(user_msg, VERBOSE > 1, False)\n",
        "    if VERBOSE:  p('x:', parts)\n",
        "    if 'date' in parts and 'city' in parts and 'ERROR' not in parts['city'][0][1]:\n",
        "      #p(parts['city'][0][0], parts['city'])\n",
        "      p('calling get_weather', LANG)\n",
        "      answer = get_weather(parts['date'], parts['city'], parts['action'], LANG)\n",
        "      break\n",
        "    elif 'city' in parts and 'ERROR' in parts['city'][0][1]:\n",
        "      answer = parts['city'][0][1]\n",
        "      break\n",
        "    elif round == 0:\n",
        "      round = 1\n",
        "      user_msg = ''\n",
        "      space = ' '\n",
        "      for token in doc1:\n",
        "        if token.text in stopwords: continue\n",
        "        text = token.text.lower().translate(remove_punct_dict)\n",
        "        if text == '': continue\n",
        "        if text[-1] == '-': # take care of 'ra- anana'\n",
        "          user_msg += space + text[:-1]\n",
        "          space = ''\n",
        "        else:\n",
        "          user_msg += space + text\n",
        "          space = ' '\n",
        "      continue\n",
        "    elif round == 1:\n",
        "      round = 2\n",
        "      user_msg = translator.translate(org_msg) # default translation is to english - can set source/dest langauge: src=\"de\"/ dest=\"he\"\n",
        "      if VERBOSE:  p(f\"{user_msg.origin} ({user_msg.src}) --> {user_msg.text} ({user_msg.dest})\")\n",
        "      user_msg = user_msg.text\n",
        "      if user_msg != '':\n",
        "        continue\n",
        "    if round == 2 or round == 3:  # need this round because in round 2 get_google('ביי') returns empty string\n",
        "      round = 4\n",
        "      user_msg = get_google(org_msg)\n",
        "      if user_msg != '':\n",
        "        continue\n",
        "  if round >= 3 and not answer == '' and not 'ERROR' in answer:\n",
        "    p(type(answer))\n",
        "    p(answer)\n",
        "    answer += f' ({MESSAGES[LANG][\"messages\"][\"from_google\"]})'\n",
        "  if answer == '': answer = MESSAGES[LANG][\"messages\"][\"city_unknown\"]  \n",
        "  p(f\"WeatherBot: {answer}\")\n",
        "  #p(tag)\n",
        "# weather in jenin, israel  \n",
        "# 'קשאיקר ןמ ןדרשקך (weather in israel un hebrew)\n",
        "# clouds and pressure in toronto\n",
        "# clouds, temp, pressure, humidity in toronto\n",
        "# get_parts(\"clouds, heat, rain, temp, pressure, humidity, wind, visibility, sunrise in toronto\")\n",
        "# get_parts(\"clouds, heat and rain in rain\", True)\n"
      ],
      "execution_count": 54,
      "outputs": [
        {
          "output_type": "stream",
          "text": [
            "temp in tel aviv in Fahrenheit\n",
            "round 0: temp in tel aviv in fahrenheit\n",
            "\n",
            "Tokens of [temp]: dep_=ROOT, ent_type=, head=temp, lemma_=temp, pos_=PROPN, tag_=NNP, is_action=True\n",
            "Tokens of [in]: dep_=prep, ent_type=, head=temp, lemma_=in, pos_=ADP, tag_=IN, is_action=False\n",
            "Tokens of [tel]: dep_=compound, ent_type=GPE, head=aviv, lemma_=tel, pos_=PROPN, tag_=NNP, is_action=False\n",
            "Tokens of [aviv]: dep_=pobj, ent_type=GPE, head=in, lemma_=aviv, pos_=PROPN, tag_=NNP, is_action=False\n",
            "Tokens of [in]: dep_=prep, ent_type=, head=temp, lemma_=in, pos_=ADP, tag_=IN, is_action=False\n",
            "Tokens of [fahrenheit]: dep_=pobj, ent_type=, head=in, lemma_=fahrenheit, pos_=NOUN, tag_=NN, is_action=True\n"
          ],
          "name": "stdout"
        },
        {
          "output_type": "display_data",
          "data": {
            "application/javascript": [
              "\n",
              "        if (window._pyforest_update_imports_cell) { window._pyforest_update_imports_cell('import tqdm\\nimport altair as alt\\nimport lightgbm as lgb\\nfrom sklearn.model_selection import cross_val_score\\nimport bokeh\\nimport cv2\\nimport pandas as pd\\nfrom sklearn.feature_extraction.text import TfidfVectorizer\\nimport spacy\\nimport pickle\\nfrom sklearn.manifold import TSNE\\nfrom sklearn.model_selection import train_test_split\\nfrom sklearn.feature_extraction.text import CountVectorizer\\nimport textblob\\nfrom openpyxl import load_workbook\\nimport imutils\\nfrom statsmodels.tsa.arima_model import ARIMA\\nimport torch\\nimport plotly.express as px\\nimport nltk\\nimport matplotlib.pyplot as plt\\nimport pydot\\nimport plotly as py\\nimport tensorflow as tf'); }\n",
              "    "
            ],
            "text/plain": [
              "<IPython.core.display.Javascript object>"
            ]
          },
          "metadata": {
            "tags": []
          }
        },
        {
          "output_type": "stream",
          "text": [
            "Entities of [tel aviv]: GPE='Countries, cities, states', is_city=True, is_country=False\n",
            "{'date': 'current', 'action': [('temp', 'temp'), ('fahrenheit', 'fahrenheit')], 'city': [('tel aviv', 'israel')]}\n",
            "x: {'date': 'current', 'action': [('temp', 'temp'), ('fahrenheit', 'fahrenheit')], 'city': [('tel aviv', 'israel')]}\n",
            "calling get_weather en\n",
            "in get_weather: True\n",
            "WeatherBot: In Tel aviv, Israel the current weather is:  temp = 24.02, feels like = 24.46, temp min = 23.43, temp max = 29.31\n",
            "bye\n",
            "round 0: bye\n",
            "WeatherBot: Have a nice day\n"
          ],
          "name": "stdout"
        }
      ]
    },
    {
      "cell_type": "markdown",
      "metadata": {
        "id": "pwK8AS5vcuCq"
      },
      "source": [
        "# TODO:\n",
        "\n",
        "1. DONE: display country when getting result of weather so the user knows it is the right country - if there multiple cities\n",
        "\n",
        "2. DONE: load jsons from github - (one file too large so download it from a shared goole link on my google drive)\n",
        "\n",
        "3. DONE: Use flask\n",
        "\n",
        "4. DONE: if fails to understand try round 2 - removing stop words (punctuation akready done by spacy), then round 3 use google to try to fix typo mistake and only if all fails display a message to user\n",
        "\n",
        "5. To identify if it is a question or not - must be question"
      ]
    },
    {
      "cell_type": "markdown",
      "metadata": {
        "id": "4b9XL6OVBrZ9"
      },
      "source": [
        "Easy:\n",
        "1. Wheather forecast in Tel aviv - DONE partially, what do you mean by 'forecast'\n",
        "\n",
        "1. How hot is it in Herzliya\n",
        "\n",
        "1. Today’s temperature in Netanya\n",
        "\n",
        "1. Moist in Hadera\n",
        "\n",
        "1. How may degrees tonight in Hadera \tOfakim\n",
        "\n",
        "1. Weekly forecast for Ramat Hashron\n",
        "\n",
        "1. Israel desert forecast\n",
        "\n",
        "1. Weather in Ramat gan\n",
        "\n",
        "1.  Moist in Givataim\n",
        "\n",
        "1. Wave height in Ashdod\n",
        "\n",
        "1. Moist ashkelon\n",
        "\n",
        "1. Night degrees in Eilat\n",
        "\n",
        "10 שאלות מורכבות על מזג אויר\n",
        "\n",
        "1. Newt 10 days forecast in Herzliya and Raanana\n",
        "\n",
        "1. Is there a weather forecast on Herzliya\n",
        "\n",
        "1. Would like to get weather forecast on Hadera next week\n",
        "\n",
        "1. North Israel weather\n",
        "\n",
        "1. Monthly average forecast for north israel\n",
        "\n",
        "1. Monthly average forecast on Thailand\n",
        "\n",
        "10 שאלות שגויות לבדיקה מה ניתן\n",
        "\n",
        "1. What are the optional cities for weather forecast\n",
        "\n",
        "1. Who is the first prime minister of Israel\n",
        "\n",
        "1. Who where the 3 stooges\n",
        "\n",
        "1. What is a banana\n",
        "\n",
        "1. Who was Napoleon\n",
        "\n",
        "1. When was photography invented\n",
        "\n",
        "1. Are there aliens\n",
        "\n",
        "Extras:\n",
        "1. בדיקה על תוצרי שליפה במקרה של עיר שקיימת ביותר ממדינה אחת\n",
        "\n",
        "1. \tבמשלוח של עיר כמו PARIS, התקבלו תוצאות הן על צרפת והן ארצות הברית.\n",
        "\n",
        "1. איזה פונקציונאליות נוספת ה API יודע לתת - כרגע נבחר API אחד שיודע לעבוד עם עיר בלבד.\n",
        "\n",
        "1. להבין את שיטות העבודה של ה API (מה קורה במידה ומבקשים תחזית “מחר” - מה הוא יודע להחזיר) - לא רלבנטי \n",
        "\n",
        "1. עובדים עם API בסיסי"
      ]
    },
    {
      "cell_type": "markdown",
      "metadata": {
        "id": "rKZtAV4zK0Ud"
      },
      "source": [
        "# QUESTION:\n",
        "\n",
        "2. Are we to handle 'Ra-anana'? we handle 'Raanana'\n",
        "3. DONE - There is a city toronto in USA and toronto is not the capital of Canada so we take the first city in the db (we check now if it is one of the 100 largest cities in the world)"
      ]
    },
    {
      "cell_type": "markdown",
      "metadata": {
        "id": "Z2je4ehX34Vk"
      },
      "source": [
        "> spacy.__version__ \n",
        "2.2.4\n",
        "\n",
        "> get_parts('haifa, israel', True)\n",
        "\n",
        "haifa, dep_=compound, ent_type=GPE, head=israel, lemma_=haifa, pos_=PROPN, tag_=NNP\n",
        "\n",
        "israel, dep_=ROOT, ent_type=GPE, head=israel, lemma_=israel, pos_=PROPN, tag_=NNP\n",
        "\n",
        "haifa, GPE='Countries, cities, states', is_city=True, is_country=False\n",
        "\n",
        "israel, GPE='Countries, cities, states', is_city=False, is_country=True\n",
        "\n",
        "{'date': 'current', 'city': [('haifa', 'israel')], 'country': ['israel']}\n",
        "\n",
        "{'city': [('haifa', 'israel')], 'country': ['israel'], 'date': 'current'}"
      ]
    },
    {
      "cell_type": "markdown",
      "metadata": {
        "id": "6EWIFDxfteOe"
      },
      "source": [
        "# EXAMPLES\n",
        "\n",
        "0 You:\tweather in jenin, israel\n",
        "\n",
        "1\tBot:\tERROR: city [jenin] not found in country [israel] - try a different spelling of the city\n",
        "\n",
        "2\tYou:\tweather in hebron, israel\n",
        "\n",
        "3\tBot:\tIn Hebron, Israel the current weather is: clear sky\n",
        "\n",
        "4\tYou:\tweather in jenin\n",
        "\n",
        "5\tBot:\tIn Jenin, Poland the current weather is: overcast clouds\n",
        "\n",
        "6\tYou:\tweather in hebron\n",
        "\n",
        "7\tBot:\tIn Hebron, Palestine, state of the current weather is: clear sky\n",
        "\n",
        "8 weather isral\n",
        "\n",
        "9 WeatherBot: In Jerusalem, Israel the current weather is: clear sky (from Google)\n",
        "\n",
        "10 中國的天氣\n",
        "\n",
        "In Beijing, China the current weather is: overcast clouds (from Google)\n",
        "\n",
        "11 погода в китае\n",
        "12 погода в россии"
      ]
    },
    {
      "cell_type": "markdown",
      "metadata": {
        "id": "nki5uNqizBRD"
      },
      "source": [
        "# TEST"
      ]
    },
    {
      "cell_type": "code",
      "metadata": {
        "id": "9mnOvWwRpanq",
        "colab": {
          "base_uri": "https://localhost:8080/"
        },
        "outputId": "5ef97793-ab66-4950-a6c0-95586f2bc8cf"
      },
      "source": [
        "s =\"Tel aviv, Israel\"# מזג האוויר הנוכחי הוא: שמיים בהירים (מגוגל)\"\n",
        "user_msg= translator.translate(s, dest='he')\n",
        "p(f\"{user_msg.origin} ({user_msg.src}) --> {user_msg.text} ({user_msg.dest})\")"
      ],
      "execution_count": 41,
      "outputs": [
        {
          "output_type": "stream",
          "text": [
            "Tel aviv, Israel (en) --> תל אביב, ישראל (he)\n"
          ],
          "name": "stdout"
        }
      ]
    },
    {
      "cell_type": "code",
      "metadata": {
        "id": "Y2ni5rblzD8a",
        "colab": {
          "base_uri": "https://localhost:8080/"
        },
        "outputId": "d9252ebc-2327-4713-8747-b74a224b6e9e"
      },
      "source": [
        "p(translator.detect('Paris, Canada'))\n",
        "p(translator.detect('Работа'))"
      ],
      "execution_count": 42,
      "outputs": [
        {
          "output_type": "stream",
          "text": [
            "Detected(lang=fr, confidence=0.7216785)\n",
            "Detected(lang=['ru', 'bg'], confidence=[0.4296875, 0.37109375])\n"
          ],
          "name": "stdout"
        }
      ]
    }
  ]
}