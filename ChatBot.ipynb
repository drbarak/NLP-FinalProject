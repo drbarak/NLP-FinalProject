{
  "nbformat": 4,
  "nbformat_minor": 0,
  "metadata": {
    "colab": {
      "name": "ChatBot.ipynb",
      "provenance": [],
      "collapsed_sections": [],
      "toc_visible": true,
      "mount_file_id": "1wWc0yqx4cu4YaLKX8wwbXpSlEhffyms5",
      "authorship_tag": "ABX9TyOkthDBJ0kDOyPDZpnvZGu2",
      "include_colab_link": true
    },
    "kernelspec": {
      "name": "python3",
      "display_name": "Python 3"
    },
    "language_info": {
      "name": "python"
    }
  },
  "cells": [
    {
      "cell_type": "markdown",
      "metadata": {
        "id": "view-in-github",
        "colab_type": "text"
      },
      "source": [
        "<a href=\"https://colab.research.google.com/github/drbarak/NLP-FinalProject/blob/main/ChatBot.ipynb\" target=\"_parent\"><img src=\"https://colab.research.google.com/assets/colab-badge.svg\" alt=\"Open In Colab\"/></a>"
      ]
    },
    {
      "cell_type": "code",
      "metadata": {
        "id": "dB2riNzw6QD6"
      },
      "source": [
        "INSTALL = False\n",
        "if INSTALL:\n",
        "  # to switch version of spacy\n",
        "  !pip uninstall spacy\n",
        "  !pip uninstall en_core_web_mdy\n",
        "  \n",
        "  !pip install spacy==2.2.4 #3.0.6\n",
        "\n",
        "  !pip install pyforest\n",
        "  #!pip install wget\n",
        "  !python -m spacy download en_core_web_md"
      ],
      "execution_count": 2,
      "outputs": []
    },
    {
      "cell_type": "markdown",
      "metadata": {
        "id": "UENbsDfWvtF2"
      },
      "source": [
        "# INIT"
      ]
    },
    {
      "cell_type": "code",
      "metadata": {
        "id": "a_gXeiB58h8k"
      },
      "source": [
        "from importlib import import_module\n",
        "p = print\n",
        "def my_import(lib, package=None, func=None, version=None):\n",
        "  try:\n",
        "    import_module(lib)\n",
        "  except:\n",
        "    if package is None: package = lib\n",
        "    if version:\n",
        "      p('pip install \"{package}=={version}\"')\n",
        "      !pip install \"{package}=={version}\"\n",
        "    else:\n",
        "      p('pip install \"{package}\"')\n",
        "      !pip install \"{package}\"\n",
        "    import_module(lib)\n",
        "  \n",
        "  if func is not None:\n",
        "    return import_module(lib).__getattribute__(func)"
      ],
      "execution_count": 3,
      "outputs": []
    },
    {
      "cell_type": "code",
      "metadata": {
        "id": "RgpLToDvAC0z",
        "colab": {
          "base_uri": "https://localhost:8080/"
        },
        "outputId": "645579b5-28b9-4104-b219-ccb0a8c464a0"
      },
      "source": [
        "my_import('pyforest')\n",
        "import json\n",
        "import string\n",
        "import random\n",
        "remove_punct_dict = dict((ord(punct), None) for punct in string.punctuation)\n",
        "\n",
        "p = print\n",
        "d = display"
      ],
      "execution_count": 4,
      "outputs": [
        {
          "output_type": "stream",
          "text": [
            "pip install \"{package}\"\n",
            "Collecting pyforest\n",
            "  Downloading https://files.pythonhosted.org/packages/e5/ae/418f9bbcfb442bb6775f294451c97e134f84c8c4f47d75208419e4af7e13/pyforest-1.1.0.tar.gz\n",
            "Building wheels for collected packages: pyforest\n",
            "  Building wheel for pyforest (setup.py) ... \u001b[?25l\u001b[?25hdone\n",
            "  Created wheel for pyforest: filename=pyforest-1.1.0-py2.py3-none-any.whl size=14606 sha256=926ba467a4bfe25806726db2a1c5746d1ffd251336f804aaac8fc1de855cad5e\n",
            "  Stored in directory: /root/.cache/pip/wheels/40/c6/da/43562aeea85b37f1a2b3d326f0f602f865000d2ada8a43625f\n",
            "Successfully built pyforest\n",
            "Installing collected packages: pyforest\n",
            "Successfully installed pyforest-1.1.0\n"
          ],
          "name": "stdout"
        }
      ]
    },
    {
      "cell_type": "code",
      "metadata": {
        "id": "opt4fUcLfvZ_",
        "colab": {
          "base_uri": "https://localhost:8080/",
          "height": 615
        },
        "outputId": "b8bb9c0f-9809-4ee3-d14e-56b0f1002b3b"
      },
      "source": [
        "#my_import('spacy', version='3.0.6')\n",
        "p('spacy.__version__', spacy.__version__)\n",
        "from spacy.tokens import Doc, Span\n",
        "from spacy.matcher import PhraseMatcher\n",
        "from spacy.language import Language\n",
        "\n",
        "# Load md (medium) English tokenizer, tagger, parser and NER, and vectors(vectors are not included in the 'sm' model)\n",
        "#nlp = spacy.load('en_core_web_md')  NOT WORKING ON COLAB\n",
        "try:\n",
        "  import en_core_web_md\n",
        "except:  \n",
        "  !python -m spacy download en_core_web_md\n",
        "  import en_core_web_md\n",
        "  \n",
        "nlp = en_core_web_md.load()"
      ],
      "execution_count": 5,
      "outputs": [
        {
          "output_type": "display_data",
          "data": {
            "application/javascript": [
              "\n",
              "        if (window._pyforest_update_imports_cell) { window._pyforest_update_imports_cell('import spacy'); }\n",
              "    "
            ],
            "text/plain": [
              "<IPython.core.display.Javascript object>"
            ]
          },
          "metadata": {
            "tags": []
          }
        },
        {
          "output_type": "stream",
          "text": [
            "spacy.__version__ 2.2.4\n",
            "Collecting en_core_web_md==2.2.5\n",
            "\u001b[?25l  Downloading https://github.com/explosion/spacy-models/releases/download/en_core_web_md-2.2.5/en_core_web_md-2.2.5.tar.gz (96.4MB)\n",
            "\u001b[K     |████████████████████████████████| 96.4MB 1.3MB/s \n",
            "\u001b[?25hRequirement already satisfied: spacy>=2.2.2 in /usr/local/lib/python3.7/dist-packages (from en_core_web_md==2.2.5) (2.2.4)\n",
            "Requirement already satisfied: murmurhash<1.1.0,>=0.28.0 in /usr/local/lib/python3.7/dist-packages (from spacy>=2.2.2->en_core_web_md==2.2.5) (1.0.5)\n",
            "Requirement already satisfied: preshed<3.1.0,>=3.0.2 in /usr/local/lib/python3.7/dist-packages (from spacy>=2.2.2->en_core_web_md==2.2.5) (3.0.5)\n",
            "Requirement already satisfied: requests<3.0.0,>=2.13.0 in /usr/local/lib/python3.7/dist-packages (from spacy>=2.2.2->en_core_web_md==2.2.5) (2.23.0)\n",
            "Requirement already satisfied: blis<0.5.0,>=0.4.0 in /usr/local/lib/python3.7/dist-packages (from spacy>=2.2.2->en_core_web_md==2.2.5) (0.4.1)\n",
            "Requirement already satisfied: srsly<1.1.0,>=1.0.2 in /usr/local/lib/python3.7/dist-packages (from spacy>=2.2.2->en_core_web_md==2.2.5) (1.0.5)\n",
            "Requirement already satisfied: cymem<2.1.0,>=2.0.2 in /usr/local/lib/python3.7/dist-packages (from spacy>=2.2.2->en_core_web_md==2.2.5) (2.0.5)\n",
            "Requirement already satisfied: thinc==7.4.0 in /usr/local/lib/python3.7/dist-packages (from spacy>=2.2.2->en_core_web_md==2.2.5) (7.4.0)\n",
            "Requirement already satisfied: setuptools in /usr/local/lib/python3.7/dist-packages (from spacy>=2.2.2->en_core_web_md==2.2.5) (57.0.0)\n",
            "Requirement already satisfied: numpy>=1.15.0 in /usr/local/lib/python3.7/dist-packages (from spacy>=2.2.2->en_core_web_md==2.2.5) (1.19.5)\n",
            "Requirement already satisfied: plac<1.2.0,>=0.9.6 in /usr/local/lib/python3.7/dist-packages (from spacy>=2.2.2->en_core_web_md==2.2.5) (1.1.3)\n",
            "Requirement already satisfied: tqdm<5.0.0,>=4.38.0 in /usr/local/lib/python3.7/dist-packages (from spacy>=2.2.2->en_core_web_md==2.2.5) (4.41.1)\n",
            "Requirement already satisfied: catalogue<1.1.0,>=0.0.7 in /usr/local/lib/python3.7/dist-packages (from spacy>=2.2.2->en_core_web_md==2.2.5) (1.0.0)\n",
            "Requirement already satisfied: wasabi<1.1.0,>=0.4.0 in /usr/local/lib/python3.7/dist-packages (from spacy>=2.2.2->en_core_web_md==2.2.5) (0.8.2)\n",
            "Requirement already satisfied: urllib3!=1.25.0,!=1.25.1,<1.26,>=1.21.1 in /usr/local/lib/python3.7/dist-packages (from requests<3.0.0,>=2.13.0->spacy>=2.2.2->en_core_web_md==2.2.5) (1.24.3)\n",
            "Requirement already satisfied: idna<3,>=2.5 in /usr/local/lib/python3.7/dist-packages (from requests<3.0.0,>=2.13.0->spacy>=2.2.2->en_core_web_md==2.2.5) (2.10)\n",
            "Requirement already satisfied: chardet<4,>=3.0.2 in /usr/local/lib/python3.7/dist-packages (from requests<3.0.0,>=2.13.0->spacy>=2.2.2->en_core_web_md==2.2.5) (3.0.4)\n",
            "Requirement already satisfied: certifi>=2017.4.17 in /usr/local/lib/python3.7/dist-packages (from requests<3.0.0,>=2.13.0->spacy>=2.2.2->en_core_web_md==2.2.5) (2021.5.30)\n",
            "Requirement already satisfied: importlib-metadata>=0.20; python_version < \"3.8\" in /usr/local/lib/python3.7/dist-packages (from catalogue<1.1.0,>=0.0.7->spacy>=2.2.2->en_core_web_md==2.2.5) (4.5.0)\n",
            "Requirement already satisfied: zipp>=0.5 in /usr/local/lib/python3.7/dist-packages (from importlib-metadata>=0.20; python_version < \"3.8\"->catalogue<1.1.0,>=0.0.7->spacy>=2.2.2->en_core_web_md==2.2.5) (3.4.1)\n",
            "Requirement already satisfied: typing-extensions>=3.6.4; python_version < \"3.8\" in /usr/local/lib/python3.7/dist-packages (from importlib-metadata>=0.20; python_version < \"3.8\"->catalogue<1.1.0,>=0.0.7->spacy>=2.2.2->en_core_web_md==2.2.5) (3.7.4.3)\n",
            "Building wheels for collected packages: en-core-web-md\n",
            "  Building wheel for en-core-web-md (setup.py) ... \u001b[?25l\u001b[?25hdone\n",
            "  Created wheel for en-core-web-md: filename=en_core_web_md-2.2.5-cp37-none-any.whl size=98051304 sha256=2398c1e5bd38920b8130d4e6ce46b1d00c0b8e76f38fffa5055d3588f64de7a1\n",
            "  Stored in directory: /tmp/pip-ephem-wheel-cache-cnrhhijc/wheels/df/94/ad/f5cf59224cea6b5686ac4fd1ad19c8a07bc026e13c36502d81\n",
            "Successfully built en-core-web-md\n",
            "Installing collected packages: en-core-web-md\n",
            "Successfully installed en-core-web-md-2.2.5\n",
            "\u001b[38;5;2m✔ Download and installation successful\u001b[0m\n",
            "You can now load the model via spacy.load('en_core_web_md')\n"
          ],
          "name": "stdout"
        }
      ]
    },
    {
      "cell_type": "code",
      "metadata": {
        "colab": {
          "base_uri": "https://localhost:8080/"
        },
        "id": "9Z58HiRJLMen",
        "outputId": "0219bb49-658b-4c91-f17b-c3fbf1ba43b4"
      },
      "source": [
        "#!pip uninstall googletrans\n",
        "my_import('googletrans', version='3.1.0a0')\n",
        "from googletrans import Translator\n",
        "translator = Translator()"
      ],
      "execution_count": 6,
      "outputs": [
        {
          "output_type": "stream",
          "text": [
            "pip install \"{package}=={version}\"\n",
            "Collecting googletrans==3.1.0a0\n",
            "  Downloading https://files.pythonhosted.org/packages/19/3d/4e3a1609bf52f2f7b00436cc751eb977e27040665dde2bd57e7152989672/googletrans-3.1.0a0.tar.gz\n",
            "Collecting httpx==0.13.3\n",
            "\u001b[?25l  Downloading https://files.pythonhosted.org/packages/54/b4/698b284c6aed4d7c2b4fe3ba5df1fcf6093612423797e76fbb24890dd22f/httpx-0.13.3-py3-none-any.whl (55kB)\n",
            "\u001b[K     |████████████████████████████████| 61kB 3.9MB/s \n",
            "\u001b[?25hRequirement already satisfied: idna==2.* in /usr/local/lib/python3.7/dist-packages (from httpx==0.13.3->googletrans==3.1.0a0) (2.10)\n",
            "Requirement already satisfied: chardet==3.* in /usr/local/lib/python3.7/dist-packages (from httpx==0.13.3->googletrans==3.1.0a0) (3.0.4)\n",
            "Collecting httpcore==0.9.*\n",
            "\u001b[?25l  Downloading https://files.pythonhosted.org/packages/dd/d5/e4ff9318693ac6101a2095e580908b591838c6f33df8d3ee8dd953ba96a8/httpcore-0.9.1-py3-none-any.whl (42kB)\n",
            "\u001b[K     |████████████████████████████████| 51kB 5.7MB/s \n",
            "\u001b[?25hCollecting sniffio\n",
            "  Downloading https://files.pythonhosted.org/packages/52/b0/7b2e028b63d092804b6794595871f936aafa5e9322dcaaad50ebf67445b3/sniffio-1.2.0-py3-none-any.whl\n",
            "Requirement already satisfied: certifi in /usr/local/lib/python3.7/dist-packages (from httpx==0.13.3->googletrans==3.1.0a0) (2021.5.30)\n",
            "Collecting hstspreload\n",
            "\u001b[?25l  Downloading https://files.pythonhosted.org/packages/dd/50/606213e12fb49c5eb667df0936223dcaf461f94e215ea60244b2b1e9b039/hstspreload-2020.12.22-py3-none-any.whl (994kB)\n",
            "\u001b[K     |████████████████████████████████| 1.0MB 12.8MB/s \n",
            "\u001b[?25hCollecting rfc3986<2,>=1.3\n",
            "  Downloading https://files.pythonhosted.org/packages/c4/e5/63ca2c4edf4e00657584608bee1001302bbf8c5f569340b78304f2f446cb/rfc3986-1.5.0-py2.py3-none-any.whl\n",
            "Collecting h11<0.10,>=0.8\n",
            "\u001b[?25l  Downloading https://files.pythonhosted.org/packages/5a/fd/3dad730b0f95e78aeeb742f96fa7bbecbdd56a58e405d3da440d5bfb90c6/h11-0.9.0-py2.py3-none-any.whl (53kB)\n",
            "\u001b[K     |████████████████████████████████| 61kB 7.3MB/s \n",
            "\u001b[?25hCollecting h2==3.*\n",
            "\u001b[?25l  Downloading https://files.pythonhosted.org/packages/25/de/da019bcc539eeab02f6d45836f23858ac467f584bfec7a526ef200242afe/h2-3.2.0-py2.py3-none-any.whl (65kB)\n",
            "\u001b[K     |████████████████████████████████| 71kB 6.9MB/s \n",
            "\u001b[?25hCollecting hyperframe<6,>=5.2.0\n",
            "  Downloading https://files.pythonhosted.org/packages/19/0c/bf88182bcb5dce3094e2f3e4fe20db28a9928cb7bd5b08024030e4b140db/hyperframe-5.2.0-py2.py3-none-any.whl\n",
            "Collecting hpack<4,>=3.0\n",
            "  Downloading https://files.pythonhosted.org/packages/8a/cc/e53517f4a1e13f74776ca93271caef378dadec14d71c61c949d759d3db69/hpack-3.0.0-py2.py3-none-any.whl\n",
            "Building wheels for collected packages: googletrans\n",
            "  Building wheel for googletrans (setup.py) ... \u001b[?25l\u001b[?25hdone\n",
            "  Created wheel for googletrans: filename=googletrans-3.1.0a0-cp37-none-any.whl size=16368 sha256=f9d290796399519658ac9b0f9ff2a3af74448b7dc38a53205194abae4e6203c9\n",
            "  Stored in directory: /root/.cache/pip/wheels/27/7a/a0/aff3babbb775549ce6813cb8fa7ff3c0848c4dc62c20f8fdac\n",
            "Successfully built googletrans\n",
            "Installing collected packages: h11, sniffio, hyperframe, hpack, h2, httpcore, hstspreload, rfc3986, httpx, googletrans\n",
            "Successfully installed googletrans-3.1.0a0 h11-0.9.0 h2-3.2.0 hpack-3.0.0 hstspreload-2020.12.22 httpcore-0.9.1 httpx-0.13.3 hyperframe-5.2.0 rfc3986-1.5.0 sniffio-1.2.0\n"
          ],
          "name": "stdout"
        }
      ]
    },
    {
      "cell_type": "code",
      "metadata": {
        "id": "CyI-Lrj9LxYQ"
      },
      "source": [
        "#translation = translator.translate(\"Hola Mundo\", dest=\"he\") # default is english, can specify source langauge ,src=\"de\"\n",
        "#print(f\"{translation.origin} ({translation.src}) --> {translation.text} ({translation.dest})\")"
      ],
      "execution_count": 7,
      "outputs": []
    },
    {
      "cell_type": "code",
      "metadata": {
        "id": "OdnCbXKo5cwo"
      },
      "source": [
        "import requests\n",
        "\n",
        "api_key = 'c2adfa29edfd95ad16efab9218619ff3'\n",
        "URL = \"http://api.openweathermap.org/data/2.5/weather?\""
      ],
      "execution_count": 8,
      "outputs": []
    },
    {
      "cell_type": "code",
      "metadata": {
        "id": "6e8DgeWTF03z"
      },
      "source": [
        "path = '/content/drive/MyDrive/Project5_ChatBot/'\n",
        "data_url = 'https://raw.githubusercontent.com/DanielKorenDataScience/NLP-FinalProject/main/data/' "
      ],
      "execution_count": 9,
      "outputs": []
    },
    {
      "cell_type": "code",
      "metadata": {
        "id": "SFqfk8lMh8x-"
      },
      "source": [
        "TEST = False"
      ],
      "execution_count": 10,
      "outputs": []
    },
    {
      "cell_type": "code",
      "metadata": {
        "id": "rJpv2GTU2-l7"
      },
      "source": [
        "def process_text(text):\n",
        "    doc = nlp(text.lower())\n",
        "    result = []\n",
        "    for token in doc:\n",
        "        if token.text in nlp.Defaults.stop_words:   # len(nlp.Defaults.stop_words)=326\n",
        "            continue\n",
        "        if token.is_punct:\n",
        "            continue\n",
        "        if token.lemma_ == '-PRON-':\n",
        "            p('-PRON-: ', token.lemma_)\n",
        "            continue\n",
        "        result.append(token.lemma_)\n",
        "    return \" \".join(result)"
      ],
      "execution_count": 11,
      "outputs": []
    },
    {
      "cell_type": "code",
      "metadata": {
        "id": "dG99z-tM4cl4"
      },
      "source": [
        "def calculate_similarity(text1, text2):\n",
        "    def get_similarity(doc1, doc2):\n",
        "      if doc1 and doc1.vector_norm:\n",
        "        if doc2 and doc2.vector_norm:\n",
        "          return doc1.similarity(doc2)\n",
        "      return 0\n",
        "\n",
        "    doc1 = nlp(text1)\n",
        "    #p(doc1.pos_)\n",
        "    doc2 = nlp(text2)\n",
        "    similarity1 = get_similarity(doc1, doc2)\n",
        "\n",
        "    doc1 = nlp(process_text(text1))\n",
        "    #p(doc1)\n",
        "    doc2 = nlp(process_text(text2))\n",
        "    #p(doc2)\n",
        "    similarity2 = get_similarity(doc1, doc2)\n",
        "\n",
        "    return max(similarity1, similarity2)"
      ],
      "execution_count": 12,
      "outputs": []
    },
    {
      "cell_type": "markdown",
      "metadata": {
        "id": "mS1pXmhO4ugH"
      },
      "source": [
        "# Call the web site"
      ]
    },
    {
      "cell_type": "markdown",
      "metadata": {
        "id": "Dhygq47xtL1r"
      },
      "source": [
        "{\"coord\":{\"lon\":34.8,\"lat\":32.0833},\n",
        "\n",
        "\"weather\":[{\"id\":801,\"main\":\"Clouds\",\"description\":\"few clouds\",\"icon\":\"02n\"}],\n",
        "\n",
        "\"base\":\"stations\",\n",
        "\n",
        "\"main\":{\"temp\":295.69,\"feels_like\":295.83,\"temp_min\":294.42,\"temp_max\":296.58,\"pressure\":1016,\"humidity\":70},\n",
        "\n",
        "\"visibility\":10000,\n",
        "\n",
        "\"wind\":{\"speed\":2.06,\"deg\":10},\n",
        "\n",
        "\"clouds\":{\"all\":20},\n",
        "\n",
        "\"dt\":1623961727,\n",
        "\n",
        "\"sys\":{\"type\":1,\"id\":6845,\"country\":\"IL\",\"sunrise\":1623897263,\"sunset\":1623948546},\n",
        "\n",
        "\"timezone\":10800,\n",
        "\n",
        "\"id\":293396,\n",
        "\n",
        "\"name\":\"Tel Aviv\",\n",
        "\n",
        "\"cod\":200}"
      ]
    },
    {
      "cell_type": "code",
      "metadata": {
        "id": "IQObVOJn-LGD"
      },
      "source": [
        "WEATHER_ONLY = 1"
      ],
      "execution_count": 14,
      "outputs": []
    },
    {
      "cell_type": "code",
      "metadata": {
        "id": "Kkn5WmrShACd"
      },
      "source": [
        "def call_web(city_name, country, count=1):\n",
        "    state = ''\n",
        "    api_url = f\"{URL}q={city_name},{state},{country}&cnt={count}&appid={api_key}\"\n",
        "    #p(api_url)\n",
        "\n",
        "    response = requests.get(api_url)\n",
        "    response_dict = response.json()\n",
        "\n",
        "    weather = response_dict #[\"weather\"]#[0]#[\"description\"]\n",
        "\n",
        "    if response.status_code == 200:\n",
        "        return weather\n",
        "    elif response.status_code == 404:\n",
        "        return None\n",
        "    else:\n",
        "        print('[!] HTTP {0} calling [{1}]'.format(response.status_code, api_url))\n",
        "        return None"
      ],
      "execution_count": 15,
      "outputs": []
    },
    {
      "cell_type": "code",
      "metadata": {
        "id": "y1XIdfNeh1d5"
      },
      "source": [
        "def get_weather(dt, location, action = None):\n",
        "  template = WEATHER_ONLY\n",
        "  #p(dt, location)\n",
        "  city_w = city = location[0][0]  # assume one city (not handling if there are 2 cities)\n",
        "  #p(city, city_w)\n",
        "  result = ''\n",
        "  # check if city in api_city list\n",
        "  if city in df_CITIES_API.index.values:\n",
        "    result = df_CITIES_API.loc[city]\n",
        "  if len(result) == 0: # not found, get district\n",
        "    if city in cities_il_df.index.values:\n",
        "      city_w = cities_il_df.loc[city].district\n",
        "  elif len(result) > 0: # more than one city -> need country\n",
        "    pass\n",
        "\n",
        "  #p(city_w, location)\n",
        "  country = location[0][1]\n",
        "  #p(country, len(countries_df.Name))\n",
        "  if country in list(countries_df.Name):\n",
        "    country_code = countries_df[countries_df.Name == country].index[0]\n",
        "  else:\n",
        "    country_code = ''\n",
        "  #p(city_w, country_code)#\n",
        "  city_weather = call_web(city_w, country_code)\n",
        "  if city_weather is not None:\n",
        "    if template == WEATHER_ONLY:\n",
        "      result = city_weather[\"weather\"][0][\"description\"]\n",
        "    return f\"In {city.capitalize()}, {location[0][1].capitalize()} the current weather is: {result}\"\n",
        "  else:\n",
        "    return \"Something went wrong (API).\"\n",
        " \n",
        "#answer = get_weather('current', [('toronto', 'united states')])\n",
        "#answer"
      ],
      "execution_count": 116,
      "outputs": []
    },
    {
      "cell_type": "markdown",
      "metadata": {
        "id": "GMXfN0EnkL3a"
      },
      "source": [
        "# Get cities and update model"
      ]
    },
    {
      "cell_type": "code",
      "metadata": {
        "id": "rF2CJIu3pOik"
      },
      "source": [
        "GIT = True\n",
        "git_path = 'https://raw.githubusercontent.com/DanielKorenDataScience/NLP-FinalProject/main/data/'\n",
        "\n",
        "def get_json(fname, GIT=True):\n",
        "  p(fname)\n",
        "  if GIT:\n",
        "    resp = requests.get(data_url + fname)\n",
        "    return json.loads(resp.text)\n",
        "  with open(path + fname, encoding=\"utf8\") as f:\n",
        "    return json.loads(f.read())"
      ],
      "execution_count": 18,
      "outputs": []
    },
    {
      "cell_type": "code",
      "metadata": {
        "colab": {
          "base_uri": "https://localhost:8080/"
        },
        "id": "pyn9GTNLu_XA",
        "outputId": "b59b729b-8774-41ce-b8ba-56134057f345"
      },
      "source": [
        "intents = get_json('intents.json')\n",
        "#intents"
      ],
      "execution_count": 19,
      "outputs": [
        {
          "output_type": "stream",
          "text": [
            "intents.json\n"
          ],
          "name": "stdout"
        }
      ]
    },
    {
      "cell_type": "code",
      "metadata": {
        "id": "jVyPlh34vAJ8",
        "colab": {
          "base_uri": "https://localhost:8080/",
          "height": 422
        },
        "outputId": "4119e486-56e5-431c-ad1e-afc834c1c6f2"
      },
      "source": [
        "my_import('wget')\n",
        "import wget\n",
        "\n",
        "def load_CITIES_API():\n",
        "  # file too big for git so read it from my google drive using a shared link\n",
        "  CITIES_API = get_json('city.list.json')\n",
        "  ''' \n",
        "  git_path = 'https://raw.githubusercontent.com/DanielKorenDataScience/NLP-FinalProject/main/' + 'city.list.json'\n",
        "  resp = requests.get(git_path)\n",
        "  CITIES_API = json.loads(resp.text)\n",
        "\n",
        "  google_shared_link = 'https://drive.google.com/file/d/19lB4T32o1VbFAKRk_PExbNYV8mcZ8hRT/view?usp=sharing'\n",
        "  url = 'https://drive.google.com/uc?authuser=0&id=19lB4T32o1VbFAKRk_PExbNYV8mcZ8hRT&export=download'\n",
        "  file_id = '19lB4T32o1VbFAKRk_PExbNYV8mcZ8hRT'\n",
        "  \n",
        "  while True:\n",
        "    try:\n",
        "      with open('city.list.json', encoding=\"utf8\") as f:\n",
        "        CITIES_API = json.loads(f.read())\n",
        "      break\n",
        "    except:\n",
        "      wget.download(url)  # download the file to local google drive with the original name in the share link\n",
        "      # now can open with no path because it is in the local 'colab' directory\n",
        "  \n",
        "  '''\n",
        "  df = pd.DataFrame(CITIES_API)\n",
        "  df = df.drop(['id', 'coord'], axis='columns')\n",
        "  df.name = df.name.str.lower()\n",
        "  df.name = df.name.str.translate(remove_punct_dict)\n",
        "\n",
        "  CITIES_API_city = sorted(set(df.name.to_list()))\n",
        "  CITIES_API_country = sorted(set(df.country.str.lower().to_list()))\n",
        "  if CITIES_API_country[0] == '':\n",
        "    CITIES_API_country = CITIES_API_country[1:]\n",
        "  CITIES_API_state = sorted(set(df.state.str.lower().to_list()))\n",
        "  if CITIES_API_state[0] == '':\n",
        "    CITIES_API_state = CITIES_API_state[1:]\n",
        "  if CITIES_API_state[0] == '00':\n",
        "    CITIES_API_state = CITIES_API_state[1:]\n",
        "  \n",
        "  df.set_index('name', inplace=True)\n",
        "  #d(df.head)\n",
        "  return df, CITIES_API_city, CITIES_API_country, CITIES_API_state\n",
        "\n",
        "df_CITIES_API, CITIES_API_city, CITIES_API_country_code, CITIES_API_state_code = load_CITIES_API()\n",
        "df_CITIES_API.head()"
      ],
      "execution_count": 20,
      "outputs": [
        {
          "output_type": "stream",
          "text": [
            "pip install \"{package}\"\n",
            "Collecting wget\n",
            "  Downloading https://files.pythonhosted.org/packages/47/6a/62e288da7bcda82b935ff0c6cfe542970f04e29c756b0e147251b2fb251f/wget-3.2.zip\n",
            "Building wheels for collected packages: wget\n",
            "  Building wheel for wget (setup.py) ... \u001b[?25l\u001b[?25hdone\n",
            "  Created wheel for wget: filename=wget-3.2-cp37-none-any.whl size=9675 sha256=a50d583c13e9de0d23fccb8492e5feac3baa67a049dbfc275a3d23b72e6ac60b\n",
            "  Stored in directory: /root/.cache/pip/wheels/40/15/30/7d8f7cea2902b4db79e3fea550d7d7b85ecb27ef992b618f3f\n",
            "Successfully built wget\n",
            "Installing collected packages: wget\n",
            "Successfully installed wget-3.2\n",
            "city.list.json\n"
          ],
          "name": "stdout"
        },
        {
          "output_type": "display_data",
          "data": {
            "application/javascript": [
              "\n",
              "        if (window._pyforest_update_imports_cell) { window._pyforest_update_imports_cell('import spacy\\nimport pandas as pd'); }\n",
              "    "
            ],
            "text/plain": [
              "<IPython.core.display.Javascript object>"
            ]
          },
          "metadata": {
            "tags": []
          }
        },
        {
          "output_type": "execute_result",
          "data": {
            "text/html": [
              "<div>\n",
              "<style scoped>\n",
              "    .dataframe tbody tr th:only-of-type {\n",
              "        vertical-align: middle;\n",
              "    }\n",
              "\n",
              "    .dataframe tbody tr th {\n",
              "        vertical-align: top;\n",
              "    }\n",
              "\n",
              "    .dataframe thead th {\n",
              "        text-align: right;\n",
              "    }\n",
              "</style>\n",
              "<table border=\"1\" class=\"dataframe\">\n",
              "  <thead>\n",
              "    <tr style=\"text-align: right;\">\n",
              "      <th></th>\n",
              "      <th>state</th>\n",
              "      <th>country</th>\n",
              "    </tr>\n",
              "    <tr>\n",
              "      <th>name</th>\n",
              "      <th></th>\n",
              "      <th></th>\n",
              "    </tr>\n",
              "  </thead>\n",
              "  <tbody>\n",
              "    <tr>\n",
              "      <th>ḩeşāre sefīd</th>\n",
              "      <td></td>\n",
              "      <td>IR</td>\n",
              "    </tr>\n",
              "    <tr>\n",
              "      <th>‘ayn ḩalāqīm</th>\n",
              "      <td></td>\n",
              "      <td>SY</td>\n",
              "    </tr>\n",
              "    <tr>\n",
              "      <th>taglag</th>\n",
              "      <td></td>\n",
              "      <td>IR</td>\n",
              "    </tr>\n",
              "    <tr>\n",
              "      <th>qabāghlū</th>\n",
              "      <td></td>\n",
              "      <td>IR</td>\n",
              "    </tr>\n",
              "    <tr>\n",
              "      <th>‘arīqah</th>\n",
              "      <td></td>\n",
              "      <td>SY</td>\n",
              "    </tr>\n",
              "  </tbody>\n",
              "</table>\n",
              "</div>"
            ],
            "text/plain": [
              "             state country\n",
              "name                      \n",
              "ḩeşāre sefīd            IR\n",
              "‘ayn ḩalāqīm            SY\n",
              "taglag                  IR\n",
              "qabāghlū                IR\n",
              "‘arīqah                 SY"
            ]
          },
          "metadata": {
            "tags": []
          },
          "execution_count": 20
        }
      ]
    },
    {
      "cell_type": "code",
      "metadata": {
        "id": "4u5cXlHgxKsF",
        "colab": {
          "base_uri": "https://localhost:8080/",
          "height": 235
        },
        "outputId": "9437877f-dde1-4f96-94b7-88cc633efaa7"
      },
      "source": [
        "def load_countries():\n",
        "  path_ = path  \n",
        "  fname = 'countries.csv'\n",
        "  if GIT:\n",
        "    path_ = git_path\n",
        "  df = pd.read_csv(path_ + fname)\n",
        "  df.Name = df.Name.str.lower()\n",
        "  COUNTRIES = df.Name.tolist()\n",
        "  df = df.set_index('Code')\n",
        "  return df, COUNTRIES\n",
        "\n",
        "countries_df, COUNTRIES = load_countries()\n",
        "countries_df.head()"
      ],
      "execution_count": 21,
      "outputs": [
        {
          "output_type": "display_data",
          "data": {
            "application/javascript": [
              "\n",
              "        if (window._pyforest_update_imports_cell) { window._pyforest_update_imports_cell('import spacy\\nimport pandas as pd'); }\n",
              "    "
            ],
            "text/plain": [
              "<IPython.core.display.Javascript object>"
            ]
          },
          "metadata": {
            "tags": []
          }
        },
        {
          "output_type": "execute_result",
          "data": {
            "text/html": [
              "<div>\n",
              "<style scoped>\n",
              "    .dataframe tbody tr th:only-of-type {\n",
              "        vertical-align: middle;\n",
              "    }\n",
              "\n",
              "    .dataframe tbody tr th {\n",
              "        vertical-align: top;\n",
              "    }\n",
              "\n",
              "    .dataframe thead th {\n",
              "        text-align: right;\n",
              "    }\n",
              "</style>\n",
              "<table border=\"1\" class=\"dataframe\">\n",
              "  <thead>\n",
              "    <tr style=\"text-align: right;\">\n",
              "      <th></th>\n",
              "      <th>Name</th>\n",
              "    </tr>\n",
              "    <tr>\n",
              "      <th>Code</th>\n",
              "      <th></th>\n",
              "    </tr>\n",
              "  </thead>\n",
              "  <tbody>\n",
              "    <tr>\n",
              "      <th>AF</th>\n",
              "      <td>afghanistan</td>\n",
              "    </tr>\n",
              "    <tr>\n",
              "      <th>AX</th>\n",
              "      <td>åland islands</td>\n",
              "    </tr>\n",
              "    <tr>\n",
              "      <th>AL</th>\n",
              "      <td>albania</td>\n",
              "    </tr>\n",
              "    <tr>\n",
              "      <th>DZ</th>\n",
              "      <td>algeria</td>\n",
              "    </tr>\n",
              "    <tr>\n",
              "      <th>AS</th>\n",
              "      <td>american samoa</td>\n",
              "    </tr>\n",
              "  </tbody>\n",
              "</table>\n",
              "</div>"
            ],
            "text/plain": [
              "                Name\n",
              "Code                \n",
              "AF       afghanistan\n",
              "AX     åland islands\n",
              "AL           albania\n",
              "DZ           algeria\n",
              "AS    american samoa"
            ]
          },
          "metadata": {
            "tags": []
          },
          "execution_count": 21
        }
      ]
    },
    {
      "cell_type": "code",
      "metadata": {
        "colab": {
          "base_uri": "https://localhost:8080/"
        },
        "id": "HBp31K5KwxbJ",
        "outputId": "9fe6e9ea-af8f-416b-ab6a-57916e089f42"
      },
      "source": [
        "countries_df[countries_df.Name == 'israel'].iloc[0].name\n",
        "countries_df.loc['US']"
      ],
      "execution_count": 22,
      "outputs": [
        {
          "output_type": "execute_result",
          "data": {
            "text/plain": [
              "Name    united states\n",
              "Name: US, dtype: object"
            ]
          },
          "metadata": {
            "tags": []
          },
          "execution_count": 22
        }
      ]
    },
    {
      "cell_type": "code",
      "metadata": {
        "colab": {
          "base_uri": "https://localhost:8080/",
          "height": 235
        },
        "id": "W1gHA85O9isU",
        "outputId": "0d1689bd-1b51-49b8-edc6-0fc6c6e9cc35"
      },
      "source": [
        "def load_cities_il():\n",
        "  path_ = path\n",
        "  fname = 'cities_IL.csv'\n",
        "  if GIT:\n",
        "    path_ = git_path\n",
        "  df = pd.read_csv(path_ + fname, names=['city', 'district'])\n",
        "  df.city = df.city.str.translate(remove_punct_dict)\n",
        "  CITIES = df.city.tolist()\n",
        "  df = df.set_index('city')\n",
        "  return df, CITIES\n",
        "cities_il_df, CITIES_IL = load_cities_il()\n",
        "cities_il_df.head()"
      ],
      "execution_count": 23,
      "outputs": [
        {
          "output_type": "display_data",
          "data": {
            "application/javascript": [
              "\n",
              "        if (window._pyforest_update_imports_cell) { window._pyforest_update_imports_cell('import spacy\\nimport pandas as pd'); }\n",
              "    "
            ],
            "text/plain": [
              "<IPython.core.display.Javascript object>"
            ]
          },
          "metadata": {
            "tags": []
          }
        },
        {
          "output_type": "execute_result",
          "data": {
            "text/html": [
              "<div>\n",
              "<style scoped>\n",
              "    .dataframe tbody tr th:only-of-type {\n",
              "        vertical-align: middle;\n",
              "    }\n",
              "\n",
              "    .dataframe tbody tr th {\n",
              "        vertical-align: top;\n",
              "    }\n",
              "\n",
              "    .dataframe thead th {\n",
              "        text-align: right;\n",
              "    }\n",
              "</style>\n",
              "<table border=\"1\" class=\"dataframe\">\n",
              "  <thead>\n",
              "    <tr style=\"text-align: right;\">\n",
              "      <th></th>\n",
              "      <th>district</th>\n",
              "    </tr>\n",
              "    <tr>\n",
              "      <th>city</th>\n",
              "      <th></th>\n",
              "    </tr>\n",
              "  </thead>\n",
              "  <tbody>\n",
              "    <tr>\n",
              "      <th>asam</th>\n",
              "      <td>beersheba</td>\n",
              "    </tr>\n",
              "    <tr>\n",
              "      <th>abbirim</th>\n",
              "      <td>acre</td>\n",
              "    </tr>\n",
              "    <tr>\n",
              "      <th>abu abdun</th>\n",
              "      <td>beersheba</td>\n",
              "    </tr>\n",
              "    <tr>\n",
              "      <th>abu ammar</th>\n",
              "      <td>beersheba</td>\n",
              "    </tr>\n",
              "    <tr>\n",
              "      <th>abu amre</th>\n",
              "      <td>beersheba</td>\n",
              "    </tr>\n",
              "  </tbody>\n",
              "</table>\n",
              "</div>"
            ],
            "text/plain": [
              "            district\n",
              "city                \n",
              "asam       beersheba\n",
              "abbirim         acre\n",
              "abu abdun  beersheba\n",
              "abu ammar  beersheba\n",
              "abu amre   beersheba"
            ]
          },
          "metadata": {
            "tags": []
          },
          "execution_count": 23
        }
      ]
    },
    {
      "cell_type": "code",
      "metadata": {
        "colab": {
          "base_uri": "https://localhost:8080/",
          "height": 269
        },
        "id": "J-gKXG1hHu4J",
        "outputId": "10d511e7-6f86-4920-f230-ac1c7d9ed9b5"
      },
      "source": [
        "def load_capitals():\n",
        "  path_ = path\n",
        "  fname = 'capitals.json'\n",
        "  if GIT:\n",
        "    path_ = git_path\n",
        "  CAPITALS = pd.read_json(path_ + fname, encoding=\"utf8\", typ='series').str.lower()\n",
        "\n",
        "  CAPITALS.index = CAPITALS.index.str.lower()\n",
        "  df = pd.DataFrame([CAPITALS])\n",
        "  df = df.T\n",
        "  df = df.reset_index()\n",
        "  df.columns = ['country', 'capital']\n",
        "  df = df.set_index('capital')\n",
        "  return df, CAPITALS.to_dict()\n",
        "capitals_df, CAPITALS = load_capitals()\n",
        "\n",
        "p(CAPITALS['albania'])\n",
        "p(capitals_df.loc['madrid'].country)\n",
        "capitals_df.head()"
      ],
      "execution_count": 24,
      "outputs": [
        {
          "output_type": "display_data",
          "data": {
            "application/javascript": [
              "\n",
              "        if (window._pyforest_update_imports_cell) { window._pyforest_update_imports_cell('import spacy\\nimport pandas as pd'); }\n",
              "    "
            ],
            "text/plain": [
              "<IPython.core.display.Javascript object>"
            ]
          },
          "metadata": {
            "tags": []
          }
        },
        {
          "output_type": "display_data",
          "data": {
            "application/javascript": [
              "\n",
              "        if (window._pyforest_update_imports_cell) { window._pyforest_update_imports_cell('import spacy\\nimport pandas as pd'); }\n",
              "    "
            ],
            "text/plain": [
              "<IPython.core.display.Javascript object>"
            ]
          },
          "metadata": {
            "tags": []
          }
        },
        {
          "output_type": "stream",
          "text": [
            "tirana\n",
            "spain\n"
          ],
          "name": "stdout"
        },
        {
          "output_type": "execute_result",
          "data": {
            "text/html": [
              "<div>\n",
              "<style scoped>\n",
              "    .dataframe tbody tr th:only-of-type {\n",
              "        vertical-align: middle;\n",
              "    }\n",
              "\n",
              "    .dataframe tbody tr th {\n",
              "        vertical-align: top;\n",
              "    }\n",
              "\n",
              "    .dataframe thead th {\n",
              "        text-align: right;\n",
              "    }\n",
              "</style>\n",
              "<table border=\"1\" class=\"dataframe\">\n",
              "  <thead>\n",
              "    <tr style=\"text-align: right;\">\n",
              "      <th></th>\n",
              "      <th>country</th>\n",
              "    </tr>\n",
              "    <tr>\n",
              "      <th>capital</th>\n",
              "      <th></th>\n",
              "    </tr>\n",
              "  </thead>\n",
              "  <tbody>\n",
              "    <tr>\n",
              "      <th>kabul</th>\n",
              "      <td>afghanistan</td>\n",
              "    </tr>\n",
              "    <tr>\n",
              "      <th>mariehamn</th>\n",
              "      <td>åland islands</td>\n",
              "    </tr>\n",
              "    <tr>\n",
              "      <th>tirana</th>\n",
              "      <td>albania</td>\n",
              "    </tr>\n",
              "    <tr>\n",
              "      <th>algiers</th>\n",
              "      <td>algeria</td>\n",
              "    </tr>\n",
              "    <tr>\n",
              "      <th>pago pago</th>\n",
              "      <td>american samoa</td>\n",
              "    </tr>\n",
              "  </tbody>\n",
              "</table>\n",
              "</div>"
            ],
            "text/plain": [
              "                  country\n",
              "capital                  \n",
              "kabul         afghanistan\n",
              "mariehamn   åland islands\n",
              "tirana            albania\n",
              "algiers           algeria\n",
              "pago pago  american samoa"
            ]
          },
          "metadata": {
            "tags": []
          },
          "execution_count": 24
        }
      ]
    },
    {
      "cell_type": "code",
      "metadata": {
        "colab": {
          "base_uri": "https://localhost:8080/",
          "height": 252
        },
        "id": "1YMQgZMecwVh",
        "outputId": "bf394c44-5ec0-4c45-f01f-3cd05e5f299a"
      },
      "source": [
        "def load_largest():\n",
        "  fname = '100-largest-cities.csv'\n",
        "  path_ = path\n",
        "  if GIT:\n",
        "    path_ = git_path\n",
        "  df = pd.read_csv(path_ + fname, encoding='ISO-8859-8')\n",
        "  df.city = df.city.str.lower()\n",
        "  df.city = df.city.str.translate(remove_punct_dict)\n",
        "  LARGEST = df.city.tolist()\n",
        "  df = df.set_index('city')\n",
        "  return df, LARGEST\n",
        "largest_df, LARGEST = load_largest()\n",
        "\n",
        "d(largest_df.head())\n",
        "p(largest_df.loc['toronto'].country)"
      ],
      "execution_count": 25,
      "outputs": [
        {
          "output_type": "display_data",
          "data": {
            "application/javascript": [
              "\n",
              "        if (window._pyforest_update_imports_cell) { window._pyforest_update_imports_cell('import spacy\\nimport pandas as pd'); }\n",
              "    "
            ],
            "text/plain": [
              "<IPython.core.display.Javascript object>"
            ]
          },
          "metadata": {
            "tags": []
          }
        },
        {
          "output_type": "display_data",
          "data": {
            "text/html": [
              "<div>\n",
              "<style scoped>\n",
              "    .dataframe tbody tr th:only-of-type {\n",
              "        vertical-align: middle;\n",
              "    }\n",
              "\n",
              "    .dataframe tbody tr th {\n",
              "        vertical-align: top;\n",
              "    }\n",
              "\n",
              "    .dataframe thead th {\n",
              "        text-align: right;\n",
              "    }\n",
              "</style>\n",
              "<table border=\"1\" class=\"dataframe\">\n",
              "  <thead>\n",
              "    <tr style=\"text-align: right;\">\n",
              "      <th></th>\n",
              "      <th>country</th>\n",
              "    </tr>\n",
              "    <tr>\n",
              "      <th>city</th>\n",
              "      <th></th>\n",
              "    </tr>\n",
              "  </thead>\n",
              "  <tbody>\n",
              "    <tr>\n",
              "      <th>tokyo</th>\n",
              "      <td>Japan</td>\n",
              "    </tr>\n",
              "    <tr>\n",
              "      <th>delhi</th>\n",
              "      <td>India</td>\n",
              "    </tr>\n",
              "    <tr>\n",
              "      <th>shanghai</th>\n",
              "      <td>China</td>\n",
              "    </tr>\n",
              "    <tr>\n",
              "      <th>so paulo</th>\n",
              "      <td>Brazil</td>\n",
              "    </tr>\n",
              "    <tr>\n",
              "      <th>ciudad de mxico mexico city</th>\n",
              "      <td>Mexico</td>\n",
              "    </tr>\n",
              "  </tbody>\n",
              "</table>\n",
              "</div>"
            ],
            "text/plain": [
              "                            country\n",
              "city                               \n",
              "tokyo                         Japan\n",
              "delhi                         India\n",
              "shanghai                      China\n",
              "so paulo                     Brazil\n",
              "ciudad de mxico mexico city  Mexico"
            ]
          },
          "metadata": {
            "tags": []
          }
        },
        {
          "output_type": "stream",
          "text": [
            "Canada\n"
          ],
          "name": "stdout"
        }
      ]
    },
    {
      "cell_type": "code",
      "metadata": {
        "id": "aCL5YLU-zuFS"
      },
      "source": [
        "def set_capitals():\n",
        "  # Getter that looks up the span text in the dictionary of country capitals\n",
        "  get_capital = lambda span: CAPITALS.get(span.text)\n",
        "\n",
        "  # Register the Span extension attribute \"capital\" with the getter get_capital\n",
        "  Span.set_extension(\"capital\", getter=get_capital, force=True)\n",
        "\n",
        "  # Process the text and print the entity text, label and capital attributes\n",
        "  doc = nlp(\"Czech Republic may help Slovakia protect its airspace\")\n",
        "  print([(ent.text, ent.label_, ent._.capital) for ent in doc.ents])\n",
        "  "
      ],
      "execution_count": 26,
      "outputs": []
    },
    {
      "cell_type": "markdown",
      "metadata": {
        "id": "nn0OMy29XzlX"
      },
      "source": [
        "# NLM"
      ]
    },
    {
      "cell_type": "code",
      "metadata": {
        "id": "w-yUaWlmydDs"
      },
      "source": [
        "FAST_START = True"
      ],
      "execution_count": 29,
      "outputs": []
    },
    {
      "cell_type": "code",
      "metadata": {
        "id": "Pb9JLByJsG9R",
        "colab": {
          "base_uri": "https://localhost:8080/",
          "height": 17
        },
        "outputId": "215b4124-9dd0-46e9-cddf-d3e256dab990"
      },
      "source": [
        "from spacy.language import Language\n",
        "#nlp = en_core_web_md.load()\n",
        "def update_nlp():\n",
        "  matcher = PhraseMatcher(nlp.vocab)\n",
        "  CITIES = set(CITIES_IL + CITIES_API_city)\n",
        "\n",
        "  # disable other pipes while doing the traing to speed it up - went down from 1:40 to 0:40 minutes\n",
        "  if not FAST_START:\n",
        "    other_pipes = [pipe for pipe in nlp.pipe_names if pipe != 'ner']\n",
        "    with nlp.disable_pipes(*other_pipes):\n",
        "      matcher.add(\"CITIES\", None, *list(nlp.pipe(CITIES)))\n",
        "\n",
        "  # country codes causes problems because many are similar to regular words (eg. 'IN' similar to 'in')\n",
        "  #matcher.add(\"CITIES_API_country_code\", None, *list(nlp.pipe(CITIES_API_country_code)))\n",
        "  # due to duplicates with country codes ('IL' = Israel, and Ilinoie), we have to check manually for states\n",
        "  #matcher.add(\"CITIES_API_state_code\", None, *list(nlp.pipe(CITIES_API_state_code)))\n",
        "\n",
        "  # Register the Span extension attributes \"is_country\" and \"is_city\" \n",
        "  check_country = lambda span: span.text.lower().translate(remove_punct_dict) in COUNTRIES\n",
        "  Span.set_extension('is_country', getter=check_country, force=True)\n",
        "\n",
        "  check_city = lambda span: span.text.lower().translate(remove_punct_dict) in CITIES\n",
        "  Span.set_extension('is_city', getter=check_city, force=True)\n",
        "\n",
        "  pipes = nlp.pipe_names\n",
        "  if 'gpe_component' in pipes:\n",
        "    nlp.remove_pipe('gpe_component')\n",
        "\n",
        "  if spacy.__version__ > '3':\n",
        "    @Language.component(\"gpe_component\")\n",
        "    def gpe_component(doc):\n",
        "        # Create an entity Span with the label \"GPE\" for all matches\n",
        "        matches = matcher(doc)\n",
        "        try:\n",
        "          doc.ents = [Span(doc, start, end, label=\"GPE\") for match_id, start, end in matches]\n",
        "        except ValueError as e: #[E103] Trying to set conflicting doc.ents: '(2, 4, 'GPE')' and '(3, 4, 'GPE')'. A token can only be part of one entity, so make sure the entities you're setting don't overlap.\n",
        "          if 'E103' in e.args[0]:\n",
        "            return doc  # use the standard model of Spacy, hopefully it works (as in the case \"weather in new york\") or  other rounds will get the proper result\n",
        "          raise\n",
        "        return doc\n",
        "\n",
        "    # Add the new component to the pipeline\n",
        "    nlp.add_pipe('gpe_component', first=True)\n",
        "  else:\n",
        "    def gpe_component(doc):\n",
        "        # Create an entity Span with the label \"GPE\" for all matches\n",
        "        matches = matcher(doc)\n",
        "        try:\n",
        "          doc.ents = [Span(doc, start, end, label=\"GPE\") for match_id, start, end in matches]\n",
        "        except ValueError as e: #[E103] Trying to set conflicting doc.ents: '(2, 4, 'GPE')' and '(3, 4, 'GPE')'. A token can only be part of one entity, so make sure the entities you're setting don't overlap.\n",
        "          if 'E103' in e.args[0]:\n",
        "            return doc  # use the standard model of Spacy, hopefully it works (as in the case \"weather in new york\") or  other rounds will get the proper result\n",
        "          raise\n",
        "        return doc\n",
        "\n",
        "    # Add the new component to the pipeline\n",
        "    nlp.add_pipe(gpe_component, first=True)\n",
        "  #print(nlp.pipe_names)\n",
        "\n",
        "update_nlp()\n"
      ],
      "execution_count": 79,
      "outputs": [
        {
          "output_type": "display_data",
          "data": {
            "application/javascript": [
              "\n",
              "        if (window._pyforest_update_imports_cell) { window._pyforest_update_imports_cell('import glob\\nimport cv2\\nimport textblob\\nfrom sklearn.model_selection import train_test_split\\nimport pickle\\nfrom sklearn.feature_extraction.text import CountVectorizer\\nimport nltk\\nfrom statsmodels.tsa.arima_model import ARIMA\\nimport bokeh\\nimport pandas as pd\\nimport tensorflow as tf\\nimport altair as alt\\nimport plotly as py\\nimport re\\nimport gensim\\nfrom sklearn.model_selection import cross_val_score\\nimport matplotlib.pyplot as plt\\nimport torch\\nimport plotly.graph_objs as go\\nimport tqdm\\nimport plotly.express as px\\nimport pydot\\nimport spacy\\nimport imutils'); }\n",
              "    "
            ],
            "text/plain": [
              "<IPython.core.display.Javascript object>"
            ]
          },
          "metadata": {
            "tags": []
          }
        }
      ]
    },
    {
      "cell_type": "code",
      "metadata": {
        "colab": {
          "base_uri": "https://localhost:8080/",
          "height": 238
        },
        "id": "v4aWemRoAIUf",
        "outputId": "696a4f3e-cd48-495f-feb8-3d52d8abea91"
      },
      "source": [
        "get_parts(\"weather in new york\")\n",
        "get_parts(\"weather in new york us\")\n",
        "get_parts(\"weather in las vegas\")\n",
        "get_parts(\"weather in las vegas, US\", True)\n",
        "get_parts(\"weather in las vegas, united states\")\n",
        "#get_parts(\"weather in kas vegas\")\n",
        "#get_parts(\"weather in kas vegas, US\")"
      ],
      "execution_count": 90,
      "outputs": [
        {
          "output_type": "stream",
          "text": [
            "{'city': [('las vegas', 'honduras')]} True\n",
            "\n",
            "weather, dep_=ROOT, ent_type=, head=weather, lemma_=weather, pos_=NOUN, tag_=NN\n",
            "in, dep_=prep, ent_type=, head=weather, lemma_=in, pos_=ADP, tag_=IN\n",
            "las, dep_=compound, ent_type=GPE, head=vegas, lemma_=las, pos_=PROPN, tag_=NNP\n",
            "vegas, dep_=compound, ent_type=GPE, head=us, lemma_=vegas, pos_=PROPN, tag_=NNP\n",
            "us, dep_=pobj, ent_type=GPE, head=in, lemma_=us, pos_=PROPN, tag_=NNP\n"
          ],
          "name": "stdout"
        },
        {
          "output_type": "display_data",
          "data": {
            "application/javascript": [
              "\n",
              "        if (window._pyforest_update_imports_cell) { window._pyforest_update_imports_cell('import glob\\nfrom sklearn.feature_extraction.text import TfidfVectorizer\\nimport cv2\\nimport textblob\\nfrom sklearn.model_selection import train_test_split\\nimport pickle\\nfrom sklearn.feature_extraction.text import CountVectorizer\\nimport nltk\\nfrom statsmodels.tsa.arima_model import ARIMA\\nimport bokeh\\nimport pandas as pd\\nfrom sklearn.manifold import TSNE\\nimport tensorflow as tf\\nimport altair as alt\\nimport plotly as py\\nimport re\\nimport gensim\\nfrom sklearn.model_selection import cross_val_score\\nimport matplotlib.pyplot as plt\\nimport torch\\nimport plotly.graph_objs as go\\nimport tqdm\\nimport plotly.express as px\\nimport pydot\\nimport spacy\\nimport imutils'); }\n",
              "    "
            ],
            "text/plain": [
              "<IPython.core.display.Javascript object>"
            ]
          },
          "metadata": {
            "tags": []
          }
        },
        {
          "output_type": "stream",
          "text": [
            "las vegas, GPE='Countries, cities, states', is_city=True, is_country=False\n"
          ],
          "name": "stdout"
        },
        {
          "output_type": "display_data",
          "data": {
            "application/javascript": [
              "\n",
              "        if (window._pyforest_update_imports_cell) { window._pyforest_update_imports_cell('import glob\\nfrom sklearn.feature_extraction.text import TfidfVectorizer\\nimport cv2\\nimport textblob\\nfrom sklearn.model_selection import train_test_split\\nimport pickle\\nfrom sklearn.feature_extraction.text import CountVectorizer\\nimport nltk\\nfrom statsmodels.tsa.arima_model import ARIMA\\nimport bokeh\\nimport pandas as pd\\nfrom sklearn.manifold import TSNE\\nimport tensorflow as tf\\nimport altair as alt\\nimport plotly as py\\nimport re\\nimport gensim\\nfrom sklearn.model_selection import cross_val_score\\nimport matplotlib.pyplot as plt\\nimport torch\\nimport plotly.graph_objs as go\\nimport tqdm\\nimport plotly.express as px\\nimport pydot\\nimport spacy\\nimport imutils'); }\n",
              "    "
            ],
            "text/plain": [
              "<IPython.core.display.Javascript object>"
            ]
          },
          "metadata": {
            "tags": []
          }
        },
        {
          "output_type": "stream",
          "text": [
            "us, GPE='Countries, cities, states', is_city=True, is_country=False\n",
            "{'date': 'current', 'city': ('las vegas', 'united states'), 'country': 'united states'}\n"
          ],
          "name": "stdout"
        },
        {
          "output_type": "execute_result",
          "data": {
            "text/plain": [
              "{'city': [('las vegas', 'united states')],\n",
              " 'country': ['united states'],\n",
              " 'date': 'current'}"
            ]
          },
          "metadata": {
            "tags": []
          },
          "execution_count": 90
        }
      ]
    },
    {
      "cell_type": "markdown",
      "metadata": {
        "id": "tLqojifIudRU"
      },
      "source": [
        "# Get Parts (POS)"
      ]
    },
    {
      "cell_type": "code",
      "metadata": {
        "id": "XxZz0tJpYOM_"
      },
      "source": [
        "def check_gpe(entity, ents, ent_text, gpe):\n",
        "        token = None\n",
        "        for e in ents:\n",
        "          if ent_text == e[0]:\n",
        "            token = e[1] \n",
        "            break\n",
        "        # verify the GPE is a true GPE for cases that a city has a name that has another meaninig\n",
        "        if token and token.text != token.lemma_: # a true GPE cannot be lemmatized\n",
        "          return 'continue', gpe, 0\n",
        "\n",
        "        # for example there is a city in Denemark that has a name 'rain'\n",
        "        if token and len(ents) > 1 and (token.head == token or token.pos_ not in ['PROPN', 'PRON', 'NOUN']) and not entity._.is_country:\n",
        "          valid_gpe = False\n",
        "          for e in ents:\n",
        "            if ent_text != e[0]:\n",
        "              tk = e[1]\n",
        "              if tk.head == token:  # the token is connected to another gpe, so it is a valid gpe (for example, (paris, canada) are connected\n",
        "                valid_gpe = True\n",
        "                return 'break', gpe, 0\n",
        "          if not valid_gpe:\n",
        "            if DEBUG: p('A:', ent_text)\n",
        "            return 'continue', gpe, 0\n",
        "\n",
        "        ent_type = 'state'\n",
        "        multiple_cities = False\n",
        "        if DEBUG: p('0:', ent_text, entity._.is_city, entity._.is_country)\n",
        "        if entity._.is_city and not entity._.is_country: # 'canada' is a country and also a city in Portugal\n",
        "          ent_type = 'city'\n",
        "          if ent_text in df_CITIES_API.index: \n",
        "            code_country = df_CITIES_API.loc[ent_text].country\n",
        "            if type(code_country) != str:\n",
        "              multiple_cities = True\n",
        "              # see note why not to use code_country[0] which sometimes give 'Key Error'\n",
        "              # https://stackoverflow.com/questions/46153647/keyerror-0-when-accessing-value-in-pandas-series            \n",
        "              ent_country = countries_df.loc[code_country.iloc[0]].Name\n",
        "            else:\n",
        "              ent_country = countries_df.loc[code_country].Name\n",
        "          elif ent_text in CITIES_IL:\n",
        "            ent_country = 'israel'\n",
        "          else:\n",
        "            ent_country = ''\n",
        "        elif entity._.is_country or ent_text in CITIES_API_country_code:\n",
        "          ent_type = 'country'\n",
        "\n",
        "        if ent_type not in gpe:\n",
        "          gpe[ent_type] = []\n",
        "        if ent_type == 'city':\n",
        "           gpe[ent_type].append((entity.text, ent_country))\n",
        "        else:\n",
        "          gpe[ent_type].append(entity.text)\n",
        "        return None, gpe, multiple_cities"
      ],
      "execution_count": 127,
      "outputs": []
    },
    {
      "cell_type": "code",
      "metadata": {
        "id": "A4Dtx_3ng0zQ"
      },
      "source": [
        "def get_city_country(multiple_cities, gpe):\n",
        "  if DEBUG: p('1:', multiple_cities, gpe)\n",
        "  if multiple_cities or ('city' in gpe and len(gpe['city']) > 1):\n",
        "    if 'country' in gpe:\n",
        "      # verify country code of the city is correct, when there multiple cities\n",
        "      for i, (city, city_country) in enumerate(gpe['city']):\n",
        "        country = gpe['country'][0]\n",
        "        if city_country != country:\n",
        "          for code_country in df_CITIES_API.loc[city].country:\n",
        "            if city_country == countries_df.loc[code_country].Name:\n",
        "              # found a matching country\n",
        "              gpe['city'][i] = (city, country)\n",
        "              break\n",
        "    else:\n",
        "      check_capital = True\n",
        "      if len(gpe['city']) == 2: # maybe enter a country which has city with that name (eg. Toronto, US = there is a city name 'us' in france and 'usa' in japan)\n",
        "        # 'city': [('toronto', 'Canada'), ('us', 'france')]\n",
        "        for i in range(1,-1,-1):\n",
        "          city = gpe['city'][i][0].upper()\n",
        "          if city in countries_df.index: #usually the 2nd \"city\" is the country\n",
        "            city_country = countries_df.loc[city].Name\n",
        "            j = 0 if i == 1 else 1\n",
        "            gpe['city'] = [(gpe['city'][j][0], city_country)]\n",
        "            gpe['country'] = city_country\n",
        "            check_capital = False\n",
        "            break\n",
        "      if check_capital:\n",
        "        # check if one of the cities is a capital or a large city, then use it\n",
        "        #p(gpe, multiple_cities)\n",
        "        for i, (city, city_country) in enumerate(gpe['city']):\n",
        "          if city in capitals_df.index.values:\n",
        "            # found a matching country\n",
        "            city_country = capitals_df.loc[city].country\n",
        "            gpe['city'][i] = (city, city_country)\n",
        "            break\n",
        "          if city in largest_df.index.values:\n",
        "            # found a matching country\n",
        "            city_country = largest_df.loc[city].country\n",
        "            gpe['city'][i] = (city, city_country)\n",
        "            break\n",
        "  elif 'country' in gpe and 'city' in gpe:  # country with city, verify correct\n",
        "      if DEBUG: p('2:', gpe)\n",
        "      # verify country code of the city is correct, when user entered \n",
        "      city, city_country = gpe['city'][0]\n",
        "      country = gpe['country'][0]\n",
        "      if city_country != country:\n",
        "        gpe['city'] = [(city, f'ERROR: city [{city}] not found in country [{country}] - try a different spelling of the city')]\n",
        "  elif 'country' in gpe and 'city' not in gpe:  # country without city, get the capital\n",
        "    country = gpe['country'][0]\n",
        "    #p(country)\n",
        "    if country in CAPITALS:\n",
        "      gpe['city'] = [(CAPITALS[country], country)]\n",
        "  return gpe"
      ],
      "execution_count": 130,
      "outputs": []
    },
    {
      "cell_type": "code",
      "metadata": {
        "id": "ZFIUD4FCXyUc",
        "colab": {
          "base_uri": "https://localhost:8080/",
          "height": 204
        },
        "outputId": "4f08fde5-c2f4-4fdf-852f-a40a7ed9c547"
      },
      "source": [
        "DEBUG = False\n",
        "def get_parts(text, disp=False, verbose=True):\n",
        "  global DEBUG\n",
        "  doc = nlp(text.lower().translate(remove_punct_dict))\n",
        "  date, gpe, ents = [], {}, []\n",
        "  action = ''\n",
        "  multiple_cities = False\n",
        "  if disp: p()\n",
        "  for token in doc:\n",
        "    if disp:\n",
        "      p(f'{token.text}, dep_={token.dep_}, ent_type={token.ent_type_}, head={token.head}, lemma_={token.lemma_}, pos_={token.pos_}, tag_={token.tag_}')\n",
        "    if token.ent_type_ == 'GPE': ents.append((token.text.lower(), token))\n",
        "  for entity in doc.ents:\n",
        "      if disp:\n",
        "        print(f\"{entity.text}, {entity.label_}='{spacy.explain(entity.label_)}', is_city={entity._.is_city}, is_country={entity._.is_country}\")\n",
        "      ent_text = entity.text.lower().translate(remove_punct_dict)\n",
        "      if entity.label_ == 'DATE': date.append(ent_text)\n",
        "      if entity.label_ == 'GPE':\n",
        "        act, gpe, multiple_cities = check_gpe(entity, ents, ent_text, gpe)\n",
        "        if act == 'continue': continue\n",
        "        if act == 'break': break\n",
        "  if len(date) == 0:\n",
        "    date = 'current'\n",
        "\n",
        "  gpe = get_city_country(multiple_cities, gpe)\n",
        "\n",
        "  result = {}\n",
        "  result['date'] = date\n",
        "  result.update(gpe)\n",
        "  if disp:\n",
        "    p(result)\n",
        "  elif verbose and 'city' not in result:\n",
        "    p(f'FAILED: org [{text}], {result}')\n",
        "  return result\n",
        "\n",
        "#DEBUG = False\n",
        "if TEST:\n",
        "  get_parts(\"Today weather in a Ra-anana\")\n",
        "  get_parts(\"Today weather in a Ra'anana\")  \n",
        "  get_parts(\"Today weather in a Raanana\")\n",
        "  get_parts(\"weather in toronto\") # there is a city toronto in USA and toronto is not the capital of Canada so we take the first city in the db\n",
        "  get_parts(\"weather in toronto, canada\")\n",
        "  get_parts(\"weather paris next 5 days\")\n",
        "  get_parts(\"tell me how is the weather in the ra- anana in the\")\n",
        "  get_parts(\"rain in toronto\")\n",
        "  get_parts(\"weather in toronto, us\")\n",
        "  get_parts(\"weather in toronto, canada\")\n",
        "  get_parts(\"weather in jenin\")\n",
        "  get_parts(\"weather in jenin, israel\", True)\n",
        "  get_parts('haifa, israel')\n",
        "  DEBUG = False\n",
        "  get_parts(\"Wheather forecast in Tel aviv\")\n",
        "get_parts(\"paris Canada\")\n",
        "get_parts(\"paris\", True)"
      ],
      "execution_count": 131,
      "outputs": [
        {
          "output_type": "stream",
          "text": [
            "\n",
            "paris, dep_=compound, ent_type=GPE, head=canada, lemma_=paris, pos_=PROPN, tag_=NNP\n",
            "canada, dep_=ROOT, ent_type=GPE, head=canada, lemma_=canada, pos_=PROPN, tag_=NNP\n"
          ],
          "name": "stdout"
        },
        {
          "output_type": "display_data",
          "data": {
            "application/javascript": [
              "\n",
              "        if (window._pyforest_update_imports_cell) { window._pyforest_update_imports_cell('import glob\\nfrom sklearn.feature_extraction.text import TfidfVectorizer\\nimport cv2\\nimport textblob\\nfrom sklearn.model_selection import train_test_split\\nimport pickle\\nfrom sklearn.feature_extraction.text import CountVectorizer\\nimport nltk\\nfrom statsmodels.tsa.arima_model import ARIMA\\nimport bokeh\\nimport pandas as pd\\nfrom sklearn.manifold import TSNE\\nfrom openpyxl import load_workbook\\nimport tensorflow as tf\\nimport lightgbm as lgb\\nimport altair as alt\\nimport plotly as py\\nimport re\\nimport gensim\\nfrom sklearn.model_selection import cross_val_score\\nimport matplotlib.pyplot as plt\\nimport torch\\nimport plotly.graph_objs as go\\nimport tqdm\\nimport plotly.express as px\\nimport pydot\\nimport spacy\\nimport imutils'); }\n",
              "    "
            ],
            "text/plain": [
              "<IPython.core.display.Javascript object>"
            ]
          },
          "metadata": {
            "tags": []
          }
        },
        {
          "output_type": "stream",
          "text": [
            "paris, GPE='Countries, cities, states', is_city=True, is_country=False\n"
          ],
          "name": "stdout"
        },
        {
          "output_type": "display_data",
          "data": {
            "application/javascript": [
              "\n",
              "        if (window._pyforest_update_imports_cell) { window._pyforest_update_imports_cell('import glob\\nfrom sklearn.feature_extraction.text import TfidfVectorizer\\nimport cv2\\nimport textblob\\nfrom sklearn.model_selection import train_test_split\\nimport pickle\\nfrom sklearn.feature_extraction.text import CountVectorizer\\nimport nltk\\nfrom statsmodels.tsa.arima_model import ARIMA\\nimport bokeh\\nimport pandas as pd\\nfrom sklearn.manifold import TSNE\\nfrom openpyxl import load_workbook\\nimport tensorflow as tf\\nimport lightgbm as lgb\\nimport altair as alt\\nimport plotly as py\\nimport re\\nimport gensim\\nfrom sklearn.model_selection import cross_val_score\\nimport matplotlib.pyplot as plt\\nimport torch\\nimport plotly.graph_objs as go\\nimport tqdm\\nimport plotly.express as px\\nimport pydot\\nimport spacy\\nimport imutils'); }\n",
              "    "
            ],
            "text/plain": [
              "<IPython.core.display.Javascript object>"
            ]
          },
          "metadata": {
            "tags": []
          }
        },
        {
          "output_type": "stream",
          "text": [
            "canada, GPE='Countries, cities, states', is_city=True, is_country=True\n",
            "{'date': 'current', 'city': [('paris', 'ERROR: city [paris] not found in country [canada] - try a different spelling of the city')], 'country': ['canada']}\n",
            "\n",
            "paris, dep_=ROOT, ent_type=GPE, head=paris, lemma_=paris, pos_=PROPN, tag_=NNP\n"
          ],
          "name": "stdout"
        },
        {
          "output_type": "display_data",
          "data": {
            "application/javascript": [
              "\n",
              "        if (window._pyforest_update_imports_cell) { window._pyforest_update_imports_cell('import glob\\nfrom sklearn.feature_extraction.text import TfidfVectorizer\\nimport cv2\\nimport textblob\\nfrom sklearn.model_selection import train_test_split\\nimport pickle\\nfrom sklearn.feature_extraction.text import CountVectorizer\\nimport nltk\\nfrom statsmodels.tsa.arima_model import ARIMA\\nimport bokeh\\nimport pandas as pd\\nfrom sklearn.manifold import TSNE\\nfrom openpyxl import load_workbook\\nimport tensorflow as tf\\nimport lightgbm as lgb\\nimport altair as alt\\nimport plotly as py\\nimport re\\nimport gensim\\nfrom sklearn.model_selection import cross_val_score\\nimport matplotlib.pyplot as plt\\nimport torch\\nimport plotly.graph_objs as go\\nimport tqdm\\nimport plotly.express as px\\nimport pydot\\nimport spacy\\nimport imutils'); }\n",
              "    "
            ],
            "text/plain": [
              "<IPython.core.display.Javascript object>"
            ]
          },
          "metadata": {
            "tags": []
          }
        },
        {
          "output_type": "stream",
          "text": [
            "paris, GPE='Countries, cities, states', is_city=True, is_country=False\n",
            "{'date': 'current', 'city': [('paris', 'france')]}\n"
          ],
          "name": "stdout"
        },
        {
          "output_type": "execute_result",
          "data": {
            "text/plain": [
              "{'city': [('paris', 'france')], 'date': 'current'}"
            ]
          },
          "metadata": {
            "tags": []
          },
          "execution_count": 131
        }
      ]
    },
    {
      "cell_type": "code",
      "metadata": {
        "colab": {
          "base_uri": "https://localhost:8080/"
        },
        "id": "8zapNCcw0yq4",
        "outputId": "2f3adb22-2c8c-4110-91c5-1dcb6d2209f5"
      },
      "source": [
        "if TEST:\n",
        "  get_parts(\"paris Canada\")\n",
        "  get_parts(\"las vegas, united states\")\n",
        "  get_parts(\"las vegas, US\")  \n",
        "  get_parts(\"weather in las vegas, united states\")\n",
        "  get_parts(\"weather in las vegas, US\")\n",
        "  get_parts(\"weather in new york\")    \n",
        "  get_parts(\"weather in new york us\")    "
      ],
      "execution_count": 114,
      "outputs": [
        {
          "output_type": "execute_result",
          "data": {
            "text/plain": [
              "{'city': [('las vegas', 'united states')],\n",
              " 'country': 'united states',\n",
              " 'date': 'current'}"
            ]
          },
          "metadata": {
            "tags": []
          },
          "execution_count": 114
        }
      ]
    },
    {
      "cell_type": "code",
      "metadata": {
        "colab": {
          "base_uri": "https://localhost:8080/",
          "height": 35
        },
        "id": "cE78hbsZVDa0",
        "outputId": "dd51f54d-d466-49f6-c046-b8382cbbd2c0"
      },
      "source": [
        "largest_df.loc['miami'].country"
      ],
      "execution_count": 32,
      "outputs": [
        {
          "output_type": "execute_result",
          "data": {
            "application/vnd.google.colaboratory.intrinsic+json": {
              "type": "string"
            },
            "text/plain": [
              "'United States'"
            ]
          },
          "metadata": {
            "tags": []
          },
          "execution_count": 32
        }
      ]
    },
    {
      "cell_type": "code",
      "metadata": {
        "colab": {
          "base_uri": "https://localhost:8080/",
          "height": 35
        },
        "id": "LU0zqOXmd02f",
        "outputId": "f52ccbb6-5d14-4082-eed1-307ca62d00f1"
      },
      "source": [
        "'miami' in df_CITIES_API.index\n",
        "df_CITIES_API.loc['miami'].country\n",
        "countries_df.loc['US'].Name"
      ],
      "execution_count": 33,
      "outputs": [
        {
          "output_type": "execute_result",
          "data": {
            "application/vnd.google.colaboratory.intrinsic+json": {
              "type": "string"
            },
            "text/plain": [
              "'united states'"
            ]
          },
          "metadata": {
            "tags": []
          },
          "execution_count": 33
        }
      ]
    },
    {
      "cell_type": "code",
      "metadata": {
        "id": "lQv631Mpz7Xw"
      },
      "source": [
        "DEBUG = False\n",
        "if TEST:\n",
        "  get_parts(\"please tell me if it will rain tonight in Rain\")\n",
        "  get_parts(\"tomorrow and today rain in spain\")\n",
        "  get_parts(\"tomorrow rain in madrid\")\n",
        "  get_parts(\"tomorrow rain in beersheba\")\n",
        "  get_parts(\"tomorrow rain in israel\")\n",
        "  get_parts(\"weather paris Canada\")\n",
        "  get_parts(\"weather paris, Canada\")\n",
        "  get_parts(\"tomorrow rain in yafo\")"
      ],
      "execution_count": 34,
      "outputs": []
    },
    {
      "cell_type": "code",
      "metadata": {
        "id": "LcfVvMeRddoX"
      },
      "source": [
        "if TEST:\n",
        "  get_parts(\"Today weather in a Ra-anana\")\n",
        "  get_parts(\"weather in tel aviv\")\n",
        "  get_parts(\"tomorrow weather in haifa\")\n",
        "  get_parts(\"tomorrow rain in beersheba\")\n",
        "  get_parts(\"weather paris today and tomorrow\")\n",
        "  get_parts(\"weather paris\")\n",
        "  get_parts(\"weather paris in December\")"
      ],
      "execution_count": 35,
      "outputs": []
    },
    {
      "cell_type": "code",
      "metadata": {
        "colab": {
          "base_uri": "https://localhost:8080/"
        },
        "id": "Ob4yr4F2eu5e",
        "outputId": "5cbae298-2f25-498f-f204-98fb28fbb485"
      },
      "source": [
        "get_parts(\"ra'anana\")\n",
        "get_parts(\"Today weather in a Tel Aviv\")\n",
        "get_parts(\"weather paris\")\n",
        "get_parts(\"paris weather \")\n",
        "get_parts('Paris weather in')\n",
        "get_parts(\"weather shelomi\")"
      ],
      "execution_count": 36,
      "outputs": [
        {
          "output_type": "stream",
          "text": [
            "{'city': [('paris', 'france')]} True\n",
            "{'city': [('paris', 'france')]} True\n",
            "{'city': [('paris', 'france')]} True\n"
          ],
          "name": "stdout"
        },
        {
          "output_type": "execute_result",
          "data": {
            "text/plain": [
              "{'city': [('shelomi', 'israel')], 'date': 'current'}"
            ]
          },
          "metadata": {
            "tags": []
          },
          "execution_count": 36
        }
      ]
    },
    {
      "cell_type": "markdown",
      "metadata": {
        "id": "vtB-Itaok9Br"
      },
      "source": [
        "# Run the bot"
      ]
    },
    {
      "cell_type": "code",
      "metadata": {
        "colab": {
          "base_uri": "https://localhost:8080/",
          "height": 85
        },
        "id": "4OiSqiCC9wy7",
        "outputId": "d2c55120-1112-4431-c36a-f5a4dcf025bc"
      },
      "source": [
        "nltk.download(['punkt', 'stopwords'])\n",
        "stopwords = nltk.corpus.stopwords.words('english')"
      ],
      "execution_count": 37,
      "outputs": [
        {
          "output_type": "display_data",
          "data": {
            "application/javascript": [
              "\n",
              "        if (window._pyforest_update_imports_cell) { window._pyforest_update_imports_cell('import spacy\\nimport nltk\\nimport pandas as pd'); }\n",
              "    "
            ],
            "text/plain": [
              "<IPython.core.display.Javascript object>"
            ]
          },
          "metadata": {
            "tags": []
          }
        },
        {
          "output_type": "stream",
          "text": [
            "[nltk_data] Downloading package punkt to /root/nltk_data...\n",
            "[nltk_data]   Unzipping tokenizers/punkt.zip.\n",
            "[nltk_data] Downloading package stopwords to /root/nltk_data...\n",
            "[nltk_data]   Unzipping corpora/stopwords.zip.\n"
          ],
          "name": "stdout"
        },
        {
          "output_type": "display_data",
          "data": {
            "application/javascript": [
              "\n",
              "        if (window._pyforest_update_imports_cell) { window._pyforest_update_imports_cell('import spacy\\nimport nltk\\nimport pandas as pd'); }\n",
              "    "
            ],
            "text/plain": [
              "<IPython.core.display.Javascript object>"
            ]
          },
          "metadata": {
            "tags": []
          }
        }
      ]
    },
    {
      "cell_type": "markdown",
      "metadata": {
        "id": "w2lBe7UTUhfO"
      },
      "source": [
        "> when similarity was .075 it matched the sentence\n",
        "\n",
        ">\"tell me how is the weather in the ra- anana in the\"\n",
        "\n",
        ">to \"what's up\" of tag [\"greeting\"] so we increased it to 0.85"
      ]
    },
    {
      "cell_type": "markdown",
      "metadata": {
        "id": "f6T_HYP7seLq"
      },
      "source": [
        "## Google search"
      ]
    },
    {
      "cell_type": "code",
      "metadata": {
        "colab": {
          "base_uri": "https://localhost:8080/",
          "height": 35
        },
        "id": "ry8ASR8NEdKi",
        "outputId": "ee0be8ff-313f-42a6-cfa5-8898296d87d3"
      },
      "source": [
        "import bs4\n",
        "def get_google(text):\n",
        "  url = \"https://google.com/search?q=\" + text + '&hl=en'\n",
        "  request_result = requests.get( url )\n",
        "  soup = bs4.BeautifulSoup(request_result.text, \"html.parser\")\n",
        "  spans = soup.find_all('span', class_='BNeawe')\n",
        "  new_text = ''\n",
        "  for span in spans: \n",
        "    if isinstance(span.contents[0], bs4.NavigableString):\n",
        "      new_text += str(span.contents[0]) + ' '\n",
        "  return new_text\n",
        "get_google(\"weather ra anana\")"
      ],
      "execution_count": 38,
      "outputs": [
        {
          "output_type": "execute_result",
          "data": {
            "application/vnd.google.colaboratory.intrinsic+json": {
              "type": "string"
            },
            "text/plain": [
              "\"Ra'anana, Israel  /  Weather \""
            ]
          },
          "metadata": {
            "tags": []
          },
          "execution_count": 38
        }
      ]
    },
    {
      "cell_type": "code",
      "metadata": {
        "id": "ry23BUN9weHj",
        "colab": {
          "base_uri": "https://localhost:8080/"
        },
        "outputId": "14e2f0f1-b5cb-4a8f-d2ce-822b08e3a86e"
      },
      "source": [
        "GOOGLE = True\n",
        "do = True\n",
        "GREETING, NOANSWER = 0, 3\n",
        "#p(intents['intents'][GREETING]['responses'][0])\n",
        "min_similarity = 0.84\n",
        "VERBOSE = 0\n",
        "\n",
        "while do:\n",
        "  user_msg = input().lower().strip()\n",
        "  if user_msg == '':\n",
        "    answers = intents['intents'][NOANSWER]['responses']\n",
        "    #p(\"WeatherBot: \" + random.choice(answers))\n",
        "    continue\n",
        "  round = 0\n",
        "  answer = ''\n",
        "  org_msg = user_msg\n",
        "  tag = ''\n",
        "  while round < 5 and do:\n",
        "    if VERBOSE: p(f'round {round}: {user_msg}')\n",
        "    doc1 = nlp(user_msg)\n",
        "    answers, tag = None, None\n",
        "    top_similarity = 0\n",
        "    # verify not an erroneous finding (if we have GPE in the doc we assume it is not a general request)\n",
        "    if len([ent for ent in doc1.ents if ent.label_ == 'GPE']) == 0:\n",
        "      for ints in intents['intents']:\n",
        "        #p(ints)\n",
        "        for text in ints['patterns']:\n",
        "          doc2 = nlp(text)\n",
        "          # Get the similarity of doc1 and doc2\n",
        "          if doc1.vector_norm == 0 or doc2.vector_norm == 0:\n",
        "            continue\n",
        "          similarity = doc1.similarity(doc2)\n",
        "          if VERBOSE > 2: p(f\"{similarity}, {doc2}, {[ints['tag']]}\")\n",
        "          if similarity > top_similarity:\n",
        "            top_similarity = similarity\n",
        "            answers = ints['responses']\n",
        "            tag = ints['tag']\n",
        "    #  p(top_similarity, tag)\n",
        "    #  p(answers)\n",
        "      if top_similarity > min_similarity:\n",
        "        if tag == \"goodbye\":\n",
        "          do = False\n",
        "        if tag in [\"goodbye\", \"greeting\", \"thanks\", \"options\"]:\n",
        "          answer = random.choice(answers)\n",
        "          break\n",
        "    if round == 2 and GOOGLE: round = 3 # to know we got the answer from get_parts()\n",
        "    parts = get_parts(user_msg, VERBOSE > 1, False)\n",
        "    if VERBOSE:  p('x:', parts)\n",
        "    if 'date' in parts and 'city' in parts and 'ERROR' not in parts['city'][0][1]:\n",
        "      #p(parts['city'][0][0], parts['city'])\n",
        "      #p('calling get_weather')\n",
        "      answer = get_weather(parts['date'], parts['city'], action=None)\n",
        "    elif 'city' in parts and 'ERROR' in parts['city'][0][1]:\n",
        "      answer = parts['city'][0][1]\n",
        "    elif round == 0:\n",
        "      round = 1\n",
        "      user_msg = ''\n",
        "      space = ' '\n",
        "      for token in doc1:\n",
        "        if token.text in stopwords: continue\n",
        "        text = token.text.lower().translate(remove_punct_dict)\n",
        "        if text == '': continue\n",
        "        if text[-1] == '-': # take care of 'ra- anana'\n",
        "          user_msg += space + text[:-1]\n",
        "          space = ''\n",
        "        else:\n",
        "          user_msg += space + text\n",
        "          space = ' '\n",
        "      continue\n",
        "    elif round == 1:\n",
        "      round = 2\n",
        "      user_msg = get_google(org_msg)\n",
        "      if user_msg != '':\n",
        "        continue\n",
        "    if round == 2 or round == 3:  # need this round because in round 2 get_google('ביי') returns empty string\n",
        "      round = 4\n",
        "      user_msg = translator.translate(org_msg) # deafaul translation is to english - can set source/dest langauge: src=\"de\"/ dest=\"he\"\n",
        "      if VERBOSE:  p(f\"{user_msg.origin} ({user_msg.src}) --> {user_msg.text} ({user_msg.dest})\")\n",
        "      user_msg = user_msg.text\n",
        "      if user_msg != '':\n",
        "        continue\n",
        "    if round >= 3 and not answer == '' and not 'ERROR' in answer:\n",
        "      answer += ' (from Google)'\n",
        "    break\n",
        "  if answer == '': answer = \"You need to tell me a city to check (maybe spell it differently)\"  \n",
        "  p(f\"WeatherBot: {answer}\")\n",
        "  #p(tag)\n",
        "# weather in jenin, israel  \n",
        "# 'קשאיקר ןמ ןדרשקך (weather in israel un hebrew)"
      ],
      "execution_count": 117,
      "outputs": [
        {
          "output_type": "stream",
          "text": [
            "weather in las vegas, US\n",
            "WeatherBot: In Las vegas, United states the current weather is: clear sky\n",
            "bye\n",
            "WeatherBot: Bye! Come back again soon.\n"
          ],
          "name": "stdout"
        }
      ]
    },
    {
      "cell_type": "code",
      "metadata": {
        "id": "OAr4WaLVDL2x"
      },
      "source": [
        "if TEST:\n",
        "  # example of successful chat although get parts failed\n",
        "  get_parts(\"weather in tel-aviv\")\n",
        "  get_parts(\"weather in TelAviv\")   # gave answer for Israel/Jerusalem\n",
        "  get_parts(\"what is tel aviv\")\n",
        "  get_parts(\"wether in tel aviv\")\n",
        "  get_parts(\"please tell me if it will rain tonight in Rain\")"
      ],
      "execution_count": 40,
      "outputs": []
    },
    {
      "cell_type": "code",
      "metadata": {
        "id": "mAH-c7izF8YF"
      },
      "source": [
        "if TEST:\n",
        "  # fixed in round1 of the bot (remove stop words and dashes followed by a space '- ')\n",
        "  get_parts(\"weather ra- anana\") # for google\n",
        "  get_parts(\"tell me how is the weather in the ra- anana in the\")"
      ],
      "execution_count": 41,
      "outputs": []
    },
    {
      "cell_type": "markdown",
      "metadata": {
        "id": "pwK8AS5vcuCq"
      },
      "source": [
        "# TODO:\n",
        "\n",
        "1. DONE: display country when getting result of weather so the user knows it is the right country - if there multiple cities\n",
        "\n",
        "2. DONE: load jsons from github - (one file too large so download it from a shared goole link on my google drive)\n",
        "\n",
        "3. DONE: Use flask\n",
        "\n",
        "4. DONE: if fails to understand try round 2 - removing stop words (punctuation akready done by spacy), then round 3 use google to try to fix typo mistake and only if all fails display a message to user\n",
        "\n",
        "5. To identify if it is a question or not - must be question"
      ]
    },
    {
      "cell_type": "markdown",
      "metadata": {
        "id": "4b9XL6OVBrZ9"
      },
      "source": [
        "Easy:\n",
        "1. Wheather forecast in Tel aviv - DONE partially, what do you mean by 'forecast'\n",
        "\n",
        "1. How hot is it in Herzliya\n",
        "\n",
        "1. Today’s temperature in Netanya\n",
        "\n",
        "1. Moist in Hadera\n",
        "\n",
        "1. How may degrees tonight in Hadera \tOfakim\n",
        "\n",
        "1. Weekly forecast for Ramat Hashron\n",
        "\n",
        "1. Israel desert forecast\n",
        "\n",
        "1. Weather in Ramat gan\n",
        "\n",
        "1.  Moist in Givataim\n",
        "\n",
        "1. Wave height in Ashdod\n",
        "\n",
        "1. Moist ashkelon\n",
        "\n",
        "1. Night degrees in Eilat\n",
        "\n",
        "10 שאלות מורכבות על מזג אויר\n",
        "\n",
        "1. Newt 10 days forecast in Herzliya and Raanana\n",
        "\n",
        "1. Is there a weather forecast on Herzliya\n",
        "\n",
        "1. Would like to get weather forecast on Hadera next week\n",
        "\n",
        "1. North Israel weather\n",
        "\n",
        "1. Monthly average forecast for north israel\n",
        "\n",
        "1. Monthly average forecast on Thailand\n",
        "\n",
        "10 שאלות שגויות לבדיקה מה ניתן\n",
        "\n",
        "1. What are the optional cities for weather forecast\n",
        "\n",
        "1. Who is the first prime minister of Israel\n",
        "\n",
        "1. Who where the 3 stooges\n",
        "\n",
        "1. What is a banana\n",
        "\n",
        "1. Who was Napoleon\n",
        "\n",
        "1. When was photography invented\n",
        "\n",
        "1. Are there aliens\n",
        "\n",
        "Extras:\n",
        "1. בדיקה על תוצרי שליפה במקרה של עיר שקיימת ביותר ממדינה אחת\n",
        "\n",
        "1. \tבמשלוח של עיר כמו PARIS, התקבלו תוצאות הן על צרפת והן ארצות הברית.\n",
        "\n",
        "1. איזה פונקציונאליות נוספת ה API יודע לתת - כרגע נבחר API אחד שיודע לעבוד עם עיר בלבד.\n",
        "\n",
        "1. להבין את שיטות העבודה של ה API (מה קורה במידה ומבקשים תחזית “מחר” - מה הוא יודע להחזיר) - לא רלבנטי \n",
        "\n",
        "1. עובדים עם API בסיסי"
      ]
    },
    {
      "cell_type": "markdown",
      "metadata": {
        "id": "rKZtAV4zK0Ud"
      },
      "source": [
        "# QUESTION:\n",
        "\n",
        "2. Are we to handle 'Ra-anana'? we handle 'Raanana'\n",
        "3. DONE - There is a city toronto in USA and toronto is not the capital of Canada so we take the first city in the db (we check now if it is one of the 100 largest cities in the world)"
      ]
    },
    {
      "cell_type": "markdown",
      "metadata": {
        "id": "Z2je4ehX34Vk"
      },
      "source": [
        "> spacy.__version__ \n",
        "2.2.4\n",
        "\n",
        "> get_parts('haifa, israel', True)\n",
        "\n",
        "haifa, dep_=compound, ent_type=GPE, head=israel, lemma_=haifa, pos_=PROPN, tag_=NNP\n",
        "\n",
        "israel, dep_=ROOT, ent_type=GPE, head=israel, lemma_=israel, pos_=PROPN, tag_=NNP\n",
        "\n",
        "haifa, GPE='Countries, cities, states', is_city=True, is_country=False\n",
        "\n",
        "israel, GPE='Countries, cities, states', is_city=False, is_country=True\n",
        "\n",
        "{'date': 'current', 'city': [('haifa', 'israel')], 'country': ['israel']}\n",
        "\n",
        "{'city': [('haifa', 'israel')], 'country': ['israel'], 'date': 'current'}"
      ]
    },
    {
      "cell_type": "markdown",
      "metadata": {
        "id": "6EWIFDxfteOe"
      },
      "source": [
        "# EXAMPLES\n",
        "\n",
        "0 You:\tweather in jenin, israel\n",
        "\n",
        "1\tBot:\tERROR: city [jenin] not found in country [israel] - try a different spelling of the city\n",
        "\n",
        "2\tYou:\tweather in hebron, israel\n",
        "\n",
        "3\tBot:\tIn Hebron, Israel the current weather is: clear sky\n",
        "\n",
        "4\tYou:\tweather in jenin\n",
        "\n",
        "5\tBot:\tIn Jenin, Poland the current weather is: overcast clouds\n",
        "\n",
        "6\tYou:\tweather in hebron\n",
        "\n",
        "7\tBot:\tIn Hebron, Palestine, state of the current weather is: clear sky\n",
        "\n",
        "8 weather isral\n",
        "\n",
        "9 WeatherBot: In Jerusalem, Israel the current weather is: clear sky (from Google)\n",
        "\n",
        "10 中國的天氣\n",
        "\n",
        "In Beijing, China the current weather is: overcast clouds (from Google)\n",
        "\n",
        "11 погода в китае\n",
        "12 погода в россии"
      ]
    },
    {
      "cell_type": "markdown",
      "metadata": {
        "id": "nki5uNqizBRD"
      },
      "source": [
        "# TEST"
      ]
    },
    {
      "cell_type": "code",
      "metadata": {
        "id": "Y2ni5rblzD8a",
        "colab": {
          "base_uri": "https://localhost:8080/",
          "height": 142
        },
        "outputId": "bc37c626-296e-476f-e508-c1961b7a0f1d"
      },
      "source": [
        "user_msg = 'test'\n",
        "answer = 'answer'\n",
        "session = {'df_chat':[]}\n",
        "session['df_chat'] = [[2, 'You: ', user_msg], [1, 'Bot: ', answer]] + session['df_chat']\n",
        "session['index'] = 2 \n",
        "df_chat = pd.DataFrame(session['df_chat'], columns=['index', 'ID', 'Conversation'])\n",
        "df_chat.set_index('index', inplace=True)\n",
        "df_chat\n"
      ],
      "execution_count": 42,
      "outputs": [
        {
          "output_type": "display_data",
          "data": {
            "application/javascript": [
              "\n",
              "        if (window._pyforest_update_imports_cell) { window._pyforest_update_imports_cell('import spacy\\nimport nltk\\nimport pandas as pd'); }\n",
              "    "
            ],
            "text/plain": [
              "<IPython.core.display.Javascript object>"
            ]
          },
          "metadata": {
            "tags": []
          }
        },
        {
          "output_type": "execute_result",
          "data": {
            "text/html": [
              "<div>\n",
              "<style scoped>\n",
              "    .dataframe tbody tr th:only-of-type {\n",
              "        vertical-align: middle;\n",
              "    }\n",
              "\n",
              "    .dataframe tbody tr th {\n",
              "        vertical-align: top;\n",
              "    }\n",
              "\n",
              "    .dataframe thead th {\n",
              "        text-align: right;\n",
              "    }\n",
              "</style>\n",
              "<table border=\"1\" class=\"dataframe\">\n",
              "  <thead>\n",
              "    <tr style=\"text-align: right;\">\n",
              "      <th></th>\n",
              "      <th>ID</th>\n",
              "      <th>Conversation</th>\n",
              "    </tr>\n",
              "    <tr>\n",
              "      <th>index</th>\n",
              "      <th></th>\n",
              "      <th></th>\n",
              "    </tr>\n",
              "  </thead>\n",
              "  <tbody>\n",
              "    <tr>\n",
              "      <th>2</th>\n",
              "      <td>You:</td>\n",
              "      <td>test</td>\n",
              "    </tr>\n",
              "    <tr>\n",
              "      <th>1</th>\n",
              "      <td>Bot:</td>\n",
              "      <td>answer</td>\n",
              "    </tr>\n",
              "  </tbody>\n",
              "</table>\n",
              "</div>"
            ],
            "text/plain": [
              "          ID Conversation\n",
              "index                    \n",
              "2      You:          test\n",
              "1      Bot:        answer"
            ]
          },
          "metadata": {
            "tags": []
          },
          "execution_count": 42
        }
      ]
    },
    {
      "cell_type": "code",
      "metadata": {
        "id": "ky9nQvh00RyN",
        "colab": {
          "base_uri": "https://localhost:8080/",
          "height": 204
        },
        "outputId": "b2bec535-7149-4b3c-d5ce-c8ab47e428da"
      },
      "source": [
        "index = session['index']\n",
        "session['index'] = index + 2\n",
        "session['df_chat'] = [[index + 2, 'You: ', user_msg], [index + 1, 'Bot: ', answer]] + session['df_chat']\n",
        "df_chat = pd.DataFrame(session['df_chat'], columns=['index', 'ID', 'Conversation'])\n",
        "df_chat.set_index('index', inplace=True)\n",
        "df_chat"
      ],
      "execution_count": 43,
      "outputs": [
        {
          "output_type": "display_data",
          "data": {
            "application/javascript": [
              "\n",
              "        if (window._pyforest_update_imports_cell) { window._pyforest_update_imports_cell('import spacy\\nimport nltk\\nimport pandas as pd'); }\n",
              "    "
            ],
            "text/plain": [
              "<IPython.core.display.Javascript object>"
            ]
          },
          "metadata": {
            "tags": []
          }
        },
        {
          "output_type": "execute_result",
          "data": {
            "text/html": [
              "<div>\n",
              "<style scoped>\n",
              "    .dataframe tbody tr th:only-of-type {\n",
              "        vertical-align: middle;\n",
              "    }\n",
              "\n",
              "    .dataframe tbody tr th {\n",
              "        vertical-align: top;\n",
              "    }\n",
              "\n",
              "    .dataframe thead th {\n",
              "        text-align: right;\n",
              "    }\n",
              "</style>\n",
              "<table border=\"1\" class=\"dataframe\">\n",
              "  <thead>\n",
              "    <tr style=\"text-align: right;\">\n",
              "      <th></th>\n",
              "      <th>ID</th>\n",
              "      <th>Conversation</th>\n",
              "    </tr>\n",
              "    <tr>\n",
              "      <th>index</th>\n",
              "      <th></th>\n",
              "      <th></th>\n",
              "    </tr>\n",
              "  </thead>\n",
              "  <tbody>\n",
              "    <tr>\n",
              "      <th>4</th>\n",
              "      <td>You:</td>\n",
              "      <td>test</td>\n",
              "    </tr>\n",
              "    <tr>\n",
              "      <th>3</th>\n",
              "      <td>Bot:</td>\n",
              "      <td>answer</td>\n",
              "    </tr>\n",
              "    <tr>\n",
              "      <th>2</th>\n",
              "      <td>You:</td>\n",
              "      <td>test</td>\n",
              "    </tr>\n",
              "    <tr>\n",
              "      <th>1</th>\n",
              "      <td>Bot:</td>\n",
              "      <td>answer</td>\n",
              "    </tr>\n",
              "  </tbody>\n",
              "</table>\n",
              "</div>"
            ],
            "text/plain": [
              "          ID Conversation\n",
              "index                    \n",
              "4      You:          test\n",
              "3      Bot:        answer\n",
              "2      You:          test\n",
              "1      Bot:        answer"
            ]
          },
          "metadata": {
            "tags": []
          },
          "execution_count": 43
        }
      ]
    },
    {
      "cell_type": "code",
      "metadata": {
        "id": "hN-Nj78M724W",
        "colab": {
          "base_uri": "https://localhost:8080/",
          "height": 120
        },
        "outputId": "1129a898-ea6b-4990-ab77-c70274eaf19b"
      },
      "source": [
        "df_chat.to_html()"
      ],
      "execution_count": 44,
      "outputs": [
        {
          "output_type": "execute_result",
          "data": {
            "application/vnd.google.colaboratory.intrinsic+json": {
              "type": "string"
            },
            "text/plain": [
              "'<table border=\"1\" class=\"dataframe\">\\n  <thead>\\n    <tr style=\"text-align: right;\">\\n      <th></th>\\n      <th>ID</th>\\n      <th>Conversation</th>\\n    </tr>\\n    <tr>\\n      <th>index</th>\\n      <th></th>\\n      <th></th>\\n    </tr>\\n  </thead>\\n  <tbody>\\n    <tr>\\n      <th>4</th>\\n      <td>You:</td>\\n      <td>test</td>\\n    </tr>\\n    <tr>\\n      <th>3</th>\\n      <td>Bot:</td>\\n      <td>answer</td>\\n    </tr>\\n    <tr>\\n      <th>2</th>\\n      <td>You:</td>\\n      <td>test</td>\\n    </tr>\\n    <tr>\\n      <th>1</th>\\n      <td>Bot:</td>\\n      <td>answer</td>\\n    </tr>\\n  </tbody>\\n</table>'"
            ]
          },
          "metadata": {
            "tags": []
          },
          "execution_count": 44
        }
      ]
    },
    {
      "cell_type": "code",
      "metadata": {
        "id": "OYbOkOhC770x"
      },
      "source": [
        "st = df_chat.style\n"
      ],
      "execution_count": 45,
      "outputs": []
    }
  ]
}